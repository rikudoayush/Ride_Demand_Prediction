{
  "nbformat": 4,
  "nbformat_minor": 0,
  "metadata": {
    "colab": {
      "name": "Untitled4.ipynb",
      "provenance": []
    },
    "kernelspec": {
      "name": "python3",
      "display_name": "Python 3"
    },
    "accelerator": "GPU"
  },
  "cells": [
    {
      "cell_type": "code",
      "metadata": {
        "id": "PyNTohNgYsUp",
        "colab_type": "code",
        "outputId": "e2016a43-f942-4c5c-d583-65dd7bb5b153",
        "colab": {
          "base_uri": "https://localhost:8080/",
          "height": 120
        }
      },
      "source": [
        "from google.colab import drive\n",
        "drive.mount('/content/drive')"
      ],
      "execution_count": 0,
      "outputs": [
        {
          "output_type": "stream",
          "text": [
            "Go to this URL in a browser: https://accounts.google.com/o/oauth2/auth?client_id=947318989803-6bn6qk8qdgf4n4g3pfee6491hc0brc4i.apps.googleusercontent.com&redirect_uri=urn%3aietf%3awg%3aoauth%3a2.0%3aoob&response_type=code&scope=email%20https%3a%2f%2fwww.googleapis.com%2fauth%2fdocs.test%20https%3a%2f%2fwww.googleapis.com%2fauth%2fdrive%20https%3a%2f%2fwww.googleapis.com%2fauth%2fdrive.photos.readonly%20https%3a%2f%2fwww.googleapis.com%2fauth%2fpeopleapi.readonly\n",
            "\n",
            "Enter your authorization code:\n",
            "··········\n",
            "Mounted at /content/drive\n"
          ],
          "name": "stdout"
        }
      ]
    },
    {
      "cell_type": "code",
      "metadata": {
        "id": "TdOEe2UdY33G",
        "colab_type": "code",
        "colab": {}
      },
      "source": [
        "import pandas as pd\n",
        "import os\n",
        "from tqdm import tqdm\n",
        "import matplotlib.pyplot as plt\n",
        "%matplotlib inline\n",
        "from h3 import h3\n",
        "from folium import Map, Marker, GeoJson\n",
        "\n",
        "from folium import Map, Marker, GeoJson\n",
        "from folium.plugins import MarkerCluster\n",
        "import branca.colormap as cm\n",
        "from branca.colormap import linear\n",
        "import folium\n",
        "import json\n",
        "import pandas as pd\n",
        "from pandas.io.json import json_normalize\n",
        "import numpy as np\n",
        "\n",
        "import statistics\n",
        "\n",
        "from geojson.feature import *\n",
        "from area import area\n",
        "\n",
        "import copy\n",
        "from IPython.display import Image, display\n",
        "from IPython.utils.text import columnize\n",
        "import warnings\n",
        "warnings.filterwarnings('ignore')"
      ],
      "execution_count": 0,
      "outputs": []
    },
    {
      "cell_type": "code",
      "metadata": {
        "id": "_D_n25t5dllO",
        "colab_type": "code",
        "outputId": "d3a023fa-b7f0-4ff5-9bf3-99eafea74e96",
        "colab": {
          "base_uri": "https://localhost:8080/",
          "height": 167
        }
      },
      "source": [
        "!pip install h3"
      ],
      "execution_count": 0,
      "outputs": [
        {
          "output_type": "stream",
          "text": [
            "Collecting h3\n",
            "  Downloading https://files.pythonhosted.org/packages/98/2a/704b2db80465ce3a412d6c94f1c1658cffbbb4e76c5c03bb133f588cc131/h3-3.4.3.tar.gz\n",
            "Building wheels for collected packages: h3\n",
            "  Building wheel for h3 (setup.py) ... \u001b[?25l\u001b[?25hdone\n",
            "  Created wheel for h3: filename=h3-3.4.3-cp36-cp36m-linux_x86_64.whl size=81858 sha256=4aac7e7d90ac97e1749633b722ca43759bb435714e5fbbef47f1f67c4d1022d8\n",
            "  Stored in directory: /root/.cache/pip/wheels/7f/8e/74/c5ae2b6a5e3f28239b9bea822e38a08075a5eb05589a0d2a7c\n",
            "Successfully built h3\n",
            "Installing collected packages: h3\n",
            "Successfully installed h3-3.4.3\n"
          ],
          "name": "stdout"
        }
      ]
    },
    {
      "cell_type": "code",
      "metadata": {
        "id": "XlypbRGjRtXA",
        "colab_type": "code",
        "outputId": "10786f64-2ab5-4c83-d3d1-cd0e2694d097",
        "colab": {
          "base_uri": "https://localhost:8080/",
          "height": 84
        }
      },
      "source": [
        "!pip install geojson"
      ],
      "execution_count": 0,
      "outputs": [
        {
          "output_type": "stream",
          "text": [
            "Collecting geojson\n",
            "  Downloading https://files.pythonhosted.org/packages/e4/8d/9e28e9af95739e6d2d2f8d4bef0b3432da40b7c3588fbad4298c1be09e48/geojson-2.5.0-py2.py3-none-any.whl\n",
            "Installing collected packages: geojson\n",
            "Successfully installed geojson-2.5.0\n"
          ],
          "name": "stdout"
        }
      ]
    },
    {
      "cell_type": "code",
      "metadata": {
        "id": "SlCzrbl0RdGp",
        "colab_type": "code",
        "outputId": "d144d63f-bc02-4181-d279-9399473ec29a",
        "colab": {
          "base_uri": "https://localhost:8080/",
          "height": 167
        }
      },
      "source": [
        "!pip install area"
      ],
      "execution_count": 0,
      "outputs": [
        {
          "output_type": "stream",
          "text": [
            "Collecting area\n",
            "  Downloading https://files.pythonhosted.org/packages/f4/1b/9e434947304bafaeca6a5760272ded9b43edbcadfe9f15116596b4d6b7eb/area-1.1.1.tar.gz\n",
            "Building wheels for collected packages: area\n",
            "  Building wheel for area (setup.py) ... \u001b[?25l\u001b[?25hdone\n",
            "  Created wheel for area: filename=area-1.1.1-cp36-none-any.whl size=3609 sha256=c4c5b944e8ce8440e293cb27744d4c4824e90800ace5042948af0744863d3ac8\n",
            "  Stored in directory: /root/.cache/pip/wheels/66/c0/12/b2ef12e07a617ba6f7aaeb32348ea6f14205cc1985f51a134e\n",
            "Successfully built area\n",
            "Installing collected packages: area\n",
            "Successfully installed area-1.1.1\n"
          ],
          "name": "stdout"
        }
      ]
    },
    {
      "cell_type": "code",
      "metadata": {
        "id": "gn3ivmwNY6jA",
        "colab_type": "code",
        "outputId": "f43c3818-4e73-42ba-9aea-8b5bc1bc62b4",
        "colab": {
          "base_uri": "https://localhost:8080/",
          "height": 413
        }
      },
      "source": [
        "data = pd.read_csv('/content/drive/My Drive/BERT/testRideData.csv')\n",
        "data.head()"
      ],
      "execution_count": 0,
      "outputs": [
        {
          "output_type": "execute_result",
          "data": {
            "text/html": [
              "<div>\n",
              "<style scoped>\n",
              "    .dataframe tbody tr th:only-of-type {\n",
              "        vertical-align: middle;\n",
              "    }\n",
              "\n",
              "    .dataframe tbody tr th {\n",
              "        vertical-align: top;\n",
              "    }\n",
              "\n",
              "    .dataframe thead th {\n",
              "        text-align: right;\n",
              "    }\n",
              "</style>\n",
              "<table border=\"1\" class=\"dataframe\">\n",
              "  <thead>\n",
              "    <tr style=\"text-align: right;\">\n",
              "      <th></th>\n",
              "      <th>acceptedDriverData/driverId</th>\n",
              "      <th>acceptedTime</th>\n",
              "      <th>customerComments</th>\n",
              "      <th>destination/latitude</th>\n",
              "      <th>destination/longitude</th>\n",
              "      <th>destinationLocationEnglish</th>\n",
              "      <th>destinationLocationHindi</th>\n",
              "      <th>driverId</th>\n",
              "      <th>driverMobile</th>\n",
              "      <th>driversArray/0/7vT2uLlCWKT6tcpvepXE5Tb7nFe2/distance</th>\n",
              "      <th>driversArray/0/7vT2uLlCWKT6tcpvepXE5Tb7nFe2/location/0</th>\n",
              "      <th>driversArray/0/7vT2uLlCWKT6tcpvepXE5Tb7nFe2/location/1</th>\n",
              "      <th>driversArray/0/7vT2uLlCWKT6tcpvepXE5Tb7nFe2/time</th>\n",
              "      <th>endTime</th>\n",
              "      <th>invoiceId</th>\n",
              "      <th>otpValue</th>\n",
              "      <th>paymentId</th>\n",
              "      <th>paymentMode</th>\n",
              "      <th>projectRideDistance</th>\n",
              "      <th>projectedPickUpTime</th>\n",
              "      <th>projectedRideCost</th>\n",
              "      <th>projectedRideCostWithOffer</th>\n",
              "      <th>projectedRideTime</th>\n",
              "      <th>requestedTime</th>\n",
              "      <th>rideId</th>\n",
              "      <th>riderId</th>\n",
              "      <th>riderInvoiceId</th>\n",
              "      <th>riderMobile</th>\n",
              "      <th>riderName</th>\n",
              "      <th>riderPaymentId</th>\n",
              "      <th>riderRating</th>\n",
              "      <th>source/latitude</th>\n",
              "      <th>source/longitude</th>\n",
              "      <th>sourceLocationEnglish</th>\n",
              "      <th>sourceLocationHindi</th>\n",
              "      <th>startTime</th>\n",
              "      <th>startedDriverData/datetime</th>\n",
              "      <th>startedDriverData/driverId</th>\n",
              "      <th>startedDriverData/latitude</th>\n",
              "      <th>startedDriverData/longitude</th>\n",
              "      <th>...</th>\n",
              "      <th>responses/1578490159665/dXJq62VDE2ZFdsCTIcBfARXB2b82</th>\n",
              "      <th>responses/1578494729177/Gt9KOFgWwcPiUdrohkgAUFoDiXD2</th>\n",
              "      <th>responses/1578495002666/Gt9KOFgWwcPiUdrohkgAUFoDiXD2</th>\n",
              "      <th>responses/1578495405978/Gt9KOFgWwcPiUdrohkgAUFoDiXD2</th>\n",
              "      <th>responses/1578495493781/Gt9KOFgWwcPiUdrohkgAUFoDiXD2</th>\n",
              "      <th>responses/1578495534886/Gt9KOFgWwcPiUdrohkgAUFoDiXD2</th>\n",
              "      <th>responses/1578495747898/Gt9KOFgWwcPiUdrohkgAUFoDiXD2</th>\n",
              "      <th>responses/1578495869888/Gt9KOFgWwcPiUdrohkgAUFoDiXD2</th>\n",
              "      <th>responses/1578495927186/Gt9KOFgWwcPiUdrohkgAUFoDiXD2</th>\n",
              "      <th>responses/1578496044885/Gt9KOFgWwcPiUdrohkgAUFoDiXD2</th>\n",
              "      <th>responses/1578496093277/Gt9KOFgWwcPiUdrohkgAUFoDiXD2</th>\n",
              "      <th>responses/1578578788782/Gt9KOFgWwcPiUdrohkgAUFoDiXD2</th>\n",
              "      <th>responses/1578581945784/7vT2uLlCWKT6tcpvepXE5Tb7nFe2</th>\n",
              "      <th>responses/1578639799444/7vT2uLlCWKT6tcpvepXE5Tb7nFe2</th>\n",
              "      <th>responses/1578741858596/Gt9KOFgWwcPiUdrohkgAUFoDiXD2</th>\n",
              "      <th>responses/1579007570552/Gt9KOFgWwcPiUdrohkgAUFoDiXD2</th>\n",
              "      <th>responses/1579074449024/7vT2uLlCWKT6tcpvepXE5Tb7nFe2</th>\n",
              "      <th>responses/1579095773022/Gt9KOFgWwcPiUdrohkgAUFoDiXD2</th>\n",
              "      <th>responses/1579166864065/Gt9KOFgWwcPiUdrohkgAUFoDiXD2</th>\n",
              "      <th>driversArray/2/Gt9KOFgWwcPiUdrohkgAUFoDiXD2/distance</th>\n",
              "      <th>driversArray/2/Gt9KOFgWwcPiUdrohkgAUFoDiXD2/location/0</th>\n",
              "      <th>driversArray/2/Gt9KOFgWwcPiUdrohkgAUFoDiXD2/location/1</th>\n",
              "      <th>driversArray/2/Gt9KOFgWwcPiUdrohkgAUFoDiXD2/time</th>\n",
              "      <th>responses/1579176048381/7vT2uLlCWKT6tcpvepXE5Tb7nFe2</th>\n",
              "      <th>responses/1579189939374/7vT2uLlCWKT6tcpvepXE5Tb7nFe2</th>\n",
              "      <th>responses/1579191425669/7vT2uLlCWKT6tcpvepXE5Tb7nFe2</th>\n",
              "      <th>responses/1579249101464/7vT2uLlCWKT6tcpvepXE5Tb7nFe2</th>\n",
              "      <th>responses/1579249107642/Gt9KOFgWwcPiUdrohkgAUFoDiXD2</th>\n",
              "      <th>responses/1579249170185/Gt9KOFgWwcPiUdrohkgAUFoDiXD2</th>\n",
              "      <th>responses/1579249177236/7vT2uLlCWKT6tcpvepXE5Tb7nFe2</th>\n",
              "      <th>responses/1579250131760/7vT2uLlCWKT6tcpvepXE5Tb7nFe2</th>\n",
              "      <th>responses/1579251135716/Gt9KOFgWwcPiUdrohkgAUFoDiXD2</th>\n",
              "      <th>responses/1579253802416/Gt9KOFgWwcPiUdrohkgAUFoDiXD2</th>\n",
              "      <th>responses/1579253800977/Gt9KOFgWwcPiUdrohkgAUFoDiXD2</th>\n",
              "      <th>responses/1579254052326/Gt9KOFgWwcPiUdrohkgAUFoDiXD2</th>\n",
              "      <th>responses/1579254379221/Gt9KOFgWwcPiUdrohkgAUFoDiXD2</th>\n",
              "      <th>responses/1579254473606/Gt9KOFgWwcPiUdrohkgAUFoDiXD2</th>\n",
              "      <th>responses/1579254618196/Gt9KOFgWwcPiUdrohkgAUFoDiXD2</th>\n",
              "      <th>responses/1579757911919/7vT2uLlCWKT6tcpvepXE5Tb7nFe2</th>\n",
              "      <th>responses/1579771490451/7vT2uLlCWKT6tcpvepXE5Tb7nFe2</th>\n",
              "    </tr>\n",
              "  </thead>\n",
              "  <tbody>\n",
              "    <tr>\n",
              "      <th>0</th>\n",
              "      <td>7vT2uLlCWKT6tcpvepXE5Tb7nFe2</td>\n",
              "      <td>2019-05-06 21:34:41</td>\n",
              "      <td>NaN</td>\n",
              "      <td>28.685740</td>\n",
              "      <td>77.206383</td>\n",
              "      <td>Ramjas College</td>\n",
              "      <td>रामजस कॉलेज</td>\n",
              "      <td>7vT2uLlCWKT6tcpvepXE5Tb7nFe2</td>\n",
              "      <td>9876543210</td>\n",
              "      <td>1.787755</td>\n",
              "      <td>28.694162</td>\n",
              "      <td>77.189727</td>\n",
              "      <td>631.0</td>\n",
              "      <td>2019-05-06 21:35:19</td>\n",
              "      <td>-LeCt0L8PqXL491I7YGn</td>\n",
              "      <td>774</td>\n",
              "      <td>-LeCt61DF-A2B7uF4Pu6</td>\n",
              "      <td>cash</td>\n",
              "      <td>1.79 km</td>\n",
              "      <td>631.0</td>\n",
              "      <td>25.00</td>\n",
              "      <td>30.00</td>\n",
              "      <td>6 mins</td>\n",
              "      <td>2019-05-06 21:34:37</td>\n",
              "      <td>-LeCswkVZouYyOfuzfsQ</td>\n",
              "      <td>6MargTYvX3gMIxoBFr0nz5skr1K3</td>\n",
              "      <td>-LeCt0L8PqXL491I7YGo</td>\n",
              "      <td>8.368318e+09</td>\n",
              "      <td>NaN</td>\n",
              "      <td>-LeCt62f5Rtbnh-PsxKL</td>\n",
              "      <td>3.5</td>\n",
              "      <td>28.698443</td>\n",
              "      <td>77.207394</td>\n",
              "      <td>11, Banda Bahadur Marg, Outram Lines, Mukherje...</td>\n",
              "      <td>11, बंदा बहादुर मार्ग, आउट्राम लाइन्स, मुखर्जी...</td>\n",
              "      <td>2019-05-06 21:34:56</td>\n",
              "      <td>2019-05-06 21:34:00</td>\n",
              "      <td>7vT2uLlCWKT6tcpvepXE5Tb7nFe2</td>\n",
              "      <td>28.694188</td>\n",
              "      <td>77.189562</td>\n",
              "      <td>...</td>\n",
              "      <td>NaN</td>\n",
              "      <td>NaN</td>\n",
              "      <td>NaN</td>\n",
              "      <td>NaN</td>\n",
              "      <td>NaN</td>\n",
              "      <td>NaN</td>\n",
              "      <td>NaN</td>\n",
              "      <td>NaN</td>\n",
              "      <td>NaN</td>\n",
              "      <td>NaN</td>\n",
              "      <td>NaN</td>\n",
              "      <td>NaN</td>\n",
              "      <td>NaN</td>\n",
              "      <td>NaN</td>\n",
              "      <td>NaN</td>\n",
              "      <td>NaN</td>\n",
              "      <td>NaN</td>\n",
              "      <td>NaN</td>\n",
              "      <td>NaN</td>\n",
              "      <td>NaN</td>\n",
              "      <td>NaN</td>\n",
              "      <td>NaN</td>\n",
              "      <td>NaN</td>\n",
              "      <td>NaN</td>\n",
              "      <td>NaN</td>\n",
              "      <td>NaN</td>\n",
              "      <td>NaN</td>\n",
              "      <td>NaN</td>\n",
              "      <td>NaN</td>\n",
              "      <td>NaN</td>\n",
              "      <td>NaN</td>\n",
              "      <td>NaN</td>\n",
              "      <td>NaN</td>\n",
              "      <td>NaN</td>\n",
              "      <td>NaN</td>\n",
              "      <td>NaN</td>\n",
              "      <td>NaN</td>\n",
              "      <td>NaN</td>\n",
              "      <td>NaN</td>\n",
              "      <td>NaN</td>\n",
              "    </tr>\n",
              "    <tr>\n",
              "      <th>1</th>\n",
              "      <td>7vT2uLlCWKT6tcpvepXE5Tb7nFe2</td>\n",
              "      <td>2019-05-06 21:48:23</td>\n",
              "      <td>NaN</td>\n",
              "      <td>28.685740</td>\n",
              "      <td>77.206383</td>\n",
              "      <td>Ramjas College</td>\n",
              "      <td>रामजस कॉलेज</td>\n",
              "      <td>7vT2uLlCWKT6tcpvepXE5Tb7nFe2</td>\n",
              "      <td>9876543210</td>\n",
              "      <td>1.787761</td>\n",
              "      <td>28.694153</td>\n",
              "      <td>77.189730</td>\n",
              "      <td>631.0</td>\n",
              "      <td>2019-05-06 21:50:57</td>\n",
              "      <td>-LeCwLXMwfkcuv8mknV3</td>\n",
              "      <td>869</td>\n",
              "      <td>-LeCwfVlIXmrkiVLPE-9</td>\n",
              "      <td>cash</td>\n",
              "      <td>1.79 km</td>\n",
              "      <td>631.0</td>\n",
              "      <td>25.00</td>\n",
              "      <td>30.00</td>\n",
              "      <td>6 mins</td>\n",
              "      <td>2019-05-06 21:48:21</td>\n",
              "      <td>-LeCw4GZwwIbwcS6e_ID</td>\n",
              "      <td>6MargTYvX3gMIxoBFr0nz5skr1K3</td>\n",
              "      <td>-LeCwLXN5PeQuI1s3UMj</td>\n",
              "      <td>8.368318e+09</td>\n",
              "      <td>NaN</td>\n",
              "      <td>-LeCwfVmI_st7R6Mgsch</td>\n",
              "      <td>3.5</td>\n",
              "      <td>28.698443</td>\n",
              "      <td>77.207394</td>\n",
              "      <td>11, Banda Bahadur Marg, Outram Lines, Mukherje...</td>\n",
              "      <td>11, बंदा बहादुर मार्ग, आउट्राम लाइन्स, मुखर्जी...</td>\n",
              "      <td>2019-05-06 21:49:32</td>\n",
              "      <td>2019-05-06 21:48:00</td>\n",
              "      <td>7vT2uLlCWKT6tcpvepXE5Tb7nFe2</td>\n",
              "      <td>28.694144</td>\n",
              "      <td>77.189718</td>\n",
              "      <td>...</td>\n",
              "      <td>NaN</td>\n",
              "      <td>NaN</td>\n",
              "      <td>NaN</td>\n",
              "      <td>NaN</td>\n",
              "      <td>NaN</td>\n",
              "      <td>NaN</td>\n",
              "      <td>NaN</td>\n",
              "      <td>NaN</td>\n",
              "      <td>NaN</td>\n",
              "      <td>NaN</td>\n",
              "      <td>NaN</td>\n",
              "      <td>NaN</td>\n",
              "      <td>NaN</td>\n",
              "      <td>NaN</td>\n",
              "      <td>NaN</td>\n",
              "      <td>NaN</td>\n",
              "      <td>NaN</td>\n",
              "      <td>NaN</td>\n",
              "      <td>NaN</td>\n",
              "      <td>NaN</td>\n",
              "      <td>NaN</td>\n",
              "      <td>NaN</td>\n",
              "      <td>NaN</td>\n",
              "      <td>NaN</td>\n",
              "      <td>NaN</td>\n",
              "      <td>NaN</td>\n",
              "      <td>NaN</td>\n",
              "      <td>NaN</td>\n",
              "      <td>NaN</td>\n",
              "      <td>NaN</td>\n",
              "      <td>NaN</td>\n",
              "      <td>NaN</td>\n",
              "      <td>NaN</td>\n",
              "      <td>NaN</td>\n",
              "      <td>NaN</td>\n",
              "      <td>NaN</td>\n",
              "      <td>NaN</td>\n",
              "      <td>NaN</td>\n",
              "      <td>NaN</td>\n",
              "      <td>NaN</td>\n",
              "    </tr>\n",
              "    <tr>\n",
              "      <th>2</th>\n",
              "      <td>7vT2uLlCWKT6tcpvepXE5Tb7nFe2</td>\n",
              "      <td>2019-05-07 11:36:10</td>\n",
              "      <td>NaN</td>\n",
              "      <td>28.685740</td>\n",
              "      <td>77.206383</td>\n",
              "      <td>Ramjas College</td>\n",
              "      <td>रामजस कॉलेज</td>\n",
              "      <td>7vT2uLlCWKT6tcpvepXE5Tb7nFe2</td>\n",
              "      <td>9876543210</td>\n",
              "      <td>0.144606</td>\n",
              "      <td>28.698000</td>\n",
              "      <td>77.206000</td>\n",
              "      <td>123.0</td>\n",
              "      <td>2019-05-07 11:36:43</td>\n",
              "      <td>-LeFtcddkFsmfab0LtaE</td>\n",
              "      <td>536</td>\n",
              "      <td>-LeFtfX5dO2he9Ry_qg5</td>\n",
              "      <td>cash</td>\n",
              "      <td>1.79 km</td>\n",
              "      <td>123.0</td>\n",
              "      <td>25.00</td>\n",
              "      <td>30.00</td>\n",
              "      <td>6 mins</td>\n",
              "      <td>2019-05-07 11:36:06</td>\n",
              "      <td>-LeFtXerTFO0xQ98koNV</td>\n",
              "      <td>6MargTYvX3gMIxoBFr0nz5skr1K3</td>\n",
              "      <td>-LeFtcdhyV0EVa5bj1s1</td>\n",
              "      <td>8.368318e+09</td>\n",
              "      <td>NaN</td>\n",
              "      <td>-LeFtfX6H8Ius2GdH6WP</td>\n",
              "      <td>3.5</td>\n",
              "      <td>28.698443</td>\n",
              "      <td>77.207394</td>\n",
              "      <td>11, Banda Bahadur Marg, Outram Lines, Mukherje...</td>\n",
              "      <td>11, बंदा बहादुर मार्ग, आउट्राम लाइन्स, मुखर्जी...</td>\n",
              "      <td>2019-05-07 11:36:31</td>\n",
              "      <td>2019-05-07 11:36:00</td>\n",
              "      <td>7vT2uLlCWKT6tcpvepXE5Tb7nFe2</td>\n",
              "      <td>28.698000</td>\n",
              "      <td>77.206000</td>\n",
              "      <td>...</td>\n",
              "      <td>NaN</td>\n",
              "      <td>NaN</td>\n",
              "      <td>NaN</td>\n",
              "      <td>NaN</td>\n",
              "      <td>NaN</td>\n",
              "      <td>NaN</td>\n",
              "      <td>NaN</td>\n",
              "      <td>NaN</td>\n",
              "      <td>NaN</td>\n",
              "      <td>NaN</td>\n",
              "      <td>NaN</td>\n",
              "      <td>NaN</td>\n",
              "      <td>NaN</td>\n",
              "      <td>NaN</td>\n",
              "      <td>NaN</td>\n",
              "      <td>NaN</td>\n",
              "      <td>NaN</td>\n",
              "      <td>NaN</td>\n",
              "      <td>NaN</td>\n",
              "      <td>NaN</td>\n",
              "      <td>NaN</td>\n",
              "      <td>NaN</td>\n",
              "      <td>NaN</td>\n",
              "      <td>NaN</td>\n",
              "      <td>NaN</td>\n",
              "      <td>NaN</td>\n",
              "      <td>NaN</td>\n",
              "      <td>NaN</td>\n",
              "      <td>NaN</td>\n",
              "      <td>NaN</td>\n",
              "      <td>NaN</td>\n",
              "      <td>NaN</td>\n",
              "      <td>NaN</td>\n",
              "      <td>NaN</td>\n",
              "      <td>NaN</td>\n",
              "      <td>NaN</td>\n",
              "      <td>NaN</td>\n",
              "      <td>NaN</td>\n",
              "      <td>NaN</td>\n",
              "      <td>NaN</td>\n",
              "    </tr>\n",
              "    <tr>\n",
              "      <th>3</th>\n",
              "      <td>7vT2uLlCWKT6tcpvepXE5Tb7nFe2</td>\n",
              "      <td>2019-05-07 21:19:20</td>\n",
              "      <td>NaN</td>\n",
              "      <td>28.683289</td>\n",
              "      <td>77.203283</td>\n",
              "      <td>33-e, Block E, Kamla Nagar, Delhi, 110007, India</td>\n",
              "      <td>33-ई, ब्लॉक ई, कमला नगर, दिल्ली, 110007, भारत</td>\n",
              "      <td>7vT2uLlCWKT6tcpvepXE5Tb7nFe2</td>\n",
              "      <td>9876543210</td>\n",
              "      <td>0.707419</td>\n",
              "      <td>28.686240</td>\n",
              "      <td>77.195145</td>\n",
              "      <td>202.0</td>\n",
              "      <td>2019-05-07 21:20:10</td>\n",
              "      <td>-LeHz6Q_jvPZDCsGNIt5</td>\n",
              "      <td>442</td>\n",
              "      <td>-LeHzDncje_POmTobyyV</td>\n",
              "      <td>cash</td>\n",
              "      <td>2.15 km</td>\n",
              "      <td>202.0</td>\n",
              "      <td>26.48</td>\n",
              "      <td>31.78</td>\n",
              "      <td>8 mins</td>\n",
              "      <td>2019-05-07 21:19:13</td>\n",
              "      <td>-LeHz-xk1_J-WmVElPUH</td>\n",
              "      <td>zBoOFyivDISeabYpGUzCNKe3By52</td>\n",
              "      <td>-LeHz6Qbx_On8I6rnHEa</td>\n",
              "      <td>5.544332e+09</td>\n",
              "      <td>Virendra</td>\n",
              "      <td>-LeHzDndreo-VfakyYvx</td>\n",
              "      <td>3.5</td>\n",
              "      <td>28.692583</td>\n",
              "      <td>77.194582</td>\n",
              "      <td>5A, Bhama Shah Marg, Near Gurudwara Nanak Piao...</td>\n",
              "      <td>5A, भामा शाह मार्ग, गुरुद्वारा नानक प्याऊ के प...</td>\n",
              "      <td>2019-05-07 21:19:40</td>\n",
              "      <td>2019-05-07 21:18:00</td>\n",
              "      <td>7vT2uLlCWKT6tcpvepXE5Tb7nFe2</td>\n",
              "      <td>28.689111</td>\n",
              "      <td>77.194208</td>\n",
              "      <td>...</td>\n",
              "      <td>NaN</td>\n",
              "      <td>NaN</td>\n",
              "      <td>NaN</td>\n",
              "      <td>NaN</td>\n",
              "      <td>NaN</td>\n",
              "      <td>NaN</td>\n",
              "      <td>NaN</td>\n",
              "      <td>NaN</td>\n",
              "      <td>NaN</td>\n",
              "      <td>NaN</td>\n",
              "      <td>NaN</td>\n",
              "      <td>NaN</td>\n",
              "      <td>NaN</td>\n",
              "      <td>NaN</td>\n",
              "      <td>NaN</td>\n",
              "      <td>NaN</td>\n",
              "      <td>NaN</td>\n",
              "      <td>NaN</td>\n",
              "      <td>NaN</td>\n",
              "      <td>NaN</td>\n",
              "      <td>NaN</td>\n",
              "      <td>NaN</td>\n",
              "      <td>NaN</td>\n",
              "      <td>NaN</td>\n",
              "      <td>NaN</td>\n",
              "      <td>NaN</td>\n",
              "      <td>NaN</td>\n",
              "      <td>NaN</td>\n",
              "      <td>NaN</td>\n",
              "      <td>NaN</td>\n",
              "      <td>NaN</td>\n",
              "      <td>NaN</td>\n",
              "      <td>NaN</td>\n",
              "      <td>NaN</td>\n",
              "      <td>NaN</td>\n",
              "      <td>NaN</td>\n",
              "      <td>NaN</td>\n",
              "      <td>NaN</td>\n",
              "      <td>NaN</td>\n",
              "      <td>NaN</td>\n",
              "    </tr>\n",
              "    <tr>\n",
              "      <th>4</th>\n",
              "      <td>7vT2uLlCWKT6tcpvepXE5Tb7nFe2</td>\n",
              "      <td>2019-05-08 14:56:55</td>\n",
              "      <td>NaN</td>\n",
              "      <td>28.685740</td>\n",
              "      <td>77.206383</td>\n",
              "      <td>Ramjas College</td>\n",
              "      <td>रामजस कॉलेज</td>\n",
              "      <td>7vT2uLlCWKT6tcpvepXE5Tb7nFe2</td>\n",
              "      <td>9876543210</td>\n",
              "      <td>1.361037</td>\n",
              "      <td>28.702165</td>\n",
              "      <td>77.194101</td>\n",
              "      <td>322.0</td>\n",
              "      <td>2019-05-08 14:57:12</td>\n",
              "      <td>-LeLl871sY1idJkvELUL</td>\n",
              "      <td>572</td>\n",
              "      <td>-LeLl9BpsxBizqo1kcyg</td>\n",
              "      <td>cash</td>\n",
              "      <td>1.79 km</td>\n",
              "      <td>322.0</td>\n",
              "      <td>25.00</td>\n",
              "      <td>37.50</td>\n",
              "      <td>6 mins</td>\n",
              "      <td>2019-05-08 14:56:48</td>\n",
              "      <td>-LeLl3MOWkj-yV9jXqtB</td>\n",
              "      <td>6MargTYvX3gMIxoBFr0nz5skr1K3</td>\n",
              "      <td>-LeLl871sY1idJkvELUM</td>\n",
              "      <td>8.368318e+09</td>\n",
              "      <td>Virendra</td>\n",
              "      <td>-LeLl9BpsxBizqo1kcyh</td>\n",
              "      <td>3.5</td>\n",
              "      <td>28.698443</td>\n",
              "      <td>77.207394</td>\n",
              "      <td>11, Banda Bahadur Marg, Outram Lines, Mukherje...</td>\n",
              "      <td>11, बंदा बहादुर मार्ग, आउट्राम लाइन्स, मुखर्जी...</td>\n",
              "      <td>2019-05-08 14:57:07</td>\n",
              "      <td>2019-05-08 14:56:01</td>\n",
              "      <td>7vT2uLlCWKT6tcpvepXE5Tb7nFe2</td>\n",
              "      <td>28.702165</td>\n",
              "      <td>77.194101</td>\n",
              "      <td>...</td>\n",
              "      <td>NaN</td>\n",
              "      <td>NaN</td>\n",
              "      <td>NaN</td>\n",
              "      <td>NaN</td>\n",
              "      <td>NaN</td>\n",
              "      <td>NaN</td>\n",
              "      <td>NaN</td>\n",
              "      <td>NaN</td>\n",
              "      <td>NaN</td>\n",
              "      <td>NaN</td>\n",
              "      <td>NaN</td>\n",
              "      <td>NaN</td>\n",
              "      <td>NaN</td>\n",
              "      <td>NaN</td>\n",
              "      <td>NaN</td>\n",
              "      <td>NaN</td>\n",
              "      <td>NaN</td>\n",
              "      <td>NaN</td>\n",
              "      <td>NaN</td>\n",
              "      <td>NaN</td>\n",
              "      <td>NaN</td>\n",
              "      <td>NaN</td>\n",
              "      <td>NaN</td>\n",
              "      <td>NaN</td>\n",
              "      <td>NaN</td>\n",
              "      <td>NaN</td>\n",
              "      <td>NaN</td>\n",
              "      <td>NaN</td>\n",
              "      <td>NaN</td>\n",
              "      <td>NaN</td>\n",
              "      <td>NaN</td>\n",
              "      <td>NaN</td>\n",
              "      <td>NaN</td>\n",
              "      <td>NaN</td>\n",
              "      <td>NaN</td>\n",
              "      <td>NaN</td>\n",
              "      <td>NaN</td>\n",
              "      <td>NaN</td>\n",
              "      <td>NaN</td>\n",
              "      <td>NaN</td>\n",
              "    </tr>\n",
              "  </tbody>\n",
              "</table>\n",
              "<p>5 rows × 502 columns</p>\n",
              "</div>"
            ],
            "text/plain": [
              "    acceptedDriverData/driverId  ... responses/1579771490451/7vT2uLlCWKT6tcpvepXE5Tb7nFe2\n",
              "0  7vT2uLlCWKT6tcpvepXE5Tb7nFe2  ...                                                NaN  \n",
              "1  7vT2uLlCWKT6tcpvepXE5Tb7nFe2  ...                                                NaN  \n",
              "2  7vT2uLlCWKT6tcpvepXE5Tb7nFe2  ...                                                NaN  \n",
              "3  7vT2uLlCWKT6tcpvepXE5Tb7nFe2  ...                                                NaN  \n",
              "4  7vT2uLlCWKT6tcpvepXE5Tb7nFe2  ...                                                NaN  \n",
              "\n",
              "[5 rows x 502 columns]"
            ]
          },
          "metadata": {
            "tags": []
          },
          "execution_count": 6
        }
      ]
    },
    {
      "cell_type": "code",
      "metadata": {
        "id": "BYb8k3lVZLi6",
        "colab_type": "code",
        "outputId": "99f74400-511b-4d15-acd5-dad36f6be4c6",
        "colab": {
          "base_uri": "https://localhost:8080/",
          "height": 217
        }
      },
      "source": [
        "data.isnull().any()"
      ],
      "execution_count": 0,
      "outputs": [
        {
          "output_type": "execute_result",
          "data": {
            "text/plain": [
              "acceptedDriverData/driverId                             False\n",
              "acceptedTime                                            False\n",
              "customerComments                                         True\n",
              "destination/latitude                                    False\n",
              "destination/longitude                                   False\n",
              "                                                        ...  \n",
              "responses/1579254379221/Gt9KOFgWwcPiUdrohkgAUFoDiXD2     True\n",
              "responses/1579254473606/Gt9KOFgWwcPiUdrohkgAUFoDiXD2     True\n",
              "responses/1579254618196/Gt9KOFgWwcPiUdrohkgAUFoDiXD2     True\n",
              "responses/1579757911919/7vT2uLlCWKT6tcpvepXE5Tb7nFe2     True\n",
              "responses/1579771490451/7vT2uLlCWKT6tcpvepXE5Tb7nFe2     True\n",
              "Length: 502, dtype: bool"
            ]
          },
          "metadata": {
            "tags": []
          },
          "execution_count": 7
        }
      ]
    },
    {
      "cell_type": "code",
      "metadata": {
        "id": "N1jY5B_UZZEZ",
        "colab_type": "code",
        "outputId": "49bc8cba-1a56-4dbf-8bb7-660b9181e6f0",
        "colab": {
          "base_uri": "https://localhost:8080/",
          "height": 384
        }
      },
      "source": [
        "data1 = data.copy()\n",
        "data1 = data1.dropna(axis='columns')\n",
        "data1.head()"
      ],
      "execution_count": 0,
      "outputs": [
        {
          "output_type": "execute_result",
          "data": {
            "text/html": [
              "<div>\n",
              "<style scoped>\n",
              "    .dataframe tbody tr th:only-of-type {\n",
              "        vertical-align: middle;\n",
              "    }\n",
              "\n",
              "    .dataframe tbody tr th {\n",
              "        vertical-align: top;\n",
              "    }\n",
              "\n",
              "    .dataframe thead th {\n",
              "        text-align: right;\n",
              "    }\n",
              "</style>\n",
              "<table border=\"1\" class=\"dataframe\">\n",
              "  <thead>\n",
              "    <tr style=\"text-align: right;\">\n",
              "      <th></th>\n",
              "      <th>acceptedDriverData/driverId</th>\n",
              "      <th>acceptedTime</th>\n",
              "      <th>destination/latitude</th>\n",
              "      <th>destination/longitude</th>\n",
              "      <th>destinationLocationEnglish</th>\n",
              "      <th>destinationLocationHindi</th>\n",
              "      <th>driverId</th>\n",
              "      <th>driverMobile</th>\n",
              "      <th>endTime</th>\n",
              "      <th>invoiceId</th>\n",
              "      <th>otpValue</th>\n",
              "      <th>paymentId</th>\n",
              "      <th>paymentMode</th>\n",
              "      <th>projectRideDistance</th>\n",
              "      <th>projectedRideCost</th>\n",
              "      <th>projectedRideCostWithOffer</th>\n",
              "      <th>requestedTime</th>\n",
              "      <th>riderId</th>\n",
              "      <th>riderInvoiceId</th>\n",
              "      <th>riderPaymentId</th>\n",
              "      <th>source/latitude</th>\n",
              "      <th>source/longitude</th>\n",
              "      <th>sourceLocationEnglish</th>\n",
              "      <th>sourceLocationHindi</th>\n",
              "      <th>startTime</th>\n",
              "      <th>startedDriverData/datetime</th>\n",
              "      <th>startedDriverData/driverId</th>\n",
              "      <th>startedDriverData/latitude</th>\n",
              "      <th>startedDriverData/longitude</th>\n",
              "      <th>status</th>\n",
              "      <th>type</th>\n",
              "    </tr>\n",
              "  </thead>\n",
              "  <tbody>\n",
              "    <tr>\n",
              "      <th>0</th>\n",
              "      <td>7vT2uLlCWKT6tcpvepXE5Tb7nFe2</td>\n",
              "      <td>2019-05-06 21:34:41</td>\n",
              "      <td>28.685740</td>\n",
              "      <td>77.206383</td>\n",
              "      <td>Ramjas College</td>\n",
              "      <td>रामजस कॉलेज</td>\n",
              "      <td>7vT2uLlCWKT6tcpvepXE5Tb7nFe2</td>\n",
              "      <td>9876543210</td>\n",
              "      <td>2019-05-06 21:35:19</td>\n",
              "      <td>-LeCt0L8PqXL491I7YGn</td>\n",
              "      <td>774</td>\n",
              "      <td>-LeCt61DF-A2B7uF4Pu6</td>\n",
              "      <td>cash</td>\n",
              "      <td>1.79 km</td>\n",
              "      <td>25.00</td>\n",
              "      <td>30.00</td>\n",
              "      <td>2019-05-06 21:34:37</td>\n",
              "      <td>6MargTYvX3gMIxoBFr0nz5skr1K3</td>\n",
              "      <td>-LeCt0L8PqXL491I7YGo</td>\n",
              "      <td>-LeCt62f5Rtbnh-PsxKL</td>\n",
              "      <td>28.698443</td>\n",
              "      <td>77.207394</td>\n",
              "      <td>11, Banda Bahadur Marg, Outram Lines, Mukherje...</td>\n",
              "      <td>11, बंदा बहादुर मार्ग, आउट्राम लाइन्स, मुखर्जी...</td>\n",
              "      <td>2019-05-06 21:34:56</td>\n",
              "      <td>2019-05-06 21:34:00</td>\n",
              "      <td>7vT2uLlCWKT6tcpvepXE5Tb7nFe2</td>\n",
              "      <td>28.694188</td>\n",
              "      <td>77.189562</td>\n",
              "      <td>Trip Ended</td>\n",
              "      <td>Solo</td>\n",
              "    </tr>\n",
              "    <tr>\n",
              "      <th>1</th>\n",
              "      <td>7vT2uLlCWKT6tcpvepXE5Tb7nFe2</td>\n",
              "      <td>2019-05-06 21:48:23</td>\n",
              "      <td>28.685740</td>\n",
              "      <td>77.206383</td>\n",
              "      <td>Ramjas College</td>\n",
              "      <td>रामजस कॉलेज</td>\n",
              "      <td>7vT2uLlCWKT6tcpvepXE5Tb7nFe2</td>\n",
              "      <td>9876543210</td>\n",
              "      <td>2019-05-06 21:50:57</td>\n",
              "      <td>-LeCwLXMwfkcuv8mknV3</td>\n",
              "      <td>869</td>\n",
              "      <td>-LeCwfVlIXmrkiVLPE-9</td>\n",
              "      <td>cash</td>\n",
              "      <td>1.79 km</td>\n",
              "      <td>25.00</td>\n",
              "      <td>30.00</td>\n",
              "      <td>2019-05-06 21:48:21</td>\n",
              "      <td>6MargTYvX3gMIxoBFr0nz5skr1K3</td>\n",
              "      <td>-LeCwLXN5PeQuI1s3UMj</td>\n",
              "      <td>-LeCwfVmI_st7R6Mgsch</td>\n",
              "      <td>28.698443</td>\n",
              "      <td>77.207394</td>\n",
              "      <td>11, Banda Bahadur Marg, Outram Lines, Mukherje...</td>\n",
              "      <td>11, बंदा बहादुर मार्ग, आउट्राम लाइन्स, मुखर्जी...</td>\n",
              "      <td>2019-05-06 21:49:32</td>\n",
              "      <td>2019-05-06 21:48:00</td>\n",
              "      <td>7vT2uLlCWKT6tcpvepXE5Tb7nFe2</td>\n",
              "      <td>28.694144</td>\n",
              "      <td>77.189718</td>\n",
              "      <td>Trip Ended</td>\n",
              "      <td>Solo</td>\n",
              "    </tr>\n",
              "    <tr>\n",
              "      <th>2</th>\n",
              "      <td>7vT2uLlCWKT6tcpvepXE5Tb7nFe2</td>\n",
              "      <td>2019-05-07 11:36:10</td>\n",
              "      <td>28.685740</td>\n",
              "      <td>77.206383</td>\n",
              "      <td>Ramjas College</td>\n",
              "      <td>रामजस कॉलेज</td>\n",
              "      <td>7vT2uLlCWKT6tcpvepXE5Tb7nFe2</td>\n",
              "      <td>9876543210</td>\n",
              "      <td>2019-05-07 11:36:43</td>\n",
              "      <td>-LeFtcddkFsmfab0LtaE</td>\n",
              "      <td>536</td>\n",
              "      <td>-LeFtfX5dO2he9Ry_qg5</td>\n",
              "      <td>cash</td>\n",
              "      <td>1.79 km</td>\n",
              "      <td>25.00</td>\n",
              "      <td>30.00</td>\n",
              "      <td>2019-05-07 11:36:06</td>\n",
              "      <td>6MargTYvX3gMIxoBFr0nz5skr1K3</td>\n",
              "      <td>-LeFtcdhyV0EVa5bj1s1</td>\n",
              "      <td>-LeFtfX6H8Ius2GdH6WP</td>\n",
              "      <td>28.698443</td>\n",
              "      <td>77.207394</td>\n",
              "      <td>11, Banda Bahadur Marg, Outram Lines, Mukherje...</td>\n",
              "      <td>11, बंदा बहादुर मार्ग, आउट्राम लाइन्स, मुखर्जी...</td>\n",
              "      <td>2019-05-07 11:36:31</td>\n",
              "      <td>2019-05-07 11:36:00</td>\n",
              "      <td>7vT2uLlCWKT6tcpvepXE5Tb7nFe2</td>\n",
              "      <td>28.698000</td>\n",
              "      <td>77.206000</td>\n",
              "      <td>Trip Ended</td>\n",
              "      <td>Solo</td>\n",
              "    </tr>\n",
              "    <tr>\n",
              "      <th>3</th>\n",
              "      <td>7vT2uLlCWKT6tcpvepXE5Tb7nFe2</td>\n",
              "      <td>2019-05-07 21:19:20</td>\n",
              "      <td>28.683289</td>\n",
              "      <td>77.203283</td>\n",
              "      <td>33-e, Block E, Kamla Nagar, Delhi, 110007, India</td>\n",
              "      <td>33-ई, ब्लॉक ई, कमला नगर, दिल्ली, 110007, भारत</td>\n",
              "      <td>7vT2uLlCWKT6tcpvepXE5Tb7nFe2</td>\n",
              "      <td>9876543210</td>\n",
              "      <td>2019-05-07 21:20:10</td>\n",
              "      <td>-LeHz6Q_jvPZDCsGNIt5</td>\n",
              "      <td>442</td>\n",
              "      <td>-LeHzDncje_POmTobyyV</td>\n",
              "      <td>cash</td>\n",
              "      <td>2.15 km</td>\n",
              "      <td>26.48</td>\n",
              "      <td>31.78</td>\n",
              "      <td>2019-05-07 21:19:13</td>\n",
              "      <td>zBoOFyivDISeabYpGUzCNKe3By52</td>\n",
              "      <td>-LeHz6Qbx_On8I6rnHEa</td>\n",
              "      <td>-LeHzDndreo-VfakyYvx</td>\n",
              "      <td>28.692583</td>\n",
              "      <td>77.194582</td>\n",
              "      <td>5A, Bhama Shah Marg, Near Gurudwara Nanak Piao...</td>\n",
              "      <td>5A, भामा शाह मार्ग, गुरुद्वारा नानक प्याऊ के प...</td>\n",
              "      <td>2019-05-07 21:19:40</td>\n",
              "      <td>2019-05-07 21:18:00</td>\n",
              "      <td>7vT2uLlCWKT6tcpvepXE5Tb7nFe2</td>\n",
              "      <td>28.689111</td>\n",
              "      <td>77.194208</td>\n",
              "      <td>Trip Ended</td>\n",
              "      <td>Solo</td>\n",
              "    </tr>\n",
              "    <tr>\n",
              "      <th>4</th>\n",
              "      <td>7vT2uLlCWKT6tcpvepXE5Tb7nFe2</td>\n",
              "      <td>2019-05-08 14:56:55</td>\n",
              "      <td>28.685740</td>\n",
              "      <td>77.206383</td>\n",
              "      <td>Ramjas College</td>\n",
              "      <td>रामजस कॉलेज</td>\n",
              "      <td>7vT2uLlCWKT6tcpvepXE5Tb7nFe2</td>\n",
              "      <td>9876543210</td>\n",
              "      <td>2019-05-08 14:57:12</td>\n",
              "      <td>-LeLl871sY1idJkvELUL</td>\n",
              "      <td>572</td>\n",
              "      <td>-LeLl9BpsxBizqo1kcyg</td>\n",
              "      <td>cash</td>\n",
              "      <td>1.79 km</td>\n",
              "      <td>25.00</td>\n",
              "      <td>37.50</td>\n",
              "      <td>2019-05-08 14:56:48</td>\n",
              "      <td>6MargTYvX3gMIxoBFr0nz5skr1K3</td>\n",
              "      <td>-LeLl871sY1idJkvELUM</td>\n",
              "      <td>-LeLl9BpsxBizqo1kcyh</td>\n",
              "      <td>28.698443</td>\n",
              "      <td>77.207394</td>\n",
              "      <td>11, Banda Bahadur Marg, Outram Lines, Mukherje...</td>\n",
              "      <td>11, बंदा बहादुर मार्ग, आउट्राम लाइन्स, मुखर्जी...</td>\n",
              "      <td>2019-05-08 14:57:07</td>\n",
              "      <td>2019-05-08 14:56:01</td>\n",
              "      <td>7vT2uLlCWKT6tcpvepXE5Tb7nFe2</td>\n",
              "      <td>28.702165</td>\n",
              "      <td>77.194101</td>\n",
              "      <td>Trip Ended</td>\n",
              "      <td>Solo</td>\n",
              "    </tr>\n",
              "  </tbody>\n",
              "</table>\n",
              "</div>"
            ],
            "text/plain": [
              "    acceptedDriverData/driverId         acceptedTime  ...      status  type\n",
              "0  7vT2uLlCWKT6tcpvepXE5Tb7nFe2  2019-05-06 21:34:41  ...  Trip Ended  Solo\n",
              "1  7vT2uLlCWKT6tcpvepXE5Tb7nFe2  2019-05-06 21:48:23  ...  Trip Ended  Solo\n",
              "2  7vT2uLlCWKT6tcpvepXE5Tb7nFe2  2019-05-07 11:36:10  ...  Trip Ended  Solo\n",
              "3  7vT2uLlCWKT6tcpvepXE5Tb7nFe2  2019-05-07 21:19:20  ...  Trip Ended  Solo\n",
              "4  7vT2uLlCWKT6tcpvepXE5Tb7nFe2  2019-05-08 14:56:55  ...  Trip Ended  Solo\n",
              "\n",
              "[5 rows x 31 columns]"
            ]
          },
          "metadata": {
            "tags": []
          },
          "execution_count": 8
        }
      ]
    },
    {
      "cell_type": "code",
      "metadata": {
        "id": "iNkj5DiiZjIB",
        "colab_type": "code",
        "outputId": "6f32c962-0ea5-45e6-b36c-6ce952754673",
        "colab": {
          "base_uri": "https://localhost:8080/",
          "height": 33
        }
      },
      "source": [
        "data1.shape"
      ],
      "execution_count": 0,
      "outputs": [
        {
          "output_type": "execute_result",
          "data": {
            "text/plain": [
              "(1257, 31)"
            ]
          },
          "metadata": {
            "tags": []
          },
          "execution_count": 9
        }
      ]
    },
    {
      "cell_type": "code",
      "metadata": {
        "id": "n5T4gbogZlaG",
        "colab_type": "code",
        "outputId": "5d36e02a-3ca8-4a3b-99df-ed4741ffa6b1",
        "colab": {
          "base_uri": "https://localhost:8080/",
          "height": 217
        }
      },
      "source": [
        "data1.columns"
      ],
      "execution_count": 0,
      "outputs": [
        {
          "output_type": "execute_result",
          "data": {
            "text/plain": [
              "Index(['acceptedDriverData/driverId', 'acceptedTime', 'destination/latitude',\n",
              "       'destination/longitude', 'destinationLocationEnglish',\n",
              "       'destinationLocationHindi', 'driverId', 'driverMobile', 'endTime',\n",
              "       'invoiceId', 'otpValue', 'paymentId', 'paymentMode',\n",
              "       'projectRideDistance', 'projectedRideCost',\n",
              "       'projectedRideCostWithOffer', 'requestedTime', 'riderId',\n",
              "       'riderInvoiceId', 'riderPaymentId', 'source/latitude',\n",
              "       'source/longitude', 'sourceLocationEnglish', 'sourceLocationHindi',\n",
              "       'startTime', 'startedDriverData/datetime', 'startedDriverData/driverId',\n",
              "       'startedDriverData/latitude', 'startedDriverData/longitude', 'status',\n",
              "       'type'],\n",
              "      dtype='object')"
            ]
          },
          "metadata": {
            "tags": []
          },
          "execution_count": 10
        }
      ]
    },
    {
      "cell_type": "code",
      "metadata": {
        "id": "wpycQv3pZnHO",
        "colab_type": "code",
        "colab": {}
      },
      "source": [
        "#convert the locations to float32 and datetime to str\n",
        "datatypes = {'acceptedTime': 'str',\n",
        "            'source/latitude': 'float32',\n",
        "            'source/longitude':'float32'}"
      ],
      "execution_count": 0,
      "outputs": []
    },
    {
      "cell_type": "code",
      "metadata": {
        "id": "LjgiNIeVZovA",
        "colab_type": "code",
        "colab": {}
      },
      "source": [
        "columns = list(datatypes.keys())"
      ],
      "execution_count": 0,
      "outputs": []
    },
    {
      "cell_type": "code",
      "metadata": {
        "id": "jOijMGGXZqF7",
        "colab_type": "code",
        "outputId": "b30a6145-fc19-4878-8d28-af114a377ffa",
        "colab": {
          "base_uri": "https://localhost:8080/",
          "height": 33
        }
      },
      "source": [
        "columns"
      ],
      "execution_count": 0,
      "outputs": [
        {
          "output_type": "execute_result",
          "data": {
            "text/plain": [
              "['acceptedTime', 'source/latitude', 'source/longitude']"
            ]
          },
          "metadata": {
            "tags": []
          },
          "execution_count": 13
        }
      ]
    },
    {
      "cell_type": "code",
      "metadata": {
        "id": "YxaweyctZriW",
        "colab_type": "code",
        "outputId": "91c18238-df2e-47cc-a223-23ad8d58b4ac",
        "colab": {
          "base_uri": "https://localhost:8080/",
          "height": 33
        }
      },
      "source": [
        "data1.shape"
      ],
      "execution_count": 0,
      "outputs": [
        {
          "output_type": "execute_result",
          "data": {
            "text/plain": [
              "(1257, 31)"
            ]
          },
          "metadata": {
            "tags": []
          },
          "execution_count": 14
        }
      ]
    },
    {
      "cell_type": "code",
      "metadata": {
        "id": "AZh-SL8LZtCo",
        "colab_type": "code",
        "colab": {}
      },
      "source": [
        "chunksize = 1257"
      ],
      "execution_count": 0,
      "outputs": []
    },
    {
      "cell_type": "code",
      "metadata": {
        "id": "SHzE7F7EZua7",
        "colab_type": "code",
        "outputId": "b8223466-2498-4794-f62d-c81ef2a64a53",
        "colab": {
          "base_uri": "https://localhost:8080/",
          "height": 33
        }
      },
      "source": [
        "# list to hold the batch dataframe\n",
        "df_list = []\n",
        "\n",
        "for df_chunk in tqdm(pd.read_csv('/content/drive/My Drive/BERT/testRideData.csv', dtype=datatypes,chunksize=chunksize,usecols=columns)):\n",
        "    # Alternatively, append the chunk to list and merge all\n",
        "    df_list.append(df_chunk)"
      ],
      "execution_count": 0,
      "outputs": [
        {
          "output_type": "stream",
          "text": [
            "1it [00:00, 34.52it/s]\n"
          ],
          "name": "stderr"
        }
      ]
    },
    {
      "cell_type": "code",
      "metadata": {
        "id": "6yOIp9xgZwN1",
        "colab_type": "code",
        "outputId": "d91d8755-1b6a-407c-d9d0-8f0a2cb3cf2c",
        "colab": {
          "base_uri": "https://localhost:8080/",
          "height": 251
        }
      },
      "source": [
        "df_list"
      ],
      "execution_count": 0,
      "outputs": [
        {
          "output_type": "execute_result",
          "data": {
            "text/plain": [
              "[             acceptedTime  source/latitude  source/longitude\n",
              " 0     2019-05-06 21:34:41        28.698442         77.207397\n",
              " 1     2019-05-06 21:48:23        28.698442         77.207397\n",
              " 2     2019-05-07 11:36:10        28.698442         77.207397\n",
              " 3     2019-05-07 21:19:20        28.692583         77.194580\n",
              " 4     2019-05-08 14:56:55        28.698442         77.207397\n",
              " ...                   ...              ...               ...\n",
              " 1252  2020-01-22 18:01:13        28.694111         77.189728\n",
              " 1253  2020-01-23 11:05:16        28.694080         77.189713\n",
              " 1254  2020-01-23 11:08:31        28.694082         77.189713\n",
              " 1255  2020-01-23 14:49:15        28.694113         77.189735\n",
              " 1256  2020-01-23 14:54:50        28.694113         77.189705\n",
              " \n",
              " [1257 rows x 3 columns]]"
            ]
          },
          "metadata": {
            "tags": []
          },
          "execution_count": 17
        }
      ]
    },
    {
      "cell_type": "code",
      "metadata": {
        "id": "PC1D3TU_Z3Qh",
        "colab_type": "code",
        "colab": {}
      },
      "source": [
        "df_list1 = df_list.copy()"
      ],
      "execution_count": 0,
      "outputs": []
    },
    {
      "cell_type": "code",
      "metadata": {
        "id": "00zyGEzxZ5P3",
        "colab_type": "code",
        "outputId": "9b64683b-f83d-4ba3-b06b-d4d200c3feea",
        "colab": {
          "base_uri": "https://localhost:8080/",
          "height": 150
        }
      },
      "source": [
        "# Merge them all\n",
        "ride_df = pd.concat(df_list1)\n",
        "ride_df.info()"
      ],
      "execution_count": 0,
      "outputs": [
        {
          "output_type": "stream",
          "text": [
            "<class 'pandas.core.frame.DataFrame'>\n",
            "RangeIndex: 1257 entries, 0 to 1256\n",
            "Data columns (total 3 columns):\n",
            "acceptedTime        1257 non-null object\n",
            "source/latitude     1257 non-null float32\n",
            "source/longitude    1257 non-null float32\n",
            "dtypes: float32(2), object(1)\n",
            "memory usage: 19.8+ KB\n"
          ],
          "name": "stdout"
        }
      ]
    },
    {
      "cell_type": "code",
      "metadata": {
        "id": "BsAq6AjJSOgK",
        "colab_type": "code",
        "outputId": "61ec7002-1609-402d-9d37-af4a6ce86baa",
        "colab": {
          "base_uri": "https://localhost:8080/",
          "height": 404
        }
      },
      "source": [
        "ride_df"
      ],
      "execution_count": 0,
      "outputs": [
        {
          "output_type": "execute_result",
          "data": {
            "text/html": [
              "<div>\n",
              "<style scoped>\n",
              "    .dataframe tbody tr th:only-of-type {\n",
              "        vertical-align: middle;\n",
              "    }\n",
              "\n",
              "    .dataframe tbody tr th {\n",
              "        vertical-align: top;\n",
              "    }\n",
              "\n",
              "    .dataframe thead th {\n",
              "        text-align: right;\n",
              "    }\n",
              "</style>\n",
              "<table border=\"1\" class=\"dataframe\">\n",
              "  <thead>\n",
              "    <tr style=\"text-align: right;\">\n",
              "      <th></th>\n",
              "      <th>acceptedTime</th>\n",
              "      <th>source/latitude</th>\n",
              "      <th>source/longitude</th>\n",
              "    </tr>\n",
              "  </thead>\n",
              "  <tbody>\n",
              "    <tr>\n",
              "      <th>0</th>\n",
              "      <td>2019-05-06 21:34:41</td>\n",
              "      <td>28.698442</td>\n",
              "      <td>77.207397</td>\n",
              "    </tr>\n",
              "    <tr>\n",
              "      <th>1</th>\n",
              "      <td>2019-05-06 21:48:23</td>\n",
              "      <td>28.698442</td>\n",
              "      <td>77.207397</td>\n",
              "    </tr>\n",
              "    <tr>\n",
              "      <th>2</th>\n",
              "      <td>2019-05-07 11:36:10</td>\n",
              "      <td>28.698442</td>\n",
              "      <td>77.207397</td>\n",
              "    </tr>\n",
              "    <tr>\n",
              "      <th>3</th>\n",
              "      <td>2019-05-07 21:19:20</td>\n",
              "      <td>28.692583</td>\n",
              "      <td>77.194580</td>\n",
              "    </tr>\n",
              "    <tr>\n",
              "      <th>4</th>\n",
              "      <td>2019-05-08 14:56:55</td>\n",
              "      <td>28.698442</td>\n",
              "      <td>77.207397</td>\n",
              "    </tr>\n",
              "    <tr>\n",
              "      <th>...</th>\n",
              "      <td>...</td>\n",
              "      <td>...</td>\n",
              "      <td>...</td>\n",
              "    </tr>\n",
              "    <tr>\n",
              "      <th>1252</th>\n",
              "      <td>2020-01-22 18:01:13</td>\n",
              "      <td>28.694111</td>\n",
              "      <td>77.189728</td>\n",
              "    </tr>\n",
              "    <tr>\n",
              "      <th>1253</th>\n",
              "      <td>2020-01-23 11:05:16</td>\n",
              "      <td>28.694080</td>\n",
              "      <td>77.189713</td>\n",
              "    </tr>\n",
              "    <tr>\n",
              "      <th>1254</th>\n",
              "      <td>2020-01-23 11:08:31</td>\n",
              "      <td>28.694082</td>\n",
              "      <td>77.189713</td>\n",
              "    </tr>\n",
              "    <tr>\n",
              "      <th>1255</th>\n",
              "      <td>2020-01-23 14:49:15</td>\n",
              "      <td>28.694113</td>\n",
              "      <td>77.189735</td>\n",
              "    </tr>\n",
              "    <tr>\n",
              "      <th>1256</th>\n",
              "      <td>2020-01-23 14:54:50</td>\n",
              "      <td>28.694113</td>\n",
              "      <td>77.189705</td>\n",
              "    </tr>\n",
              "  </tbody>\n",
              "</table>\n",
              "<p>1257 rows × 3 columns</p>\n",
              "</div>"
            ],
            "text/plain": [
              "             acceptedTime  source/latitude  source/longitude\n",
              "0     2019-05-06 21:34:41        28.698442         77.207397\n",
              "1     2019-05-06 21:48:23        28.698442         77.207397\n",
              "2     2019-05-07 11:36:10        28.698442         77.207397\n",
              "3     2019-05-07 21:19:20        28.692583         77.194580\n",
              "4     2019-05-08 14:56:55        28.698442         77.207397\n",
              "...                   ...              ...               ...\n",
              "1252  2020-01-22 18:01:13        28.694111         77.189728\n",
              "1253  2020-01-23 11:05:16        28.694080         77.189713\n",
              "1254  2020-01-23 11:08:31        28.694082         77.189713\n",
              "1255  2020-01-23 14:49:15        28.694113         77.189735\n",
              "1256  2020-01-23 14:54:50        28.694113         77.189705\n",
              "\n",
              "[1257 rows x 3 columns]"
            ]
          },
          "metadata": {
            "tags": []
          },
          "execution_count": 20
        }
      ]
    },
    {
      "cell_type": "code",
      "metadata": {
        "id": "iBHZHCAgZ6d2",
        "colab_type": "code",
        "outputId": "baf377a6-d3d8-4658-cd89-3791b810ec23",
        "colab": {
          "base_uri": "https://localhost:8080/",
          "height": 638
        }
      },
      "source": [
        "ride_df.columns = ['dt','lat','lng']\n",
        "test = ride_df.sample(frac=0.05, replace=False, random_state=1)\n",
        "test.plot(x='lng', y='lat', style='.',alpha=0.2,figsize=(10,10));\n",
        "plt.title('Pickup_Locations')"
      ],
      "execution_count": 0,
      "outputs": [
        {
          "output_type": "execute_result",
          "data": {
            "text/plain": [
              "Text(0.5, 1.0, 'Pickup_Locations')"
            ]
          },
          "metadata": {
            "tags": []
          },
          "execution_count": 21
        },
        {
          "output_type": "display_data",
          "data": {
            "image/png": "[encoded data removed]",
            "text/plain": [
              "<Figure size 720x720 with 1 Axes>"
            ]
          },
          "metadata": {
            "tags": []
          }
        }
      ]
    },
    {
      "cell_type": "code",
      "metadata": {
        "id": "b9Wi0WpLZ76q",
        "colab_type": "code",
        "outputId": "cfe27adf-bbd6-41fc-d66e-30e5395ac981",
        "colab": {
          "base_uri": "https://localhost:8080/",
          "height": 84
        }
      },
      "source": [
        "ride_df.min()"
      ],
      "execution_count": 0,
      "outputs": [
        {
          "output_type": "execute_result",
          "data": {
            "text/plain": [
              "dt     2019-05-06 21:34:41\n",
              "lat                 22.684\n",
              "lng                75.8565\n",
              "dtype: object"
            ]
          },
          "metadata": {
            "tags": []
          },
          "execution_count": 22
        }
      ]
    },
    {
      "cell_type": "code",
      "metadata": {
        "id": "fdwFBuG-Z979",
        "colab_type": "code",
        "outputId": "47dbb729-a4db-4f7c-c54f-e116538e48f3",
        "colab": {
          "base_uri": "https://localhost:8080/",
          "height": 84
        }
      },
      "source": [
        "ride_df.max()"
      ],
      "execution_count": 0,
      "outputs": [
        {
          "output_type": "execute_result",
          "data": {
            "text/plain": [
              "dt     2020-01-23 14:54:50\n",
              "lat                 28.705\n",
              "lng                77.2158\n",
              "dtype: object"
            ]
          },
          "metadata": {
            "tags": []
          },
          "execution_count": 23
        }
      ]
    },
    {
      "cell_type": "code",
      "metadata": {
        "id": "ptHEvMSaZ_D3",
        "colab_type": "code",
        "outputId": "ffeed462-c896-4b99-ff02-7d9f8a0d0e23",
        "colab": {
          "base_uri": "https://localhost:8080/",
          "height": 529
        }
      },
      "source": [
        "test = test[ride_df.lat>22.683]\n",
        "test = test[test.lat<28.706]\n",
        "test.plot(x='lng',y='lat',style='.',alpha=0.2,figsize=(8,8),xlim=77.210,ylim=28.6);\n",
        "plt.title('Pickup Locations')"
      ],
      "execution_count": 0,
      "outputs": [
        {
          "output_type": "execute_result",
          "data": {
            "text/plain": [
              "Text(0.5, 1.0, 'Pickup Locations')"
            ]
          },
          "metadata": {
            "tags": []
          },
          "execution_count": 24
        },
        {
          "output_type": "display_data",
          "data": {
            "image/png": "[encoded data removed]",
            "text/plain": [
              "<Figure size 576x576 with 1 Axes>"
            ]
          },
          "metadata": {
            "tags": []
          }
        }
      ]
    },
    {
      "cell_type": "code",
      "metadata": {
        "id": "K5lCGTJ9aAiF",
        "colab_type": "code",
        "colab": {}
      },
      "source": [
        "def counts_by_hexagon(df, resolution):\n",
        "    \"\"\"\n",
        "    Use h3.geo_to_h3 to index each data point into the spatial index of the specified resolution.\n",
        "    Use h3.h3_to_geo_boundary to obtain the geometries of these hexagons\n",
        "    \n",
        "    Ex counts_by_hexagon(data, 9)\n",
        "    \"\"\"\n",
        "    df = df[[\"lat\",\"lng\"]]\n",
        "    \n",
        "    df[\"hex_id\"] = df.apply(lambda row: h3.geo_to_h3(row[\"lat\"], row[\"lng\"], resolution), axis = 1)\n",
        "    \n",
        "    df_aggreg = df.groupby(by = \"hex_id\").size().reset_index()\n",
        "    df_aggreg.columns = [\"hex_id\", \"value\"]\n",
        "    \n",
        "    df_aggreg[\"geometry\"] =  df_aggreg.hex_id.apply(lambda x: \n",
        "                                                           {    \"type\" : \"Polygon\",\n",
        "                                                                 \"coordinates\": \n",
        "                                                                [h3.h3_to_geo_boundary(h3_address=x,geo_json=True)]\n",
        "                                                            }\n",
        "                                                        )\n",
        "    \n",
        "    return df_aggreg\n",
        "\n",
        "def hexagons_dataframe_to_geojson(df_hex, file_output = None):\n",
        "    \"\"\"\n",
        "    Produce the GeoJSON for a dataframe that has a geometry column in geojson \n",
        "    format already, along with the columns hex_id and value\n",
        "    \n",
        "    Ex counts_by_hexagon(data)\n",
        "    \"\"\"    \n",
        "    list_features = []\n",
        "    \n",
        "    for i,row in df_hex.iterrows():\n",
        "        feature = Feature(geometry = row[\"geometry\"] , id=row[\"hex_id\"], properties = {\"value\" : row[\"value\"]})\n",
        "        list_features.append(feature)\n",
        "        \n",
        "    feat_collection = FeatureCollection(list_features)\n",
        "    \n",
        "    geojson_result = json.dumps(feat_collection)\n",
        "    \n",
        "    #optionally write to file\n",
        "    if file_output is not None:\n",
        "        with open(file_output,\"w\") as f:\n",
        "            json.dump(feat_collection,f)\n",
        "    \n",
        "    return geojson_result\n",
        "\n",
        "\n",
        "def choropleth_map(df_aggreg, border_color = 'black', fill_opacity = 0.7, initial_map = None, with_legend = False,\n",
        "                   kind = \"linear\"):\n",
        "    \n",
        "    \"\"\"\n",
        "    Creates choropleth maps given the aggregated data.\n",
        "    \"\"\"    \n",
        "    #colormap\n",
        "    min_value = df_aggreg[\"value\"].min()\n",
        "    max_value = df_aggreg[\"value\"].max()\n",
        "    m = round ((min_value + max_value ) / 2 , 0)\n",
        "    \n",
        "    #take resolution from the first row\n",
        "    res = h3.h3_get_resolution(df_aggreg.loc[0,'hex_id'])\n",
        "    \n",
        "    if initial_map is None:\n",
        "        initial_map = Map(location= [28.600000, 77.100000], zoom_start=12, tiles=\"cartodbpositron\",attr= '© <a href=\"http://www.openstreetmap.org/copyright\">OpenStreetMap</a> contributors © <a href=\"http://cartodb.com/attributions#basemaps\">CartoDB</a>')\n",
        "        \n",
        "\n",
        "    #the colormap \n",
        "    #color names accepted https://github.com/python-visualization/branca/blob/master/branca/_cnames.json\n",
        "    if kind == \"linear\":\n",
        "        custom_cm = cm.LinearColormap(['green','yellow','red'], vmin=min_value, vmax=max_value)\n",
        "    elif kind == \"outlier\":\n",
        "        #for outliers, values would be -11,0,1\n",
        "        custom_cm = cm.LinearColormap(['blue','white','red'], vmin=min_value, vmax=max_value)\n",
        "    elif kind == \"filled_nulls\":\n",
        "        custom_cm = cm.LinearColormap(['sienna','green','yellow','red'], \n",
        "                                      index=[0,min_value,m,max_value],vmin=min_value,vmax=max_value)\n",
        "   \n",
        "\n",
        "    #create geojson data from dataframe\n",
        "    geojson_data = hexagons_dataframe_to_geojson(df_hex = df_aggreg)\n",
        "    \n",
        "    #plot on map\n",
        "    name_layer = \"Choropleth \" + str(res)\n",
        "    if kind != \"linear\":\n",
        "        name_layer = name_layer + kind\n",
        "        \n",
        "    GeoJson(\n",
        "        geojson_data,\n",
        "        style_function=lambda feature: {\n",
        "            'fillColor': custom_cm(feature['properties']['value']),\n",
        "            'color': border_color,\n",
        "            'weight': 1,\n",
        "            'fillOpacity': fill_opacity \n",
        "        }, \n",
        "        name = name_layer\n",
        "    ).add_to(initial_map)\n",
        "    #add legend (not recommended if multiple layers)\n",
        "    if with_legend == True:\n",
        "        custom_cm.add_to(initial_map)\n",
        "    \n",
        "    \n",
        "    \n",
        "    return initial_map\n",
        "\n",
        "def plot_scatter(df, metric_col, x='lng', y='lat', marker='.', alpha=1, figsize=(16,12), colormap='viridis'):\n",
        "    \"\"\"\n",
        "    Scatter plot function for h3 indexed objects\n",
        "    \"\"\"    \n",
        "    df.plot.scatter(x=x, y=y, c=metric_col, title=metric_col\n",
        "                    , edgecolors='none', colormap=colormap, marker=marker, alpha=alpha, figsize=figsize);\n",
        "    plt.xticks([], []); plt.yticks([], [])\n"
      ],
      "execution_count": 0,
      "outputs": []
    },
    {
      "cell_type": "code",
      "metadata": {
        "id": "94Seu9HZaCVD",
        "colab_type": "code",
        "outputId": "fe7b22bf-336d-4f77-a9c5-8426e35eff51",
        "colab": {
          "base_uri": "https://localhost:8080/",
          "height": 782
        }
      },
      "source": [
        "df_aggreg = counts_by_hexagon(df = test, resolution = 6)\n",
        "df_aggreg.sort_values(by = \"value\", ascending = False, inplace = True)\n",
        "# Creates a map using Folium\n",
        "hexmap = choropleth_map(df_aggreg = df_aggreg, with_legend = True)\n",
        "hexmap"
      ],
      "execution_count": 0,
      "outputs": [
        {
          "output_type": "execute_result",
          "data": {
            "text/html": [
              "<div style=\"width:100%;\"><div style=\"position:relative;width:100%;height:0;padding-bottom:60%;\"><iframe src=\"data:text/html;charset=utf-8;base64,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\" style=\"position:absolute;width:100%;height:100%;left:0;top:0;border:none !important;\" allowfullscreen webkitallowfullscreen mozallowfullscreen></iframe></div></div>"
            ],
            "text/plain": [
              "<folium.folium.Map at 0x7fcaa078f518>"
            ]
          },
          "metadata": {
            "tags": []
          },
          "execution_count": 33
        }
      ]
    },
    {
      "cell_type": "code",
      "metadata": {
        "id": "hFAlZL7saEQP",
        "colab_type": "code",
        "outputId": "f47c7aef-c3e8-4345-ea5c-2ed3f033673d",
        "colab": {
          "base_uri": "https://localhost:8080/",
          "height": 228
        }
      },
      "source": [
        "df_aggreg_9 = counts_by_hexagon(df = dfgeo, resolution = 9)\n",
        "df_aggreg_8 = counts_by_hexagon(df = dfgeo, resolution = 8)\n",
        "df_aggreg_7 = counts_by_hexagon(df = dfgeo, resolution = 7)\n",
        "df_aggreg_6 = counts_by_hexagon(df = dfgeo, resolution =6)\n",
        "\n",
        "\n",
        "hexmap9 = choropleth_map(df_aggreg = df_aggreg_9,with_legend = False)\n",
        "hexmap8 = choropleth_map(df_aggreg = df_aggreg_8, initial_map = hexmap9, with_legend = False)\n",
        "hexmap7 = choropleth_map(df_aggreg = df_aggreg_7, initial_map = hexmap8 , with_legend = False)\n",
        "hexmap6 = choropleth_map(df_aggreg = df_aggreg_6, initial_map = hexmap7, with_legend = False)\n",
        "\n",
        "folium.map.LayerControl('bottomright', collapsed=False).add_to(hexmap6)\n",
        "\n",
        "hexmap6.save('source/choropleth_multiple_res.html')\n",
        "hexmap6"
      ],
      "execution_count": 0,
      "outputs": [
        {
          "output_type": "error",
          "ename": "NameError",
          "evalue": "ignored",
          "traceback": [
            "\u001b[0;31m---------------------------------------------------------------------------\u001b[0m",
            "\u001b[0;31mNameError\u001b[0m                                 Traceback (most recent call last)",
            "\u001b[0;32m<ipython-input-53-f400db6c15d6>\u001b[0m in \u001b[0;36m<module>\u001b[0;34m()\u001b[0m\n\u001b[0;32m----> 1\u001b[0;31m \u001b[0mdf_aggreg_9\u001b[0m \u001b[0;34m=\u001b[0m \u001b[0mcounts_by_hexagon\u001b[0m\u001b[0;34m(\u001b[0m\u001b[0mdf\u001b[0m \u001b[0;34m=\u001b[0m \u001b[0mdfgeo\u001b[0m\u001b[0;34m,\u001b[0m \u001b[0mresolution\u001b[0m \u001b[0;34m=\u001b[0m \u001b[0;36m9\u001b[0m\u001b[0;34m)\u001b[0m\u001b[0;34m\u001b[0m\u001b[0;34m\u001b[0m\u001b[0m\n\u001b[0m\u001b[1;32m      2\u001b[0m \u001b[0mdf_aggreg_8\u001b[0m \u001b[0;34m=\u001b[0m \u001b[0mcounts_by_hexagon\u001b[0m\u001b[0;34m(\u001b[0m\u001b[0mdf\u001b[0m \u001b[0;34m=\u001b[0m \u001b[0mdfgeo\u001b[0m\u001b[0;34m,\u001b[0m \u001b[0mresolution\u001b[0m \u001b[0;34m=\u001b[0m \u001b[0;36m8\u001b[0m\u001b[0;34m)\u001b[0m\u001b[0;34m\u001b[0m\u001b[0;34m\u001b[0m\u001b[0m\n\u001b[1;32m      3\u001b[0m \u001b[0mdf_aggreg_7\u001b[0m \u001b[0;34m=\u001b[0m \u001b[0mcounts_by_hexagon\u001b[0m\u001b[0;34m(\u001b[0m\u001b[0mdf\u001b[0m \u001b[0;34m=\u001b[0m \u001b[0mdfgeo\u001b[0m\u001b[0;34m,\u001b[0m \u001b[0mresolution\u001b[0m \u001b[0;34m=\u001b[0m \u001b[0;36m7\u001b[0m\u001b[0;34m)\u001b[0m\u001b[0;34m\u001b[0m\u001b[0;34m\u001b[0m\u001b[0m\n\u001b[1;32m      4\u001b[0m \u001b[0mdf_aggreg_6\u001b[0m \u001b[0;34m=\u001b[0m \u001b[0mcounts_by_hexagon\u001b[0m\u001b[0;34m(\u001b[0m\u001b[0mdf\u001b[0m \u001b[0;34m=\u001b[0m \u001b[0mdfgeo\u001b[0m\u001b[0;34m,\u001b[0m \u001b[0mresolution\u001b[0m \u001b[0;34m=\u001b[0m\u001b[0;36m6\u001b[0m\u001b[0;34m)\u001b[0m\u001b[0;34m\u001b[0m\u001b[0;34m\u001b[0m\u001b[0m\n\u001b[1;32m      5\u001b[0m \u001b[0;34m\u001b[0m\u001b[0m\n",
            "\u001b[0;31mNameError\u001b[0m: name 'dfgeo' is not defined"
          ]
        }
      ]
    },
    {
      "cell_type": "code",
      "metadata": {
        "id": "0M_ytEFReK2s",
        "colab_type": "code",
        "colab": {}
      },
      "source": [
        "from folium.plugins import HeatMapWithTime"
      ],
      "execution_count": 0,
      "outputs": []
    },
    {
      "cell_type": "code",
      "metadata": {
        "ExecuteTime": {
          "end_time": "2018-11-19T05:34:04.547140Z",
          "start_time": "2018-11-19T05:33:33.986148Z"
        },
        "id": "4VU5fEAjiIjG",
        "colab_type": "code",
        "colab": {}
      },
      "source": [
        "ride_df.dt = pd.to_datetime(ride_df.dt, format='%Y-%m-%d %H:%M:%S')\n",
        "ride_df['month'] = ride_df.dt.apply(lambda x: x.month)\n",
        "ride_df['week'] = ride_df.dt.apply(lambda x: x.week)\n",
        "ride_df['day'] = ride_df.dt.apply(lambda x: x.day)\n",
        "ride_df['hour'] = ride_df.dt.apply(lambda x: x.hour)\n",
        "ride_df['year'] = ride_df.dt.apply(lambda x: x.year)"
      ],
      "execution_count": 0,
      "outputs": []
    },
    {
      "cell_type": "code",
      "metadata": {
        "id": "F0YU_76JSN8z",
        "colab_type": "code",
        "outputId": "e6f9f333-2116-4fd6-d06c-a8f9aa1266cc",
        "colab": {
          "base_uri": "https://localhost:8080/",
          "height": 404
        }
      },
      "source": [
        "ride_df"
      ],
      "execution_count": 72,
      "outputs": [
        {
          "output_type": "execute_result",
          "data": {
            "text/html": [
              "<div>\n",
              "<style scoped>\n",
              "    .dataframe tbody tr th:only-of-type {\n",
              "        vertical-align: middle;\n",
              "    }\n",
              "\n",
              "    .dataframe tbody tr th {\n",
              "        vertical-align: top;\n",
              "    }\n",
              "\n",
              "    .dataframe thead th {\n",
              "        text-align: right;\n",
              "    }\n",
              "</style>\n",
              "<table border=\"1\" class=\"dataframe\">\n",
              "  <thead>\n",
              "    <tr style=\"text-align: right;\">\n",
              "      <th></th>\n",
              "      <th>dt</th>\n",
              "      <th>lat</th>\n",
              "      <th>lng</th>\n",
              "      <th>month</th>\n",
              "      <th>week</th>\n",
              "      <th>day</th>\n",
              "      <th>hour</th>\n",
              "      <th>year</th>\n",
              "    </tr>\n",
              "  </thead>\n",
              "  <tbody>\n",
              "    <tr>\n",
              "      <th>0</th>\n",
              "      <td>2019-05-06 21:34:41</td>\n",
              "      <td>28.698442</td>\n",
              "      <td>77.207397</td>\n",
              "      <td>5</td>\n",
              "      <td>19</td>\n",
              "      <td>6</td>\n",
              "      <td>21</td>\n",
              "      <td>2019</td>\n",
              "    </tr>\n",
              "    <tr>\n",
              "      <th>1</th>\n",
              "      <td>2019-05-06 21:48:23</td>\n",
              "      <td>28.698442</td>\n",
              "      <td>77.207397</td>\n",
              "      <td>5</td>\n",
              "      <td>19</td>\n",
              "      <td>6</td>\n",
              "      <td>21</td>\n",
              "      <td>2019</td>\n",
              "    </tr>\n",
              "    <tr>\n",
              "      <th>2</th>\n",
              "      <td>2019-05-07 11:36:10</td>\n",
              "      <td>28.698442</td>\n",
              "      <td>77.207397</td>\n",
              "      <td>5</td>\n",
              "      <td>19</td>\n",
              "      <td>7</td>\n",
              "      <td>11</td>\n",
              "      <td>2019</td>\n",
              "    </tr>\n",
              "    <tr>\n",
              "      <th>3</th>\n",
              "      <td>2019-05-07 21:19:20</td>\n",
              "      <td>28.692583</td>\n",
              "      <td>77.194580</td>\n",
              "      <td>5</td>\n",
              "      <td>19</td>\n",
              "      <td>7</td>\n",
              "      <td>21</td>\n",
              "      <td>2019</td>\n",
              "    </tr>\n",
              "    <tr>\n",
              "      <th>4</th>\n",
              "      <td>2019-05-08 14:56:55</td>\n",
              "      <td>28.698442</td>\n",
              "      <td>77.207397</td>\n",
              "      <td>5</td>\n",
              "      <td>19</td>\n",
              "      <td>8</td>\n",
              "      <td>14</td>\n",
              "      <td>2019</td>\n",
              "    </tr>\n",
              "    <tr>\n",
              "      <th>...</th>\n",
              "      <td>...</td>\n",
              "      <td>...</td>\n",
              "      <td>...</td>\n",
              "      <td>...</td>\n",
              "      <td>...</td>\n",
              "      <td>...</td>\n",
              "      <td>...</td>\n",
              "      <td>...</td>\n",
              "    </tr>\n",
              "    <tr>\n",
              "      <th>1252</th>\n",
              "      <td>2020-01-22 18:01:13</td>\n",
              "      <td>28.694111</td>\n",
              "      <td>77.189728</td>\n",
              "      <td>1</td>\n",
              "      <td>4</td>\n",
              "      <td>22</td>\n",
              "      <td>18</td>\n",
              "      <td>2020</td>\n",
              "    </tr>\n",
              "    <tr>\n",
              "      <th>1253</th>\n",
              "      <td>2020-01-23 11:05:16</td>\n",
              "      <td>28.694080</td>\n",
              "      <td>77.189713</td>\n",
              "      <td>1</td>\n",
              "      <td>4</td>\n",
              "      <td>23</td>\n",
              "      <td>11</td>\n",
              "      <td>2020</td>\n",
              "    </tr>\n",
              "    <tr>\n",
              "      <th>1254</th>\n",
              "      <td>2020-01-23 11:08:31</td>\n",
              "      <td>28.694082</td>\n",
              "      <td>77.189713</td>\n",
              "      <td>1</td>\n",
              "      <td>4</td>\n",
              "      <td>23</td>\n",
              "      <td>11</td>\n",
              "      <td>2020</td>\n",
              "    </tr>\n",
              "    <tr>\n",
              "      <th>1255</th>\n",
              "      <td>2020-01-23 14:49:15</td>\n",
              "      <td>28.694113</td>\n",
              "      <td>77.189735</td>\n",
              "      <td>1</td>\n",
              "      <td>4</td>\n",
              "      <td>23</td>\n",
              "      <td>14</td>\n",
              "      <td>2020</td>\n",
              "    </tr>\n",
              "    <tr>\n",
              "      <th>1256</th>\n",
              "      <td>2020-01-23 14:54:50</td>\n",
              "      <td>28.694113</td>\n",
              "      <td>77.189705</td>\n",
              "      <td>1</td>\n",
              "      <td>4</td>\n",
              "      <td>23</td>\n",
              "      <td>14</td>\n",
              "      <td>2020</td>\n",
              "    </tr>\n",
              "  </tbody>\n",
              "</table>\n",
              "<p>1257 rows × 8 columns</p>\n",
              "</div>"
            ],
            "text/plain": [
              "                      dt        lat        lng  month  week  day  hour  year\n",
              "0    2019-05-06 21:34:41  28.698442  77.207397      5    19    6    21  2019\n",
              "1    2019-05-06 21:48:23  28.698442  77.207397      5    19    6    21  2019\n",
              "2    2019-05-07 11:36:10  28.698442  77.207397      5    19    7    11  2019\n",
              "3    2019-05-07 21:19:20  28.692583  77.194580      5    19    7    21  2019\n",
              "4    2019-05-08 14:56:55  28.698442  77.207397      5    19    8    14  2019\n",
              "...                  ...        ...        ...    ...   ...  ...   ...   ...\n",
              "1252 2020-01-22 18:01:13  28.694111  77.189728      1     4   22    18  2020\n",
              "1253 2020-01-23 11:05:16  28.694080  77.189713      1     4   23    11  2020\n",
              "1254 2020-01-23 11:08:31  28.694082  77.189713      1     4   23    11  2020\n",
              "1255 2020-01-23 14:49:15  28.694113  77.189735      1     4   23    14  2020\n",
              "1256 2020-01-23 14:54:50  28.694113  77.189705      1     4   23    14  2020\n",
              "\n",
              "[1257 rows x 8 columns]"
            ]
          },
          "metadata": {
            "tags": []
          },
          "execution_count": 72
        }
      ]
    },
    {
      "cell_type": "code",
      "metadata": {
        "id": "irIz3DFGSrHm",
        "colab_type": "code",
        "outputId": "f2975dfb-9d6a-4371-deb3-62b2d3e3d43c",
        "colab": {
          "base_uri": "https://localhost:8080/",
          "height": 251
        }
      },
      "source": [
        "ride_df.info"
      ],
      "execution_count": 0,
      "outputs": [
        {
          "output_type": "execute_result",
          "data": {
            "text/plain": [
              "<bound method DataFrame.info of                       dt        lat        lng  month  week  day  hour\n",
              "0    2019-05-06 21:34:41  28.698442  77.207397      5    19    6    21\n",
              "1    2019-05-06 21:48:23  28.698442  77.207397      5    19    6    21\n",
              "2    2019-05-07 11:36:10  28.698442  77.207397      5    19    7    11\n",
              "3    2019-05-07 21:19:20  28.692583  77.194580      5    19    7    21\n",
              "4    2019-05-08 14:56:55  28.698442  77.207397      5    19    8    14\n",
              "...                  ...        ...        ...    ...   ...  ...   ...\n",
              "1252 2020-01-22 18:01:13  28.694111  77.189728      1     4   22    18\n",
              "1253 2020-01-23 11:05:16  28.694080  77.189713      1     4   23    11\n",
              "1254 2020-01-23 11:08:31  28.694082  77.189713      1     4   23    11\n",
              "1255 2020-01-23 14:49:15  28.694113  77.189735      1     4   23    14\n",
              "1256 2020-01-23 14:54:50  28.694113  77.189705      1     4   23    14\n",
              "\n",
              "[1257 rows x 7 columns]>"
            ]
          },
          "metadata": {
            "tags": []
          },
          "execution_count": 32
        }
      ]
    },
    {
      "cell_type": "code",
      "metadata": {
        "id": "ti39bjEBSwBW",
        "colab_type": "code",
        "colab": {}
      },
      "source": [
        "def generateBaseMap(default_location=[28.705, 77.2158], default_zoom_start=11):\n",
        "    base_map = folium.Map(location=default_location, control_scale=True, zoom_start=default_zoom_start)\n",
        "    return base_map"
      ],
      "execution_count": 0,
      "outputs": []
    },
    {
      "cell_type": "code",
      "metadata": {
        "id": "zEnqjA3wVNsj",
        "colab_type": "code",
        "outputId": "eccc5bae-890a-488c-ab68-8d442c13c3d9",
        "colab": {
          "base_uri": "https://localhost:8080/",
          "height": 782
        }
      },
      "source": [
        "base_map = generateBaseMap()\n",
        "base_map"
      ],
      "execution_count": 0,
      "outputs": [
        {
          "output_type": "execute_result",
          "data": {
            "text/html": [
              "<div style=\"width:100%;\"><div style=\"position:relative;width:100%;height:0;padding-bottom:60%;\"><iframe src=\"data:text/html;charset=utf-8;base64,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\" style=\"position:absolute;width:100%;height:100%;left:0;top:0;border:none !important;\" allowfullscreen webkitallowfullscreen mozallowfullscreen></iframe></div></div>"
            ],
            "text/plain": [
              "<folium.folium.Map at 0x7fcaa04209e8>"
            ]
          },
          "metadata": {
            "tags": []
          },
          "execution_count": 43
        }
      ]
    },
    {
      "cell_type": "code",
      "metadata": {
        "id": "tI4GFCMdVPm6",
        "colab_type": "code",
        "colab": {}
      },
      "source": [
        "from folium.plugins import HeatMap"
      ],
      "execution_count": 0,
      "outputs": []
    },
    {
      "cell_type": "code",
      "metadata": {
        "id": "yNBc4LBkV9BZ",
        "colab_type": "code",
        "colab": {}
      },
      "source": [
        "df_copy = ride_df[ride_df.month>1].copy()\n",
        "df_copy['count'] = 1"
      ],
      "execution_count": 0,
      "outputs": []
    },
    {
      "cell_type": "code",
      "metadata": {
        "id": "g2A8i_0DWPvS",
        "colab_type": "code",
        "outputId": "06b3026d-a526-4aac-d410-9357b1a121c8",
        "colab": {
          "base_uri": "https://localhost:8080/",
          "height": 375
        }
      },
      "source": [
        "df_copy[['lat', 'lng', 'count']].groupby(['lat', 'lng']).sum().sort_values('count', ascending=False).head(10)"
      ],
      "execution_count": 0,
      "outputs": [
        {
          "output_type": "execute_result",
          "data": {
            "text/html": [
              "<div>\n",
              "<style scoped>\n",
              "    .dataframe tbody tr th:only-of-type {\n",
              "        vertical-align: middle;\n",
              "    }\n",
              "\n",
              "    .dataframe tbody tr th {\n",
              "        vertical-align: top;\n",
              "    }\n",
              "\n",
              "    .dataframe thead th {\n",
              "        text-align: right;\n",
              "    }\n",
              "</style>\n",
              "<table border=\"1\" class=\"dataframe\">\n",
              "  <thead>\n",
              "    <tr style=\"text-align: right;\">\n",
              "      <th></th>\n",
              "      <th></th>\n",
              "      <th>count</th>\n",
              "    </tr>\n",
              "    <tr>\n",
              "      <th>lat</th>\n",
              "      <th>lng</th>\n",
              "      <th></th>\n",
              "    </tr>\n",
              "  </thead>\n",
              "  <tbody>\n",
              "    <tr>\n",
              "      <th>28.693302</th>\n",
              "      <th>77.212662</th>\n",
              "      <td>25</td>\n",
              "    </tr>\n",
              "    <tr>\n",
              "      <th>28.694107</th>\n",
              "      <th>77.189705</th>\n",
              "      <td>23</td>\n",
              "    </tr>\n",
              "    <tr>\n",
              "      <th>28.693829</th>\n",
              "      <th>77.213730</th>\n",
              "      <td>20</td>\n",
              "    </tr>\n",
              "    <tr>\n",
              "      <th>28.694777</th>\n",
              "      <th>77.214729</th>\n",
              "      <td>19</td>\n",
              "    </tr>\n",
              "    <tr>\n",
              "      <th>28.694477</th>\n",
              "      <th>77.215034</th>\n",
              "      <td>19</td>\n",
              "    </tr>\n",
              "    <tr>\n",
              "      <th>28.694883</th>\n",
              "      <th>77.214920</th>\n",
              "      <td>13</td>\n",
              "    </tr>\n",
              "    <tr>\n",
              "      <th>28.694864</th>\n",
              "      <th>77.214592</th>\n",
              "      <td>13</td>\n",
              "    </tr>\n",
              "    <tr>\n",
              "      <th>28.698442</th>\n",
              "      <th>77.207397</th>\n",
              "      <td>13</td>\n",
              "    </tr>\n",
              "    <tr>\n",
              "      <th>28.694111</th>\n",
              "      <th>77.189728</th>\n",
              "      <td>12</td>\n",
              "    </tr>\n",
              "    <tr>\n",
              "      <th>28.694672</th>\n",
              "      <th>77.214386</th>\n",
              "      <td>11</td>\n",
              "    </tr>\n",
              "  </tbody>\n",
              "</table>\n",
              "</div>"
            ],
            "text/plain": [
              "                     count\n",
              "lat       lng             \n",
              "28.693302 77.212662     25\n",
              "28.694107 77.189705     23\n",
              "28.693829 77.213730     20\n",
              "28.694777 77.214729     19\n",
              "28.694477 77.215034     19\n",
              "28.694883 77.214920     13\n",
              "28.694864 77.214592     13\n",
              "28.698442 77.207397     13\n",
              "28.694111 77.189728     12\n",
              "28.694672 77.214386     11"
            ]
          },
          "metadata": {
            "tags": []
          },
          "execution_count": 55
        }
      ]
    },
    {
      "cell_type": "code",
      "metadata": {
        "id": "94mk3zAiWbl0",
        "colab_type": "code",
        "outputId": "58f4d221-193f-4cc3-a8ba-a8764158fd4c",
        "colab": {
          "base_uri": "https://localhost:8080/",
          "height": 33
        }
      },
      "source": [
        "base_map = generateBaseMap()\n",
        "HeatMap(data=df_copy[['lat', 'lng', 'count']].groupby(['lat', 'lng']).sum().reset_index().values.tolist(), radius=8, max_zoom=13).add_to(base_map)"
      ],
      "execution_count": 62,
      "outputs": [
        {
          "output_type": "execute_result",
          "data": {
            "text/plain": [
              "<folium.plugins.heat_map.HeatMap at 0x7fcaa0308f28>"
            ]
          },
          "metadata": {
            "tags": []
          },
          "execution_count": 62
        }
      ]
    },
    {
      "cell_type": "code",
      "metadata": {
        "id": "c-ptIgIgWsll",
        "colab_type": "code",
        "outputId": "913ef74d-42ab-4018-9ad5-93f13e906f5d",
        "colab": {
          "base_uri": "https://localhost:8080/",
          "height": 782
        }
      },
      "source": [
        "base_map"
      ],
      "execution_count": 63,
      "outputs": [
        {
          "output_type": "execute_result",
          "data": {
            "text/html": [
              "<div style=\"width:100%;\"><div style=\"position:relative;width:100%;height:0;padding-bottom:60%;\"><iframe src=\"data:text/html;charset=utf-8;base64,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\" style=\"position:absolute;width:100%;height:100%;left:0;top:0;border:none !important;\" allowfullscreen webkitallowfullscreen mozallowfullscreen></iframe></div></div>"
            ],
            "text/plain": [
              "<folium.folium.Map at 0x7fcaa032b048>"
            ]
          },
          "metadata": {
            "tags": []
          },
          "execution_count": 63
        }
      ]
    },
    {
      "cell_type": "code",
      "metadata": {
        "id": "FAsBXYXYWuj8",
        "colab_type": "code",
        "outputId": "0fc29e4c-1a86-455c-eeea-ee7d2cd85086",
        "colab": {
          "base_uri": "https://localhost:8080/",
          "height": 782
        }
      },
      "source": [
        "base_map.add_child(folium.ClickForMarker(popup='Potential Location'))"
      ],
      "execution_count": 64,
      "outputs": [
        {
          "output_type": "execute_result",
          "data": {
            "text/html": [
              "<div style=\"width:100%;\"><div style=\"position:relative;width:100%;height:0;padding-bottom:60%;\"><iframe src=\"data:text/html;charset=utf-8;base64,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\" style=\"position:absolute;width:100%;height:100%;left:0;top:0;border:none !important;\" allowfullscreen webkitallowfullscreen mozallowfullscreen></iframe></div></div>"
            ],
            "text/plain": [
              "<folium.folium.Map at 0x7fcaa032b048>"
            ]
          },
          "metadata": {
            "tags": []
          },
          "execution_count": 64
        }
      ]
    },
    {
      "cell_type": "code",
      "metadata": {
        "id": "bOgS5retW3k8",
        "colab_type": "code",
        "colab": {}
      },
      "source": [
        "from folium.plugins import HeatMapWithTime"
      ],
      "execution_count": 0,
      "outputs": []
    },
    {
      "cell_type": "code",
      "metadata": {
        "id": "wPEu9pHbXFl7",
        "colab_type": "code",
        "colab": {}
      },
      "source": [
        "df_hour_list = []\n",
        "for hour in df_copy.hour.sort_values().unique():\n",
        "    df_hour_list.append(df_copy.loc[df_copy.hour == hour, ['lat', 'lng', 'count']].groupby(['lat', 'lng']).sum().reset_index().values.tolist())"
      ],
      "execution_count": 0,
      "outputs": []
    },
    {
      "cell_type": "code",
      "metadata": {
        "id": "kXCAh7PxXMCH",
        "colab_type": "code",
        "outputId": "ef4d7f24-aab4-4932-9859-739ab6774cae",
        "colab": {
          "base_uri": "https://localhost:8080/",
          "height": 782
        }
      },
      "source": [
        "base_map = generateBaseMap(default_zoom_start=11)\n",
        "HeatMapWithTime(df_hour_list, radius=5, gradient={0.2: 'blue', 0.4: 'lime', 0.6: 'orange', 1: 'red'}, min_opacity=0.5, max_opacity=0.8, use_local_extrema=True).add_to(base_map)\n",
        "base_map"
      ],
      "execution_count": 67,
      "outputs": [
        {
          "output_type": "execute_result",
          "data": {
            "text/html": [
              "<div style=\"width:100%;\"><div style=\"position:relative;width:100%;height:0;padding-bottom:60%;\"><iframe src=\"data:text/html;charset=utf-8;base64,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\" style=\"position:absolute;width:100%;height:100%;left:0;top:0;border:none !important;\" allowfullscreen webkitallowfullscreen mozallowfullscreen></iframe></div></div>"
            ],
            "text/plain": [
              "<folium.folium.Map at 0x7fcaa032be48>"
            ]
          },
          "metadata": {
            "tags": []
          },
          "execution_count": 67
        }
      ]
    },
    {
      "cell_type": "code",
      "metadata": {
        "id": "c1vEpPP8aVS3",
        "colab_type": "code",
        "colab": {}
      },
      "source": [
        "datatypes1 = {'acceptedTime': 'str',\n",
        "            'source/latitude': 'float32',\n",
        "            'source/longitude':'float32',\n",
        "             'destination/latitude':'float32',\n",
        "             'destination/longitude':'float32',\n",
        "              'startTime': 'str',\n",
        "              'endTime': 'str'}"
      ],
      "execution_count": 0,
      "outputs": []
    },
    {
      "cell_type": "code",
      "metadata": {
        "id": "7ligwznhi70v",
        "colab_type": "code",
        "colab": {
          "base_uri": "https://localhost:8080/",
          "height": 134
        },
        "outputId": "bab86097-9518-47bd-9b38-095ba878d3a5"
      },
      "source": [
        "columns1 = list(datatypes1.keys())\n",
        "columns1"
      ],
      "execution_count": 106,
      "outputs": [
        {
          "output_type": "execute_result",
          "data": {
            "text/plain": [
              "['acceptedTime',\n",
              " 'source/latitude',\n",
              " 'source/longitude',\n",
              " 'destination/latitude',\n",
              " 'destination/longitude',\n",
              " 'startTime',\n",
              " 'endTime']"
            ]
          },
          "metadata": {
            "tags": []
          },
          "execution_count": 106
        }
      ]
    },
    {
      "cell_type": "code",
      "metadata": {
        "id": "ATjNkZmmjcWU",
        "colab_type": "code",
        "colab": {}
      },
      "source": [
        "chunksize1 = 1257"
      ],
      "execution_count": 0,
      "outputs": []
    },
    {
      "cell_type": "code",
      "metadata": {
        "id": "SY8LXyd6jn1n",
        "colab_type": "code",
        "colab": {
          "base_uri": "https://localhost:8080/",
          "height": 33
        },
        "outputId": "1c9a35f5-bae0-4647-d271-9081211c67b8"
      },
      "source": [
        "df_list2 = []\n",
        "\n",
        "for df_chunk in tqdm(pd.read_csv('/content/drive/My Drive/BERT/testRideData.csv', dtype=datatypes,chunksize=chunksize,usecols=columns1)):\n",
        "    # Alternatively, append the chunk to list and merge all\n",
        "    df_list2.append(df_chunk)"
      ],
      "execution_count": 108,
      "outputs": [
        {
          "output_type": "stream",
          "text": [
            "1it [00:00, 35.12it/s]\n"
          ],
          "name": "stderr"
        }
      ]
    },
    {
      "cell_type": "code",
      "metadata": {
        "id": "dSOLwr09jvhq",
        "colab_type": "code",
        "colab": {
          "base_uri": "https://localhost:8080/",
          "height": 251
        },
        "outputId": "f3a72160-12ce-4c2a-dfb9-d6b70065a5f1"
      },
      "source": [
        "df_list2"
      ],
      "execution_count": 109,
      "outputs": [
        {
          "output_type": "execute_result",
          "data": {
            "text/plain": [
              "[             acceptedTime  ...            startTime\n",
              " 0     2019-05-06 21:34:41  ...  2019-05-06 21:34:56\n",
              " 1     2019-05-06 21:48:23  ...  2019-05-06 21:49:32\n",
              " 2     2019-05-07 11:36:10  ...  2019-05-07 11:36:31\n",
              " 3     2019-05-07 21:19:20  ...  2019-05-07 21:19:40\n",
              " 4     2019-05-08 14:56:55  ...  2019-05-08 14:57:07\n",
              " ...                   ...  ...                  ...\n",
              " 1252  2020-01-22 18:01:13  ...  2020-01-22 18:01:13\n",
              " 1253  2020-01-23 11:05:16  ...  2020-01-23 11:05:16\n",
              " 1254  2020-01-23 11:08:31  ...  2020-01-23 11:08:45\n",
              " 1255  2020-01-23 14:49:15  ...  2020-01-23 14:49:15\n",
              " 1256  2020-01-23 14:54:50  ...  2020-01-23 14:55:06\n",
              " \n",
              " [1257 rows x 7 columns]]"
            ]
          },
          "metadata": {
            "tags": []
          },
          "execution_count": 109
        }
      ]
    },
    {
      "cell_type": "code",
      "metadata": {
        "id": "--Q50ve4jxlf",
        "colab_type": "code",
        "colab": {
          "base_uri": "https://localhost:8080/",
          "height": 217
        },
        "outputId": "02d3386e-f3f4-46b7-d7a3-ee3716aed659"
      },
      "source": [
        "ride_df1 = pd.concat(df_list2)\n",
        "ride_df1.info()"
      ],
      "execution_count": 110,
      "outputs": [
        {
          "output_type": "stream",
          "text": [
            "<class 'pandas.core.frame.DataFrame'>\n",
            "RangeIndex: 1257 entries, 0 to 1256\n",
            "Data columns (total 7 columns):\n",
            "acceptedTime             1257 non-null object\n",
            "destination/latitude     1257 non-null float64\n",
            "destination/longitude    1257 non-null float64\n",
            "endTime                  1257 non-null object\n",
            "source/latitude          1257 non-null float32\n",
            "source/longitude         1257 non-null float32\n",
            "startTime                1257 non-null object\n",
            "dtypes: float32(2), float64(2), object(3)\n",
            "memory usage: 59.0+ KB\n"
          ],
          "name": "stdout"
        }
      ]
    },
    {
      "cell_type": "code",
      "metadata": {
        "id": "j5cP01fxkzfV",
        "colab_type": "code",
        "colab": {
          "base_uri": "https://localhost:8080/",
          "height": 404
        },
        "outputId": "b8620371-6488-4d55-8f92-772dbc0d6525"
      },
      "source": [
        "ride_df1"
      ],
      "execution_count": 111,
      "outputs": [
        {
          "output_type": "execute_result",
          "data": {
            "text/html": [
              "<div>\n",
              "<style scoped>\n",
              "    .dataframe tbody tr th:only-of-type {\n",
              "        vertical-align: middle;\n",
              "    }\n",
              "\n",
              "    .dataframe tbody tr th {\n",
              "        vertical-align: top;\n",
              "    }\n",
              "\n",
              "    .dataframe thead th {\n",
              "        text-align: right;\n",
              "    }\n",
              "</style>\n",
              "<table border=\"1\" class=\"dataframe\">\n",
              "  <thead>\n",
              "    <tr style=\"text-align: right;\">\n",
              "      <th></th>\n",
              "      <th>acceptedTime</th>\n",
              "      <th>destination/latitude</th>\n",
              "      <th>destination/longitude</th>\n",
              "      <th>endTime</th>\n",
              "      <th>source/latitude</th>\n",
              "      <th>source/longitude</th>\n",
              "      <th>startTime</th>\n",
              "    </tr>\n",
              "  </thead>\n",
              "  <tbody>\n",
              "    <tr>\n",
              "      <th>0</th>\n",
              "      <td>2019-05-06 21:34:41</td>\n",
              "      <td>28.685740</td>\n",
              "      <td>77.206383</td>\n",
              "      <td>2019-05-06 21:35:19</td>\n",
              "      <td>28.698442</td>\n",
              "      <td>77.207397</td>\n",
              "      <td>2019-05-06 21:34:56</td>\n",
              "    </tr>\n",
              "    <tr>\n",
              "      <th>1</th>\n",
              "      <td>2019-05-06 21:48:23</td>\n",
              "      <td>28.685740</td>\n",
              "      <td>77.206383</td>\n",
              "      <td>2019-05-06 21:50:57</td>\n",
              "      <td>28.698442</td>\n",
              "      <td>77.207397</td>\n",
              "      <td>2019-05-06 21:49:32</td>\n",
              "    </tr>\n",
              "    <tr>\n",
              "      <th>2</th>\n",
              "      <td>2019-05-07 11:36:10</td>\n",
              "      <td>28.685740</td>\n",
              "      <td>77.206383</td>\n",
              "      <td>2019-05-07 11:36:43</td>\n",
              "      <td>28.698442</td>\n",
              "      <td>77.207397</td>\n",
              "      <td>2019-05-07 11:36:31</td>\n",
              "    </tr>\n",
              "    <tr>\n",
              "      <th>3</th>\n",
              "      <td>2019-05-07 21:19:20</td>\n",
              "      <td>28.683289</td>\n",
              "      <td>77.203283</td>\n",
              "      <td>2019-05-07 21:20:10</td>\n",
              "      <td>28.692583</td>\n",
              "      <td>77.194580</td>\n",
              "      <td>2019-05-07 21:19:40</td>\n",
              "    </tr>\n",
              "    <tr>\n",
              "      <th>4</th>\n",
              "      <td>2019-05-08 14:56:55</td>\n",
              "      <td>28.685740</td>\n",
              "      <td>77.206383</td>\n",
              "      <td>2019-05-08 14:57:12</td>\n",
              "      <td>28.698442</td>\n",
              "      <td>77.207397</td>\n",
              "      <td>2019-05-08 14:57:07</td>\n",
              "    </tr>\n",
              "    <tr>\n",
              "      <th>...</th>\n",
              "      <td>...</td>\n",
              "      <td>...</td>\n",
              "      <td>...</td>\n",
              "      <td>...</td>\n",
              "      <td>...</td>\n",
              "      <td>...</td>\n",
              "      <td>...</td>\n",
              "    </tr>\n",
              "    <tr>\n",
              "      <th>1252</th>\n",
              "      <td>2020-01-22 18:01:13</td>\n",
              "      <td>28.695908</td>\n",
              "      <td>77.209213</td>\n",
              "      <td>2020-01-22 18:01:18</td>\n",
              "      <td>28.694111</td>\n",
              "      <td>77.189728</td>\n",
              "      <td>2020-01-22 18:01:13</td>\n",
              "    </tr>\n",
              "    <tr>\n",
              "      <th>1253</th>\n",
              "      <td>2020-01-23 11:05:16</td>\n",
              "      <td>28.695908</td>\n",
              "      <td>77.209213</td>\n",
              "      <td>2020-01-23 11:05:21</td>\n",
              "      <td>28.694080</td>\n",
              "      <td>77.189713</td>\n",
              "      <td>2020-01-23 11:05:16</td>\n",
              "    </tr>\n",
              "    <tr>\n",
              "      <th>1254</th>\n",
              "      <td>2020-01-23 11:08:31</td>\n",
              "      <td>28.695908</td>\n",
              "      <td>77.209213</td>\n",
              "      <td>2020-01-23 11:08:51</td>\n",
              "      <td>28.694082</td>\n",
              "      <td>77.189713</td>\n",
              "      <td>2020-01-23 11:08:45</td>\n",
              "    </tr>\n",
              "    <tr>\n",
              "      <th>1255</th>\n",
              "      <td>2020-01-23 14:49:15</td>\n",
              "      <td>28.695908</td>\n",
              "      <td>77.209213</td>\n",
              "      <td>2020-01-23 14:53:38</td>\n",
              "      <td>28.694113</td>\n",
              "      <td>77.189735</td>\n",
              "      <td>2020-01-23 14:49:15</td>\n",
              "    </tr>\n",
              "    <tr>\n",
              "      <th>1256</th>\n",
              "      <td>2020-01-23 14:54:50</td>\n",
              "      <td>28.695908</td>\n",
              "      <td>77.209213</td>\n",
              "      <td>2020-01-23 14:55:11</td>\n",
              "      <td>28.694113</td>\n",
              "      <td>77.189705</td>\n",
              "      <td>2020-01-23 14:55:06</td>\n",
              "    </tr>\n",
              "  </tbody>\n",
              "</table>\n",
              "<p>1257 rows × 7 columns</p>\n",
              "</div>"
            ],
            "text/plain": [
              "             acceptedTime  ...            startTime\n",
              "0     2019-05-06 21:34:41  ...  2019-05-06 21:34:56\n",
              "1     2019-05-06 21:48:23  ...  2019-05-06 21:49:32\n",
              "2     2019-05-07 11:36:10  ...  2019-05-07 11:36:31\n",
              "3     2019-05-07 21:19:20  ...  2019-05-07 21:19:40\n",
              "4     2019-05-08 14:56:55  ...  2019-05-08 14:57:07\n",
              "...                   ...  ...                  ...\n",
              "1252  2020-01-22 18:01:13  ...  2020-01-22 18:01:13\n",
              "1253  2020-01-23 11:05:16  ...  2020-01-23 11:05:16\n",
              "1254  2020-01-23 11:08:31  ...  2020-01-23 11:08:45\n",
              "1255  2020-01-23 14:49:15  ...  2020-01-23 14:49:15\n",
              "1256  2020-01-23 14:54:50  ...  2020-01-23 14:55:06\n",
              "\n",
              "[1257 rows x 7 columns]"
            ]
          },
          "metadata": {
            "tags": []
          },
          "execution_count": 111
        }
      ]
    },
    {
      "cell_type": "code",
      "metadata": {
        "id": "rP6ZqMLjlkGa",
        "colab_type": "code",
        "colab": {}
      },
      "source": [
        "ride_df2 = ride_df1.copy()"
      ],
      "execution_count": 0,
      "outputs": []
    },
    {
      "cell_type": "code",
      "metadata": {
        "id": "Tky9Iz2HnYvx",
        "colab_type": "code",
        "colab": {}
      },
      "source": [
        "ride_df2.columns = ['dt1','dslat','dslng','dt2','srlat','srlng','dt3']"
      ],
      "execution_count": 0,
      "outputs": []
    },
    {
      "cell_type": "code",
      "metadata": {
        "id": "Bj3S0qg6lE1k",
        "colab_type": "code",
        "colab": {}
      },
      "source": [
        "ride_df2.dt1 = pd.to_datetime(ride_df2.dt1, format='%Y-%m-%d %H:%M:%S')\n",
        "ride_df2['month'] = ride_df2.dt1.apply(lambda x: x.month)\n",
        "ride_df2['week'] = ride_df2.dt1.apply(lambda x: x.week) \n",
        "ride_df2['day'] = ride_df2.dt1.apply(lambda x: x.day)\n",
        "ride_df2['hour'] = ride_df2.dt1.apply(lambda x: x.hour)\n",
        "ride_df2['year'] = ride_df2.dt1.apply(lambda x: x.year)\n",
        "\n",
        "\n",
        "ride_df2.dt2 = pd.to_datetime(ride_df2.dt2, format='%Y-%m-%d %H:%M:%S')\n",
        "ride_df2['month1'] = ride_df2.dt2.apply(lambda x: x.month)\n",
        "ride_df2['week1'] = ride_df2.dt2.apply(lambda x: x.week)\n",
        "ride_df2['day1'] = ride_df2.dt2.apply(lambda x: x.day)\n",
        "ride_df2['hour1'] = ride_df2.dt2.apply(lambda x: x.hour)\n",
        "ride_df2['year1'] = ride_df2.dt2.apply(lambda x: x.year)\n",
        "\n",
        "\n",
        "ride_df2.dt3 = pd.to_datetime(ride_df2.dt3, format='%Y-%m-%d %H:%M:%S')\n",
        "ride_df2['month2'] = ride_df2.dt3.apply(lambda x: x.month)\n",
        "ride_df2['week2'] = ride_df2.dt3.apply(lambda x: x.week)\n",
        "ride_df2['day2'] = ride_df2.dt3.apply(lambda x: x.day)\n",
        "ride_df2['hour2'] = ride_df2.dt3.apply(lambda x: x.hour)\n",
        "ride_df2['year2'] = ride_df2.dt3.apply(lambda x: x.year)"
      ],
      "execution_count": 0,
      "outputs": []
    },
    {
      "cell_type": "code",
      "metadata": {
        "id": "-3KHkkmXlrS7",
        "colab_type": "code",
        "colab": {
          "base_uri": "https://localhost:8080/",
          "height": 759
        },
        "outputId": "179cbb2b-cc07-467d-aa12-cc607fc24806"
      },
      "source": [
        "ride_df2"
      ],
      "execution_count": 130,
      "outputs": [
        {
          "output_type": "execute_result",
          "data": {
            "text/html": [
              "<div>\n",
              "<style scoped>\n",
              "    .dataframe tbody tr th:only-of-type {\n",
              "        vertical-align: middle;\n",
              "    }\n",
              "\n",
              "    .dataframe tbody tr th {\n",
              "        vertical-align: top;\n",
              "    }\n",
              "\n",
              "    .dataframe thead th {\n",
              "        text-align: right;\n",
              "    }\n",
              "</style>\n",
              "<table border=\"1\" class=\"dataframe\">\n",
              "  <thead>\n",
              "    <tr style=\"text-align: right;\">\n",
              "      <th></th>\n",
              "      <th>dt1</th>\n",
              "      <th>dslat</th>\n",
              "      <th>dslng</th>\n",
              "      <th>dt2</th>\n",
              "      <th>srlat</th>\n",
              "      <th>srlng</th>\n",
              "      <th>dt3</th>\n",
              "      <th>month</th>\n",
              "      <th>week</th>\n",
              "      <th>day</th>\n",
              "      <th>hour</th>\n",
              "      <th>year</th>\n",
              "      <th>month1</th>\n",
              "      <th>week1</th>\n",
              "      <th>day1</th>\n",
              "      <th>hour1</th>\n",
              "      <th>year1</th>\n",
              "      <th>month2</th>\n",
              "      <th>week2</th>\n",
              "      <th>day2</th>\n",
              "      <th>hour2</th>\n",
              "      <th>year2</th>\n",
              "    </tr>\n",
              "  </thead>\n",
              "  <tbody>\n",
              "    <tr>\n",
              "      <th>0</th>\n",
              "      <td>2019-05-06 21:34:41</td>\n",
              "      <td>28.685740</td>\n",
              "      <td>77.206383</td>\n",
              "      <td>2019-05-06 21:35:19</td>\n",
              "      <td>28.698442</td>\n",
              "      <td>77.207397</td>\n",
              "      <td>2019-05-06 21:34:56</td>\n",
              "      <td>5</td>\n",
              "      <td>19</td>\n",
              "      <td>6</td>\n",
              "      <td>21</td>\n",
              "      <td>2019</td>\n",
              "      <td>5</td>\n",
              "      <td>19</td>\n",
              "      <td>6</td>\n",
              "      <td>21</td>\n",
              "      <td>2019</td>\n",
              "      <td>5</td>\n",
              "      <td>19</td>\n",
              "      <td>6</td>\n",
              "      <td>21</td>\n",
              "      <td>2019</td>\n",
              "    </tr>\n",
              "    <tr>\n",
              "      <th>1</th>\n",
              "      <td>2019-05-06 21:48:23</td>\n",
              "      <td>28.685740</td>\n",
              "      <td>77.206383</td>\n",
              "      <td>2019-05-06 21:50:57</td>\n",
              "      <td>28.698442</td>\n",
              "      <td>77.207397</td>\n",
              "      <td>2019-05-06 21:49:32</td>\n",
              "      <td>5</td>\n",
              "      <td>19</td>\n",
              "      <td>6</td>\n",
              "      <td>21</td>\n",
              "      <td>2019</td>\n",
              "      <td>5</td>\n",
              "      <td>19</td>\n",
              "      <td>6</td>\n",
              "      <td>21</td>\n",
              "      <td>2019</td>\n",
              "      <td>5</td>\n",
              "      <td>19</td>\n",
              "      <td>6</td>\n",
              "      <td>21</td>\n",
              "      <td>2019</td>\n",
              "    </tr>\n",
              "    <tr>\n",
              "      <th>2</th>\n",
              "      <td>2019-05-07 11:36:10</td>\n",
              "      <td>28.685740</td>\n",
              "      <td>77.206383</td>\n",
              "      <td>2019-05-07 11:36:43</td>\n",
              "      <td>28.698442</td>\n",
              "      <td>77.207397</td>\n",
              "      <td>2019-05-07 11:36:31</td>\n",
              "      <td>5</td>\n",
              "      <td>19</td>\n",
              "      <td>7</td>\n",
              "      <td>11</td>\n",
              "      <td>2019</td>\n",
              "      <td>5</td>\n",
              "      <td>19</td>\n",
              "      <td>7</td>\n",
              "      <td>11</td>\n",
              "      <td>2019</td>\n",
              "      <td>5</td>\n",
              "      <td>19</td>\n",
              "      <td>7</td>\n",
              "      <td>11</td>\n",
              "      <td>2019</td>\n",
              "    </tr>\n",
              "    <tr>\n",
              "      <th>3</th>\n",
              "      <td>2019-05-07 21:19:20</td>\n",
              "      <td>28.683289</td>\n",
              "      <td>77.203283</td>\n",
              "      <td>2019-05-07 21:20:10</td>\n",
              "      <td>28.692583</td>\n",
              "      <td>77.194580</td>\n",
              "      <td>2019-05-07 21:19:40</td>\n",
              "      <td>5</td>\n",
              "      <td>19</td>\n",
              "      <td>7</td>\n",
              "      <td>21</td>\n",
              "      <td>2019</td>\n",
              "      <td>5</td>\n",
              "      <td>19</td>\n",
              "      <td>7</td>\n",
              "      <td>21</td>\n",
              "      <td>2019</td>\n",
              "      <td>5</td>\n",
              "      <td>19</td>\n",
              "      <td>7</td>\n",
              "      <td>21</td>\n",
              "      <td>2019</td>\n",
              "    </tr>\n",
              "    <tr>\n",
              "      <th>4</th>\n",
              "      <td>2019-05-08 14:56:55</td>\n",
              "      <td>28.685740</td>\n",
              "      <td>77.206383</td>\n",
              "      <td>2019-05-08 14:57:12</td>\n",
              "      <td>28.698442</td>\n",
              "      <td>77.207397</td>\n",
              "      <td>2019-05-08 14:57:07</td>\n",
              "      <td>5</td>\n",
              "      <td>19</td>\n",
              "      <td>8</td>\n",
              "      <td>14</td>\n",
              "      <td>2019</td>\n",
              "      <td>5</td>\n",
              "      <td>19</td>\n",
              "      <td>8</td>\n",
              "      <td>14</td>\n",
              "      <td>2019</td>\n",
              "      <td>5</td>\n",
              "      <td>19</td>\n",
              "      <td>8</td>\n",
              "      <td>14</td>\n",
              "      <td>2019</td>\n",
              "    </tr>\n",
              "    <tr>\n",
              "      <th>...</th>\n",
              "      <td>...</td>\n",
              "      <td>...</td>\n",
              "      <td>...</td>\n",
              "      <td>...</td>\n",
              "      <td>...</td>\n",
              "      <td>...</td>\n",
              "      <td>...</td>\n",
              "      <td>...</td>\n",
              "      <td>...</td>\n",
              "      <td>...</td>\n",
              "      <td>...</td>\n",
              "      <td>...</td>\n",
              "      <td>...</td>\n",
              "      <td>...</td>\n",
              "      <td>...</td>\n",
              "      <td>...</td>\n",
              "      <td>...</td>\n",
              "      <td>...</td>\n",
              "      <td>...</td>\n",
              "      <td>...</td>\n",
              "      <td>...</td>\n",
              "      <td>...</td>\n",
              "    </tr>\n",
              "    <tr>\n",
              "      <th>1252</th>\n",
              "      <td>2020-01-22 18:01:13</td>\n",
              "      <td>28.695908</td>\n",
              "      <td>77.209213</td>\n",
              "      <td>2020-01-22 18:01:18</td>\n",
              "      <td>28.694111</td>\n",
              "      <td>77.189728</td>\n",
              "      <td>2020-01-22 18:01:13</td>\n",
              "      <td>1</td>\n",
              "      <td>4</td>\n",
              "      <td>22</td>\n",
              "      <td>18</td>\n",
              "      <td>2020</td>\n",
              "      <td>1</td>\n",
              "      <td>4</td>\n",
              "      <td>22</td>\n",
              "      <td>18</td>\n",
              "      <td>2020</td>\n",
              "      <td>1</td>\n",
              "      <td>4</td>\n",
              "      <td>22</td>\n",
              "      <td>18</td>\n",
              "      <td>2020</td>\n",
              "    </tr>\n",
              "    <tr>\n",
              "      <th>1253</th>\n",
              "      <td>2020-01-23 11:05:16</td>\n",
              "      <td>28.695908</td>\n",
              "      <td>77.209213</td>\n",
              "      <td>2020-01-23 11:05:21</td>\n",
              "      <td>28.694080</td>\n",
              "      <td>77.189713</td>\n",
              "      <td>2020-01-23 11:05:16</td>\n",
              "      <td>1</td>\n",
              "      <td>4</td>\n",
              "      <td>23</td>\n",
              "      <td>11</td>\n",
              "      <td>2020</td>\n",
              "      <td>1</td>\n",
              "      <td>4</td>\n",
              "      <td>23</td>\n",
              "      <td>11</td>\n",
              "      <td>2020</td>\n",
              "      <td>1</td>\n",
              "      <td>4</td>\n",
              "      <td>23</td>\n",
              "      <td>11</td>\n",
              "      <td>2020</td>\n",
              "    </tr>\n",
              "    <tr>\n",
              "      <th>1254</th>\n",
              "      <td>2020-01-23 11:08:31</td>\n",
              "      <td>28.695908</td>\n",
              "      <td>77.209213</td>\n",
              "      <td>2020-01-23 11:08:51</td>\n",
              "      <td>28.694082</td>\n",
              "      <td>77.189713</td>\n",
              "      <td>2020-01-23 11:08:45</td>\n",
              "      <td>1</td>\n",
              "      <td>4</td>\n",
              "      <td>23</td>\n",
              "      <td>11</td>\n",
              "      <td>2020</td>\n",
              "      <td>1</td>\n",
              "      <td>4</td>\n",
              "      <td>23</td>\n",
              "      <td>11</td>\n",
              "      <td>2020</td>\n",
              "      <td>1</td>\n",
              "      <td>4</td>\n",
              "      <td>23</td>\n",
              "      <td>11</td>\n",
              "      <td>2020</td>\n",
              "    </tr>\n",
              "    <tr>\n",
              "      <th>1255</th>\n",
              "      <td>2020-01-23 14:49:15</td>\n",
              "      <td>28.695908</td>\n",
              "      <td>77.209213</td>\n",
              "      <td>2020-01-23 14:53:38</td>\n",
              "      <td>28.694113</td>\n",
              "      <td>77.189735</td>\n",
              "      <td>2020-01-23 14:49:15</td>\n",
              "      <td>1</td>\n",
              "      <td>4</td>\n",
              "      <td>23</td>\n",
              "      <td>14</td>\n",
              "      <td>2020</td>\n",
              "      <td>1</td>\n",
              "      <td>4</td>\n",
              "      <td>23</td>\n",
              "      <td>14</td>\n",
              "      <td>2020</td>\n",
              "      <td>1</td>\n",
              "      <td>4</td>\n",
              "      <td>23</td>\n",
              "      <td>14</td>\n",
              "      <td>2020</td>\n",
              "    </tr>\n",
              "    <tr>\n",
              "      <th>1256</th>\n",
              "      <td>2020-01-23 14:54:50</td>\n",
              "      <td>28.695908</td>\n",
              "      <td>77.209213</td>\n",
              "      <td>2020-01-23 14:55:11</td>\n",
              "      <td>28.694113</td>\n",
              "      <td>77.189705</td>\n",
              "      <td>2020-01-23 14:55:06</td>\n",
              "      <td>1</td>\n",
              "      <td>4</td>\n",
              "      <td>23</td>\n",
              "      <td>14</td>\n",
              "      <td>2020</td>\n",
              "      <td>1</td>\n",
              "      <td>4</td>\n",
              "      <td>23</td>\n",
              "      <td>14</td>\n",
              "      <td>2020</td>\n",
              "      <td>1</td>\n",
              "      <td>4</td>\n",
              "      <td>23</td>\n",
              "      <td>14</td>\n",
              "      <td>2020</td>\n",
              "    </tr>\n",
              "  </tbody>\n",
              "</table>\n",
              "<p>1257 rows × 22 columns</p>\n",
              "</div>"
            ],
            "text/plain": [
              "                     dt1      dslat      dslng  ... day2  hour2  year2\n",
              "0    2019-05-06 21:34:41  28.685740  77.206383  ...    6     21   2019\n",
              "1    2019-05-06 21:48:23  28.685740  77.206383  ...    6     21   2019\n",
              "2    2019-05-07 11:36:10  28.685740  77.206383  ...    7     11   2019\n",
              "3    2019-05-07 21:19:20  28.683289  77.203283  ...    7     21   2019\n",
              "4    2019-05-08 14:56:55  28.685740  77.206383  ...    8     14   2019\n",
              "...                  ...        ...        ...  ...  ...    ...    ...\n",
              "1252 2020-01-22 18:01:13  28.695908  77.209213  ...   22     18   2020\n",
              "1253 2020-01-23 11:05:16  28.695908  77.209213  ...   23     11   2020\n",
              "1254 2020-01-23 11:08:31  28.695908  77.209213  ...   23     11   2020\n",
              "1255 2020-01-23 14:49:15  28.695908  77.209213  ...   23     14   2020\n",
              "1256 2020-01-23 14:54:50  28.695908  77.209213  ...   23     14   2020\n",
              "\n",
              "[1257 rows x 22 columns]"
            ]
          },
          "metadata": {
            "tags": []
          },
          "execution_count": 130
        }
      ]
    },
    {
      "cell_type": "code",
      "metadata": {
        "id": "Ks-ovk6hlsy5",
        "colab_type": "code",
        "colab": {}
      },
      "source": [
        "ride_df2.drop(ride_df2.columns[[0, 3, 6]], axis = 1, inplace = True)"
      ],
      "execution_count": 0,
      "outputs": []
    },
    {
      "cell_type": "code",
      "metadata": {
        "id": "LnLHv5rIpfcy",
        "colab_type": "code",
        "colab": {
          "base_uri": "https://localhost:8080/",
          "height": 196
        },
        "outputId": "794b6c89-482a-4ef4-b047-d92a5510a1c2"
      },
      "source": [
        "ride_df2.head()"
      ],
      "execution_count": 132,
      "outputs": [
        {
          "output_type": "execute_result",
          "data": {
            "text/html": [
              "<div>\n",
              "<style scoped>\n",
              "    .dataframe tbody tr th:only-of-type {\n",
              "        vertical-align: middle;\n",
              "    }\n",
              "\n",
              "    .dataframe tbody tr th {\n",
              "        vertical-align: top;\n",
              "    }\n",
              "\n",
              "    .dataframe thead th {\n",
              "        text-align: right;\n",
              "    }\n",
              "</style>\n",
              "<table border=\"1\" class=\"dataframe\">\n",
              "  <thead>\n",
              "    <tr style=\"text-align: right;\">\n",
              "      <th></th>\n",
              "      <th>dslat</th>\n",
              "      <th>dslng</th>\n",
              "      <th>srlat</th>\n",
              "      <th>srlng</th>\n",
              "      <th>month</th>\n",
              "      <th>week</th>\n",
              "      <th>day</th>\n",
              "      <th>hour</th>\n",
              "      <th>year</th>\n",
              "      <th>month1</th>\n",
              "      <th>week1</th>\n",
              "      <th>day1</th>\n",
              "      <th>hour1</th>\n",
              "      <th>year1</th>\n",
              "      <th>month2</th>\n",
              "      <th>week2</th>\n",
              "      <th>day2</th>\n",
              "      <th>hour2</th>\n",
              "      <th>year2</th>\n",
              "    </tr>\n",
              "  </thead>\n",
              "  <tbody>\n",
              "    <tr>\n",
              "      <th>0</th>\n",
              "      <td>28.685740</td>\n",
              "      <td>77.206383</td>\n",
              "      <td>28.698442</td>\n",
              "      <td>77.207397</td>\n",
              "      <td>5</td>\n",
              "      <td>19</td>\n",
              "      <td>6</td>\n",
              "      <td>21</td>\n",
              "      <td>2019</td>\n",
              "      <td>5</td>\n",
              "      <td>19</td>\n",
              "      <td>6</td>\n",
              "      <td>21</td>\n",
              "      <td>2019</td>\n",
              "      <td>5</td>\n",
              "      <td>19</td>\n",
              "      <td>6</td>\n",
              "      <td>21</td>\n",
              "      <td>2019</td>\n",
              "    </tr>\n",
              "    <tr>\n",
              "      <th>1</th>\n",
              "      <td>28.685740</td>\n",
              "      <td>77.206383</td>\n",
              "      <td>28.698442</td>\n",
              "      <td>77.207397</td>\n",
              "      <td>5</td>\n",
              "      <td>19</td>\n",
              "      <td>6</td>\n",
              "      <td>21</td>\n",
              "      <td>2019</td>\n",
              "      <td>5</td>\n",
              "      <td>19</td>\n",
              "      <td>6</td>\n",
              "      <td>21</td>\n",
              "      <td>2019</td>\n",
              "      <td>5</td>\n",
              "      <td>19</td>\n",
              "      <td>6</td>\n",
              "      <td>21</td>\n",
              "      <td>2019</td>\n",
              "    </tr>\n",
              "    <tr>\n",
              "      <th>2</th>\n",
              "      <td>28.685740</td>\n",
              "      <td>77.206383</td>\n",
              "      <td>28.698442</td>\n",
              "      <td>77.207397</td>\n",
              "      <td>5</td>\n",
              "      <td>19</td>\n",
              "      <td>7</td>\n",
              "      <td>11</td>\n",
              "      <td>2019</td>\n",
              "      <td>5</td>\n",
              "      <td>19</td>\n",
              "      <td>7</td>\n",
              "      <td>11</td>\n",
              "      <td>2019</td>\n",
              "      <td>5</td>\n",
              "      <td>19</td>\n",
              "      <td>7</td>\n",
              "      <td>11</td>\n",
              "      <td>2019</td>\n",
              "    </tr>\n",
              "    <tr>\n",
              "      <th>3</th>\n",
              "      <td>28.683289</td>\n",
              "      <td>77.203283</td>\n",
              "      <td>28.692583</td>\n",
              "      <td>77.194580</td>\n",
              "      <td>5</td>\n",
              "      <td>19</td>\n",
              "      <td>7</td>\n",
              "      <td>21</td>\n",
              "      <td>2019</td>\n",
              "      <td>5</td>\n",
              "      <td>19</td>\n",
              "      <td>7</td>\n",
              "      <td>21</td>\n",
              "      <td>2019</td>\n",
              "      <td>5</td>\n",
              "      <td>19</td>\n",
              "      <td>7</td>\n",
              "      <td>21</td>\n",
              "      <td>2019</td>\n",
              "    </tr>\n",
              "    <tr>\n",
              "      <th>4</th>\n",
              "      <td>28.685740</td>\n",
              "      <td>77.206383</td>\n",
              "      <td>28.698442</td>\n",
              "      <td>77.207397</td>\n",
              "      <td>5</td>\n",
              "      <td>19</td>\n",
              "      <td>8</td>\n",
              "      <td>14</td>\n",
              "      <td>2019</td>\n",
              "      <td>5</td>\n",
              "      <td>19</td>\n",
              "      <td>8</td>\n",
              "      <td>14</td>\n",
              "      <td>2019</td>\n",
              "      <td>5</td>\n",
              "      <td>19</td>\n",
              "      <td>8</td>\n",
              "      <td>14</td>\n",
              "      <td>2019</td>\n",
              "    </tr>\n",
              "  </tbody>\n",
              "</table>\n",
              "</div>"
            ],
            "text/plain": [
              "       dslat      dslng      srlat      srlng  ...  week2  day2  hour2  year2\n",
              "0  28.685740  77.206383  28.698442  77.207397  ...     19     6     21   2019\n",
              "1  28.685740  77.206383  28.698442  77.207397  ...     19     6     21   2019\n",
              "2  28.685740  77.206383  28.698442  77.207397  ...     19     7     11   2019\n",
              "3  28.683289  77.203283  28.692583  77.194580  ...     19     7     21   2019\n",
              "4  28.685740  77.206383  28.698442  77.207397  ...     19     8     14   2019\n",
              "\n",
              "[5 rows x 19 columns]"
            ]
          },
          "metadata": {
            "tags": []
          },
          "execution_count": 132
        }
      ]
    },
    {
      "cell_type": "code",
      "metadata": {
        "id": "n5jtNYpipgo4",
        "colab_type": "code",
        "colab": {}
      },
      "source": [
        "from sklearn.metrics import r2_score\n",
        "from sklearn.preprocessing import MinMaxScaler"
      ],
      "execution_count": 0,
      "outputs": []
    },
    {
      "cell_type": "code",
      "metadata": {
        "id": "WqxoNi6gp3Ws",
        "colab_type": "code",
        "colab": {
          "base_uri": "https://localhost:8080/",
          "height": 418
        },
        "outputId": "ee37bb36-f813-4cc0-aefa-b0205bd18e5c"
      },
      "source": [
        "ride_df2.info()"
      ],
      "execution_count": 134,
      "outputs": [
        {
          "output_type": "stream",
          "text": [
            "<class 'pandas.core.frame.DataFrame'>\n",
            "RangeIndex: 1257 entries, 0 to 1256\n",
            "Data columns (total 19 columns):\n",
            "dslat     1257 non-null float64\n",
            "dslng     1257 non-null float64\n",
            "srlat     1257 non-null float32\n",
            "srlng     1257 non-null float32\n",
            "month     1257 non-null int64\n",
            "week      1257 non-null int64\n",
            "day       1257 non-null int64\n",
            "hour      1257 non-null int64\n",
            "year      1257 non-null int64\n",
            "month1    1257 non-null int64\n",
            "week1     1257 non-null int64\n",
            "day1      1257 non-null int64\n",
            "hour1     1257 non-null int64\n",
            "year1     1257 non-null int64\n",
            "month2    1257 non-null int64\n",
            "week2     1257 non-null int64\n",
            "day2      1257 non-null int64\n",
            "hour2     1257 non-null int64\n",
            "year2     1257 non-null int64\n",
            "dtypes: float32(2), float64(2), int64(15)\n",
            "memory usage: 176.9 KB\n"
          ],
          "name": "stdout"
        }
      ]
    },
    {
      "cell_type": "code",
      "metadata": {
        "id": "D1_AAy5Qp65E",
        "colab_type": "code",
        "colab": {
          "base_uri": "https://localhost:8080/",
          "height": 33
        },
        "outputId": "3830e7e6-4276-41c7-c23a-51c002728325"
      },
      "source": [
        "MMS = MinMaxScaler()\n",
        "ride_df2 = pd.DataFrame(MMS.fit_transform(ride_df2), columns=ride_df2.columns)\n",
        "\n",
        "#  shift the data so we are predicting one time step future\n",
        "X = ride_df2.iloc[:-1,:]\n",
        "y = ride_df2.iloc[1:,-1257:] #IDs\n",
        "\n",
        "# Train-Test-Split-90/10\n",
        "X_train, X_test = X[:int(round(len(X)*0.8, 0))], X[int(round(len(X)*0.8, 0)):]\n",
        "y_train, y_test = y[:int(round(len(y)*0.8, 0))], y[int(round(len(y)*0.8, 0)):]\n",
        "\n",
        "#Reshape for LSTM/GRU layers\n",
        "Xtr = X_train.values.reshape((1, X_train.shape[0], X_train.shape[1]))\n",
        "ytr = y_train.values.reshape((1, y_train.shape[0], y_train.shape[1]))\n",
        "Xte = X_test.values.reshape((1, X_test.shape[0], X_test.shape[1]))\n",
        "yte = y_test.values.reshape((1, y_test.shape[0], y_test.shape[1]))\n",
        "\n",
        "#Check data validity\n",
        "print (len(X_train) + len(X_test), len(y_train) + len(y_test))"
      ],
      "execution_count": 137,
      "outputs": [
        {
          "output_type": "stream",
          "text": [
            "1256 1256\n"
          ],
          "name": "stdout"
        }
      ]
    },
    {
      "cell_type": "code",
      "metadata": {
        "id": "yoFWdHrbqJ5b",
        "colab_type": "code",
        "colab": {
          "base_uri": "https://localhost:8080/",
          "height": 79
        },
        "outputId": "a480cc4f-df5d-470b-df83-75892b5953f0"
      },
      "source": [
        "import keras.backend as K\n",
        "\n",
        "def custom_r2(y_true, y_pred):\n",
        "    baseline = K.sum((y_true - K.mean(y_true))**2)\n",
        "    model_fit = K.sum((y_true - y_pred)**2)\n",
        "    return 1. - model_fit/baseline"
      ],
      "execution_count": 138,
      "outputs": [
        {
          "output_type": "stream",
          "text": [
            "Using TensorFlow backend.\n"
          ],
          "name": "stderr"
        },
        {
          "output_type": "display_data",
          "data": {
            "text/html": [
              "<p style=\"color: red;\">\n",
              "The default version of TensorFlow in Colab will soon switch to TensorFlow 2.x.<br>\n",
              "We recommend you <a href=\"https://www.tensorflow.org/guide/migrate\" target=\"_blank\">upgrade</a> now \n",
              "or ensure your notebook will continue to use TensorFlow 1.x via the <code>%tensorflow_version 1.x</code> magic:\n",
              "<a href=\"https://colab.research.google.com/notebooks/tensorflow_version.ipynb\" target=\"_blank\">more info</a>.</p>\n"
            ],
            "text/plain": [
              "<IPython.core.display.HTML object>"
            ]
          },
          "metadata": {
            "tags": []
          }
        }
      ]
    },
    {
      "cell_type": "code",
      "metadata": {
        "id": "4sJx4GV9qfRF",
        "colab_type": "code",
        "colab": {}
      },
      "source": [
        "from keras.models import Sequential, Model, load_model\n",
        "from keras.layers import LSTM, Dense, Dropout, GRU, TimeDistributed, Input, merge, Activation\n",
        "from keras.layers import Reshape\n",
        "from keras.optimizers import rmsprop, Adamax"
      ],
      "execution_count": 0,
      "outputs": []
    },
    {
      "cell_type": "code",
      "metadata": {
        "id": "t1E6bcwbqiUk",
        "colab_type": "code",
        "colab": {}
      },
      "source": [
        "def build_model(n_features, dropout, n_outputs, compile_model=1, load_weights=0, loss='mse', lr=0.01):\n",
        "    '''\n",
        "    Builds a n-Layer neural_network \n",
        "    \n",
        "    Parmaters\n",
        "    ---------\n",
        "    \n",
        "    '''\n",
        "    model = Sequential()\n",
        "\n",
        "    #DENSE - INPUT\n",
        "    model.add(TimeDistributed(Dense(256, activation='relu'), input_shape=(None, n_features)))\n",
        "    model.add(Dropout(dropout))\n",
        "    \n",
        "    #DENSE (2 Layers)\n",
        "    model.add(TimeDistributed(Dense(256, activation='relu')))\n",
        "    model.add(Dropout(dropout))\n",
        "    model.add(TimeDistributed(Dense(256, activation='relu')))\n",
        "    model.add(Dropout(dropout))\n",
        "\n",
        "    #LSTM (1 Layers)\n",
        "    model.add(LSTM(256, return_sequences=True))\n",
        "    model.add(Dropout(dropout))\n",
        "\n",
        "\n",
        "    #DENSE (2 Layers)\n",
        "    model.add(TimeDistributed(Dense(256, activation='relu')))\n",
        "    model.add(Dropout(dropout))\n",
        "    model.add(TimeDistributed(Dense(256, activation='relu')))\n",
        "    model.add(Dropout(dropout))\n",
        "\n",
        "    # LSTM (1 Layer)\n",
        "    model.add(LSTM(256, return_sequences=True))\n",
        "    model.add(Dropout(dropout))\n",
        "\n",
        "    # DENSE (2 Layers)\n",
        "    model.add(TimeDistributed(Dense(256, activation='relu')))\n",
        "    model.add(Dropout(dropout))\n",
        "    model.add(TimeDistributed(Dense(256, activation='relu')))\n",
        "    model.add(Dropout(dropout))\n",
        "    \n",
        "    #OUTPUT\n",
        "    model.add(TimeDistributed(Dense(n_outputs, activation='relu')))\n",
        "\n",
        "    if compile_model == 1:\n",
        "        model.compile(loss=loss, optimizer=Adamax(lr=lr), metrics=[custom_r2])\n",
        "\n",
        "    if load_weights == 1:\n",
        "        model.load_weights('/content/drive/My Drive/BERT/'+file_name+'.h5')\n",
        "        \n",
        "    return model\n",
        "    \n",
        "    \n",
        "def run_neural_network(model, Xtr, ytr, Xte, yte, n_epochs, batch_size=1, verbose=0, save_weights=0):\n",
        "    '''\n",
        "    Runs neural_network.\n",
        "\n",
        "    Parameters\n",
        "    ----------\n",
        "    '''\n",
        "    try: \n",
        "        start_time = time.time()\n",
        "        print ('Executing ||', str(datetime.now())) \n",
        "\n",
        "        history = model.fit(Xtr, ytr, validation_data=(Xte, yte),\n",
        "                  batch_size=1, verbose=verbose, nb_epoch=n_epochs, shuffle=False)\n",
        "\n",
        "        print ('Execution_Complete || Runtime w/', n_epochs, 'epochs =', round((time.time() - start_time)/60., 2), 'minutes')\n",
        "\n",
        "        if save_weights == 1:\n",
        "            save_unit_weights()\n",
        "\n",
        "        return history\n",
        "    except KeyboardInterrupt:\n",
        "        pass\n",
        "    except:\n",
        "        print ('--Error in running model---')\n",
        "    \n",
        "    \n",
        "def save_unit_weights():\n",
        "    '''\n",
        "    Saves weights of previously run neural_network.\n",
        "\n",
        "    Parameters\n",
        "    ----------\n",
        "    '''\n",
        "    file_name = str(datetime.now()).replace(':', '_').replace(' ','_')[:19]\n",
        "    model.save_weights('/content/drive/My Drive/BERT/'+file_name+'.h5', overwrite=True)\n",
        "    print ('Saved ||', str(datetime.now()))\n",
        "    \n",
        "    \n",
        "def plot_neural_net_results(history, limit_r2=0, save_results=0):\n",
        "    '''\n",
        "    Plots results of neural network.\n",
        "\n",
        "    Parameters\n",
        "    ----------\n",
        "    '''\n",
        "    results = pd.DataFrame(history.history)\n",
        "    \n",
        "    # SUMMARY RESULTS\n",
        "    print ('---MAX RESULTS--- \\n', results[['custom_r2','val_custom_r2']].iloc[:].max(), '\\n')\n",
        "    print ('---TAIL RESULTS--- \\n', results[['custom_r2','val_custom_r2']].iloc[-1:], '\\n')\n",
        "\n",
        "    # Build figure\n",
        "    fig, (ax0, ax1) = plt.subplots(1, 2, figsize=(12,4.5))\n",
        "\n",
        "    # Assign Axis Plots\n",
        "    ax0.plot(results[['custom_r2', 'val_custom_r2']].iloc[:])\n",
        "    ax1.plot(results[['loss', 'val_loss']].iloc[:])\n",
        "\n",
        "    # Add horizontal and vertical line for max\n",
        "    ax0.axhline(results['val_custom_r2'].max(), color='red', lw=0.5)\n",
        "    ax0.axvline(results['val_custom_r2'].idxmax(), color='red', lw=0.5)\n",
        "     #Set axis limits\n",
        "    if limit_r2 == 1:\n",
        "        ax0.set_ylim(bottom=0.5, top=0.6)\n",
        "\n",
        "    # Rename axis titles\n",
        "    ax0.set_title('r2', fontsize=15)\n",
        "    ax1.set_title('loss', fontsize=15)\n",
        "\n",
        "    #ax0.legend(loc='lower right')\n",
        "\n",
        "    # Show plots\n",
        "    plt.show()\n",
        "\n",
        "    if save_results == 1:\n",
        "        file_name = str(datetime.now()).replace(':', '_').replace(' ','_')[:19]\n",
        "        results.to_csv('/content/drive/My Drive/BERT/'+ file_name + '.csv')    "
      ],
      "execution_count": 0,
      "outputs": []
    },
    {
      "cell_type": "code",
      "metadata": {
        "id": "Tf0F_Enaq_zz",
        "colab_type": "code",
        "colab": {
          "base_uri": "https://localhost:8080/",
          "height": 389
        },
        "outputId": "3e798011-c8a1-43d8-be02-ef8a79101f57"
      },
      "source": [
        "# Build Model\n",
        "model = build_model(n_features=Xtr.shape[2], dropout=0.5, n_outputs=263, compile_model=1, load_weights=0, lr=0.001)\n",
        "\n",
        "# Run Model\n",
        "#history = run_neural_network(model=model, Xtr=Xtr, ytr=ytr, Xte=Xte, yte=yte, save_weights=1, verbose=0, n_epochs=6000)\n",
        "\n",
        "history = model.fit_generator(Xtr,\n",
        "                          steps_per_epoch=1000,\n",
        "                          epochs=30,\n",
        "                          verbose=0,\n",
        "                          validation_data=Xte,\n",
        "                          validation_steps=200)\n",
        "\n",
        "# Plot Model\n",
        "plot_neural_net_results(history, save_results=1)"
      ],
      "execution_count": 165,
      "outputs": [
        {
          "output_type": "error",
          "ename": "ValueError",
          "evalue": "ignored",
          "traceback": [
            "\u001b[0;31m---------------------------------------------------------------------------\u001b[0m",
            "\u001b[0;31mValueError\u001b[0m                                Traceback (most recent call last)",
            "\u001b[0;32m<ipython-input-165-87485fe61cb0>\u001b[0m in \u001b[0;36m<module>\u001b[0;34m()\u001b[0m\n\u001b[1;32m      9\u001b[0m                           \u001b[0mverbose\u001b[0m\u001b[0;34m=\u001b[0m\u001b[0;36m0\u001b[0m\u001b[0;34m,\u001b[0m\u001b[0;34m\u001b[0m\u001b[0;34m\u001b[0m\u001b[0m\n\u001b[1;32m     10\u001b[0m                           \u001b[0mvalidation_data\u001b[0m\u001b[0;34m=\u001b[0m\u001b[0mXte\u001b[0m\u001b[0;34m,\u001b[0m\u001b[0;34m\u001b[0m\u001b[0;34m\u001b[0m\u001b[0m\n\u001b[0;32m---> 11\u001b[0;31m                           validation_steps=200)\n\u001b[0m\u001b[1;32m     12\u001b[0m \u001b[0;34m\u001b[0m\u001b[0m\n\u001b[1;32m     13\u001b[0m \u001b[0;31m# Plot Model\u001b[0m\u001b[0;34m\u001b[0m\u001b[0;34m\u001b[0m\u001b[0;34m\u001b[0m\u001b[0m\n",
            "\u001b[0;32m/usr/local/lib/python3.6/dist-packages/keras/legacy/interfaces.py\u001b[0m in \u001b[0;36mwrapper\u001b[0;34m(*args, **kwargs)\u001b[0m\n\u001b[1;32m     89\u001b[0m                 warnings.warn('Update your `' + object_name + '` call to the ' +\n\u001b[1;32m     90\u001b[0m                               'Keras 2 API: ' + signature, stacklevel=2)\n\u001b[0;32m---> 91\u001b[0;31m             \u001b[0;32mreturn\u001b[0m \u001b[0mfunc\u001b[0m\u001b[0;34m(\u001b[0m\u001b[0;34m*\u001b[0m\u001b[0margs\u001b[0m\u001b[0;34m,\u001b[0m \u001b[0;34m**\u001b[0m\u001b[0mkwargs\u001b[0m\u001b[0;34m)\u001b[0m\u001b[0;34m\u001b[0m\u001b[0;34m\u001b[0m\u001b[0m\n\u001b[0m\u001b[1;32m     92\u001b[0m         \u001b[0mwrapper\u001b[0m\u001b[0;34m.\u001b[0m\u001b[0m_original_function\u001b[0m \u001b[0;34m=\u001b[0m \u001b[0mfunc\u001b[0m\u001b[0;34m\u001b[0m\u001b[0;34m\u001b[0m\u001b[0m\n\u001b[1;32m     93\u001b[0m         \u001b[0;32mreturn\u001b[0m \u001b[0mwrapper\u001b[0m\u001b[0;34m\u001b[0m\u001b[0;34m\u001b[0m\u001b[0m\n",
            "\u001b[0;32m/usr/local/lib/python3.6/dist-packages/keras/engine/training.py\u001b[0m in \u001b[0;36mfit_generator\u001b[0;34m(self, generator, steps_per_epoch, epochs, verbose, callbacks, validation_data, validation_steps, validation_freq, class_weight, max_queue_size, workers, use_multiprocessing, shuffle, initial_epoch)\u001b[0m\n\u001b[1;32m   1656\u001b[0m             \u001b[0muse_multiprocessing\u001b[0m\u001b[0;34m=\u001b[0m\u001b[0muse_multiprocessing\u001b[0m\u001b[0;34m,\u001b[0m\u001b[0;34m\u001b[0m\u001b[0;34m\u001b[0m\u001b[0m\n\u001b[1;32m   1657\u001b[0m             \u001b[0mshuffle\u001b[0m\u001b[0;34m=\u001b[0m\u001b[0mshuffle\u001b[0m\u001b[0;34m,\u001b[0m\u001b[0;34m\u001b[0m\u001b[0;34m\u001b[0m\u001b[0m\n\u001b[0;32m-> 1658\u001b[0;31m             initial_epoch=initial_epoch)\n\u001b[0m\u001b[1;32m   1659\u001b[0m \u001b[0;34m\u001b[0m\u001b[0m\n\u001b[1;32m   1660\u001b[0m     \u001b[0;34m@\u001b[0m\u001b[0minterfaces\u001b[0m\u001b[0;34m.\u001b[0m\u001b[0mlegacy_generator_methods_support\u001b[0m\u001b[0;34m\u001b[0m\u001b[0;34m\u001b[0m\u001b[0m\n",
            "\u001b[0;32m/usr/local/lib/python3.6/dist-packages/keras/engine/training_generator.py\u001b[0m in \u001b[0;36mfit_generator\u001b[0;34m(model, generator, steps_per_epoch, epochs, verbose, callbacks, validation_data, validation_steps, validation_freq, class_weight, max_queue_size, workers, use_multiprocessing, shuffle, initial_epoch)\u001b[0m\n\u001b[1;32m     39\u001b[0m     \u001b[0mepoch\u001b[0m \u001b[0;34m=\u001b[0m \u001b[0minitial_epoch\u001b[0m\u001b[0;34m\u001b[0m\u001b[0;34m\u001b[0m\u001b[0m\n\u001b[1;32m     40\u001b[0m \u001b[0;34m\u001b[0m\u001b[0m\n\u001b[0;32m---> 41\u001b[0;31m     \u001b[0mdo_validation\u001b[0m \u001b[0;34m=\u001b[0m \u001b[0mbool\u001b[0m\u001b[0;34m(\u001b[0m\u001b[0mvalidation_data\u001b[0m\u001b[0;34m)\u001b[0m\u001b[0;34m\u001b[0m\u001b[0;34m\u001b[0m\u001b[0m\n\u001b[0m\u001b[1;32m     42\u001b[0m     \u001b[0mmodel\u001b[0m\u001b[0;34m.\u001b[0m\u001b[0m_make_train_function\u001b[0m\u001b[0;34m(\u001b[0m\u001b[0;34m)\u001b[0m\u001b[0;34m\u001b[0m\u001b[0;34m\u001b[0m\u001b[0m\n\u001b[1;32m     43\u001b[0m     \u001b[0;32mif\u001b[0m \u001b[0mdo_validation\u001b[0m\u001b[0;34m:\u001b[0m\u001b[0;34m\u001b[0m\u001b[0;34m\u001b[0m\u001b[0m\n",
            "\u001b[0;31mValueError\u001b[0m: The truth value of an array with more than one element is ambiguous. Use a.any() or a.all()"
          ]
        }
      ]
    },
    {
      "cell_type": "code",
      "metadata": {
        "id": "P3SmO2U8rVZR",
        "colab_type": "code",
        "colab": {
          "base_uri": "https://localhost:8080/",
          "height": 254
        },
        "outputId": "748d2000-6e82-4dd8-dcc5-7bd114db5db1"
      },
      "source": [
        "import time\n",
        "start_time = time.time()\n",
        "predictions = model.predict(Xtr)\n",
        "predictions = pd.DataFrame(predictions.reshape(predictions.shape[1], predictions.shape[2]))\n",
        "print (predictions.shape[0], 'predictions', '('+ str(round((time.time() - start_time), 2)) +') seconds')"
      ],
      "execution_count": 153,
      "outputs": [
        {
          "output_type": "stream",
          "text": [
            "WARNING:tensorflow:From /usr/local/lib/python3.6/dist-packages/keras/backend/tensorflow_backend.py:3005: The name tf.Session is deprecated. Please use tf.compat.v1.Session instead.\n",
            "\n",
            "WARNING:tensorflow:From /usr/local/lib/python3.6/dist-packages/keras/backend/tensorflow_backend.py:190: The name tf.get_default_session is deprecated. Please use tf.compat.v1.get_default_session instead.\n",
            "\n",
            "WARNING:tensorflow:From /usr/local/lib/python3.6/dist-packages/keras/backend/tensorflow_backend.py:197: The name tf.ConfigProto is deprecated. Please use tf.compat.v1.ConfigProto instead.\n",
            "\n",
            "WARNING:tensorflow:From /usr/local/lib/python3.6/dist-packages/keras/backend/tensorflow_backend.py:207: The name tf.global_variables is deprecated. Please use tf.compat.v1.global_variables instead.\n",
            "\n",
            "WARNING:tensorflow:From /usr/local/lib/python3.6/dist-packages/keras/backend/tensorflow_backend.py:216: The name tf.is_variable_initialized is deprecated. Please use tf.compat.v1.is_variable_initialized instead.\n",
            "\n",
            "WARNING:tensorflow:From /usr/local/lib/python3.6/dist-packages/keras/backend/tensorflow_backend.py:223: The name tf.variables_initializer is deprecated. Please use tf.compat.v1.variables_initializer instead.\n",
            "\n",
            "1005 predictions (10.72) seconds\n"
          ],
          "name": "stdout"
        }
      ]
    },
    {
      "cell_type": "code",
      "metadata": {
        "id": "AIJeVEwZtHi9",
        "colab_type": "code",
        "colab": {
          "base_uri": "https://localhost:8080/",
          "height": 245
        },
        "outputId": "faa38024-722e-4239-af0a-d0a5cc2056c3"
      },
      "source": [
        "predictions.head(5)"
      ],
      "execution_count": 155,
      "outputs": [
        {
          "output_type": "execute_result",
          "data": {
            "text/html": [
              "<div>\n",
              "<style scoped>\n",
              "    .dataframe tbody tr th:only-of-type {\n",
              "        vertical-align: middle;\n",
              "    }\n",
              "\n",
              "    .dataframe tbody tr th {\n",
              "        vertical-align: top;\n",
              "    }\n",
              "\n",
              "    .dataframe thead th {\n",
              "        text-align: right;\n",
              "    }\n",
              "</style>\n",
              "<table border=\"1\" class=\"dataframe\">\n",
              "  <thead>\n",
              "    <tr style=\"text-align: right;\">\n",
              "      <th></th>\n",
              "      <th>0</th>\n",
              "      <th>1</th>\n",
              "      <th>2</th>\n",
              "      <th>3</th>\n",
              "      <th>4</th>\n",
              "      <th>5</th>\n",
              "      <th>6</th>\n",
              "      <th>7</th>\n",
              "      <th>8</th>\n",
              "      <th>9</th>\n",
              "      <th>10</th>\n",
              "      <th>11</th>\n",
              "      <th>12</th>\n",
              "      <th>13</th>\n",
              "      <th>14</th>\n",
              "      <th>15</th>\n",
              "      <th>16</th>\n",
              "      <th>17</th>\n",
              "      <th>18</th>\n",
              "      <th>19</th>\n",
              "      <th>20</th>\n",
              "      <th>21</th>\n",
              "      <th>22</th>\n",
              "      <th>23</th>\n",
              "      <th>24</th>\n",
              "      <th>25</th>\n",
              "      <th>26</th>\n",
              "      <th>27</th>\n",
              "      <th>28</th>\n",
              "      <th>29</th>\n",
              "      <th>30</th>\n",
              "      <th>31</th>\n",
              "      <th>32</th>\n",
              "      <th>33</th>\n",
              "      <th>34</th>\n",
              "      <th>35</th>\n",
              "      <th>36</th>\n",
              "      <th>37</th>\n",
              "      <th>38</th>\n",
              "      <th>39</th>\n",
              "      <th>...</th>\n",
              "      <th>223</th>\n",
              "      <th>224</th>\n",
              "      <th>225</th>\n",
              "      <th>226</th>\n",
              "      <th>227</th>\n",
              "      <th>228</th>\n",
              "      <th>229</th>\n",
              "      <th>230</th>\n",
              "      <th>231</th>\n",
              "      <th>232</th>\n",
              "      <th>233</th>\n",
              "      <th>234</th>\n",
              "      <th>235</th>\n",
              "      <th>236</th>\n",
              "      <th>237</th>\n",
              "      <th>238</th>\n",
              "      <th>239</th>\n",
              "      <th>240</th>\n",
              "      <th>241</th>\n",
              "      <th>242</th>\n",
              "      <th>243</th>\n",
              "      <th>244</th>\n",
              "      <th>245</th>\n",
              "      <th>246</th>\n",
              "      <th>247</th>\n",
              "      <th>248</th>\n",
              "      <th>249</th>\n",
              "      <th>250</th>\n",
              "      <th>251</th>\n",
              "      <th>252</th>\n",
              "      <th>253</th>\n",
              "      <th>254</th>\n",
              "      <th>255</th>\n",
              "      <th>256</th>\n",
              "      <th>257</th>\n",
              "      <th>258</th>\n",
              "      <th>259</th>\n",
              "      <th>260</th>\n",
              "      <th>261</th>\n",
              "      <th>262</th>\n",
              "    </tr>\n",
              "  </thead>\n",
              "  <tbody>\n",
              "    <tr>\n",
              "      <th>0</th>\n",
              "      <td>0.000160</td>\n",
              "      <td>0.0</td>\n",
              "      <td>0.0</td>\n",
              "      <td>0.000194</td>\n",
              "      <td>0.000150</td>\n",
              "      <td>0.0</td>\n",
              "      <td>0.0</td>\n",
              "      <td>0.000220</td>\n",
              "      <td>0.0</td>\n",
              "      <td>0.0</td>\n",
              "      <td>0.0</td>\n",
              "      <td>0.000234</td>\n",
              "      <td>0.000037</td>\n",
              "      <td>0.000314</td>\n",
              "      <td>0.000166</td>\n",
              "      <td>0.0</td>\n",
              "      <td>0.000451</td>\n",
              "      <td>0.000837</td>\n",
              "      <td>0.000000</td>\n",
              "      <td>0.0</td>\n",
              "      <td>0.0</td>\n",
              "      <td>0.000188</td>\n",
              "      <td>0.000780</td>\n",
              "      <td>0.0</td>\n",
              "      <td>0.0</td>\n",
              "      <td>0.000237</td>\n",
              "      <td>0.000245</td>\n",
              "      <td>0.000303</td>\n",
              "      <td>0.000896</td>\n",
              "      <td>0.0</td>\n",
              "      <td>0.0</td>\n",
              "      <td>0.00006</td>\n",
              "      <td>0.0</td>\n",
              "      <td>0.000372</td>\n",
              "      <td>0.0</td>\n",
              "      <td>0.000000e+00</td>\n",
              "      <td>0.0</td>\n",
              "      <td>0.000483</td>\n",
              "      <td>0.000911</td>\n",
              "      <td>0.0</td>\n",
              "      <td>...</td>\n",
              "      <td>0.000380</td>\n",
              "      <td>0.0</td>\n",
              "      <td>0.0</td>\n",
              "      <td>0.000120</td>\n",
              "      <td>0.0</td>\n",
              "      <td>0.000083</td>\n",
              "      <td>0.0</td>\n",
              "      <td>0.000569</td>\n",
              "      <td>0.000476</td>\n",
              "      <td>0.000057</td>\n",
              "      <td>0.001002</td>\n",
              "      <td>0.000164</td>\n",
              "      <td>0.000424</td>\n",
              "      <td>0.000047</td>\n",
              "      <td>0.0</td>\n",
              "      <td>0.000427</td>\n",
              "      <td>0.0</td>\n",
              "      <td>0.0</td>\n",
              "      <td>0.000373</td>\n",
              "      <td>0.0</td>\n",
              "      <td>0.0</td>\n",
              "      <td>0.0</td>\n",
              "      <td>0.0</td>\n",
              "      <td>0.0</td>\n",
              "      <td>0.0</td>\n",
              "      <td>0.0</td>\n",
              "      <td>0.000402</td>\n",
              "      <td>0.0</td>\n",
              "      <td>0.000392</td>\n",
              "      <td>0.0</td>\n",
              "      <td>0.0</td>\n",
              "      <td>0.000000</td>\n",
              "      <td>0.0</td>\n",
              "      <td>0.000912</td>\n",
              "      <td>0.000258</td>\n",
              "      <td>0.0</td>\n",
              "      <td>0.0</td>\n",
              "      <td>0.0</td>\n",
              "      <td>0.0</td>\n",
              "      <td>0.0</td>\n",
              "    </tr>\n",
              "    <tr>\n",
              "      <th>1</th>\n",
              "      <td>0.000268</td>\n",
              "      <td>0.0</td>\n",
              "      <td>0.0</td>\n",
              "      <td>0.000490</td>\n",
              "      <td>0.000285</td>\n",
              "      <td>0.0</td>\n",
              "      <td>0.0</td>\n",
              "      <td>0.000438</td>\n",
              "      <td>0.0</td>\n",
              "      <td>0.0</td>\n",
              "      <td>0.0</td>\n",
              "      <td>0.000570</td>\n",
              "      <td>0.000133</td>\n",
              "      <td>0.000802</td>\n",
              "      <td>0.000342</td>\n",
              "      <td>0.0</td>\n",
              "      <td>0.000968</td>\n",
              "      <td>0.002031</td>\n",
              "      <td>0.000000</td>\n",
              "      <td>0.0</td>\n",
              "      <td>0.0</td>\n",
              "      <td>0.000487</td>\n",
              "      <td>0.001779</td>\n",
              "      <td>0.0</td>\n",
              "      <td>0.0</td>\n",
              "      <td>0.000474</td>\n",
              "      <td>0.000501</td>\n",
              "      <td>0.000839</td>\n",
              "      <td>0.002221</td>\n",
              "      <td>0.0</td>\n",
              "      <td>0.0</td>\n",
              "      <td>0.00000</td>\n",
              "      <td>0.0</td>\n",
              "      <td>0.000888</td>\n",
              "      <td>0.0</td>\n",
              "      <td>0.000000e+00</td>\n",
              "      <td>0.0</td>\n",
              "      <td>0.001124</td>\n",
              "      <td>0.002169</td>\n",
              "      <td>0.0</td>\n",
              "      <td>...</td>\n",
              "      <td>0.000837</td>\n",
              "      <td>0.0</td>\n",
              "      <td>0.0</td>\n",
              "      <td>0.000291</td>\n",
              "      <td>0.0</td>\n",
              "      <td>0.000237</td>\n",
              "      <td>0.0</td>\n",
              "      <td>0.001374</td>\n",
              "      <td>0.001065</td>\n",
              "      <td>0.000039</td>\n",
              "      <td>0.002399</td>\n",
              "      <td>0.000433</td>\n",
              "      <td>0.000946</td>\n",
              "      <td>0.000157</td>\n",
              "      <td>0.0</td>\n",
              "      <td>0.001136</td>\n",
              "      <td>0.0</td>\n",
              "      <td>0.0</td>\n",
              "      <td>0.000798</td>\n",
              "      <td>0.0</td>\n",
              "      <td>0.0</td>\n",
              "      <td>0.0</td>\n",
              "      <td>0.0</td>\n",
              "      <td>0.0</td>\n",
              "      <td>0.0</td>\n",
              "      <td>0.0</td>\n",
              "      <td>0.001017</td>\n",
              "      <td>0.0</td>\n",
              "      <td>0.001048</td>\n",
              "      <td>0.0</td>\n",
              "      <td>0.0</td>\n",
              "      <td>0.000000</td>\n",
              "      <td>0.0</td>\n",
              "      <td>0.002101</td>\n",
              "      <td>0.000492</td>\n",
              "      <td>0.0</td>\n",
              "      <td>0.0</td>\n",
              "      <td>0.0</td>\n",
              "      <td>0.0</td>\n",
              "      <td>0.0</td>\n",
              "    </tr>\n",
              "    <tr>\n",
              "      <th>2</th>\n",
              "      <td>0.000239</td>\n",
              "      <td>0.0</td>\n",
              "      <td>0.0</td>\n",
              "      <td>0.000905</td>\n",
              "      <td>0.000335</td>\n",
              "      <td>0.0</td>\n",
              "      <td>0.0</td>\n",
              "      <td>0.000569</td>\n",
              "      <td>0.0</td>\n",
              "      <td>0.0</td>\n",
              "      <td>0.0</td>\n",
              "      <td>0.000875</td>\n",
              "      <td>0.000296</td>\n",
              "      <td>0.001235</td>\n",
              "      <td>0.000644</td>\n",
              "      <td>0.0</td>\n",
              "      <td>0.001526</td>\n",
              "      <td>0.003100</td>\n",
              "      <td>0.000000</td>\n",
              "      <td>0.0</td>\n",
              "      <td>0.0</td>\n",
              "      <td>0.000767</td>\n",
              "      <td>0.002675</td>\n",
              "      <td>0.0</td>\n",
              "      <td>0.0</td>\n",
              "      <td>0.000713</td>\n",
              "      <td>0.000622</td>\n",
              "      <td>0.001437</td>\n",
              "      <td>0.003607</td>\n",
              "      <td>0.0</td>\n",
              "      <td>0.0</td>\n",
              "      <td>0.00000</td>\n",
              "      <td>0.0</td>\n",
              "      <td>0.001248</td>\n",
              "      <td>0.0</td>\n",
              "      <td>4.960195e-07</td>\n",
              "      <td>0.0</td>\n",
              "      <td>0.001681</td>\n",
              "      <td>0.003266</td>\n",
              "      <td>0.0</td>\n",
              "      <td>...</td>\n",
              "      <td>0.001343</td>\n",
              "      <td>0.0</td>\n",
              "      <td>0.0</td>\n",
              "      <td>0.000555</td>\n",
              "      <td>0.0</td>\n",
              "      <td>0.000281</td>\n",
              "      <td>0.0</td>\n",
              "      <td>0.002043</td>\n",
              "      <td>0.001535</td>\n",
              "      <td>0.000000</td>\n",
              "      <td>0.003852</td>\n",
              "      <td>0.000695</td>\n",
              "      <td>0.001436</td>\n",
              "      <td>0.000420</td>\n",
              "      <td>0.0</td>\n",
              "      <td>0.001773</td>\n",
              "      <td>0.0</td>\n",
              "      <td>0.0</td>\n",
              "      <td>0.001177</td>\n",
              "      <td>0.0</td>\n",
              "      <td>0.0</td>\n",
              "      <td>0.0</td>\n",
              "      <td>0.0</td>\n",
              "      <td>0.0</td>\n",
              "      <td>0.0</td>\n",
              "      <td>0.0</td>\n",
              "      <td>0.001691</td>\n",
              "      <td>0.0</td>\n",
              "      <td>0.001942</td>\n",
              "      <td>0.0</td>\n",
              "      <td>0.0</td>\n",
              "      <td>0.000018</td>\n",
              "      <td>0.0</td>\n",
              "      <td>0.003281</td>\n",
              "      <td>0.000547</td>\n",
              "      <td>0.0</td>\n",
              "      <td>0.0</td>\n",
              "      <td>0.0</td>\n",
              "      <td>0.0</td>\n",
              "      <td>0.0</td>\n",
              "    </tr>\n",
              "    <tr>\n",
              "      <th>3</th>\n",
              "      <td>0.000101</td>\n",
              "      <td>0.0</td>\n",
              "      <td>0.0</td>\n",
              "      <td>0.001281</td>\n",
              "      <td>0.000406</td>\n",
              "      <td>0.0</td>\n",
              "      <td>0.0</td>\n",
              "      <td>0.000562</td>\n",
              "      <td>0.0</td>\n",
              "      <td>0.0</td>\n",
              "      <td>0.0</td>\n",
              "      <td>0.001281</td>\n",
              "      <td>0.000467</td>\n",
              "      <td>0.001813</td>\n",
              "      <td>0.000941</td>\n",
              "      <td>0.0</td>\n",
              "      <td>0.001975</td>\n",
              "      <td>0.004328</td>\n",
              "      <td>0.000044</td>\n",
              "      <td>0.0</td>\n",
              "      <td>0.0</td>\n",
              "      <td>0.001136</td>\n",
              "      <td>0.003416</td>\n",
              "      <td>0.0</td>\n",
              "      <td>0.0</td>\n",
              "      <td>0.000858</td>\n",
              "      <td>0.000724</td>\n",
              "      <td>0.002137</td>\n",
              "      <td>0.005019</td>\n",
              "      <td>0.0</td>\n",
              "      <td>0.0</td>\n",
              "      <td>0.00000</td>\n",
              "      <td>0.0</td>\n",
              "      <td>0.001638</td>\n",
              "      <td>0.0</td>\n",
              "      <td>1.935073e-04</td>\n",
              "      <td>0.0</td>\n",
              "      <td>0.002125</td>\n",
              "      <td>0.004423</td>\n",
              "      <td>0.0</td>\n",
              "      <td>...</td>\n",
              "      <td>0.001642</td>\n",
              "      <td>0.0</td>\n",
              "      <td>0.0</td>\n",
              "      <td>0.000862</td>\n",
              "      <td>0.0</td>\n",
              "      <td>0.000393</td>\n",
              "      <td>0.0</td>\n",
              "      <td>0.002783</td>\n",
              "      <td>0.001974</td>\n",
              "      <td>0.000000</td>\n",
              "      <td>0.005300</td>\n",
              "      <td>0.000969</td>\n",
              "      <td>0.001889</td>\n",
              "      <td>0.000632</td>\n",
              "      <td>0.0</td>\n",
              "      <td>0.002489</td>\n",
              "      <td>0.0</td>\n",
              "      <td>0.0</td>\n",
              "      <td>0.001482</td>\n",
              "      <td>0.0</td>\n",
              "      <td>0.0</td>\n",
              "      <td>0.0</td>\n",
              "      <td>0.0</td>\n",
              "      <td>0.0</td>\n",
              "      <td>0.0</td>\n",
              "      <td>0.0</td>\n",
              "      <td>0.002462</td>\n",
              "      <td>0.0</td>\n",
              "      <td>0.002884</td>\n",
              "      <td>0.0</td>\n",
              "      <td>0.0</td>\n",
              "      <td>0.000150</td>\n",
              "      <td>0.0</td>\n",
              "      <td>0.004331</td>\n",
              "      <td>0.000522</td>\n",
              "      <td>0.0</td>\n",
              "      <td>0.0</td>\n",
              "      <td>0.0</td>\n",
              "      <td>0.0</td>\n",
              "      <td>0.0</td>\n",
              "    </tr>\n",
              "    <tr>\n",
              "      <th>4</th>\n",
              "      <td>0.000000</td>\n",
              "      <td>0.0</td>\n",
              "      <td>0.0</td>\n",
              "      <td>0.001717</td>\n",
              "      <td>0.000445</td>\n",
              "      <td>0.0</td>\n",
              "      <td>0.0</td>\n",
              "      <td>0.000567</td>\n",
              "      <td>0.0</td>\n",
              "      <td>0.0</td>\n",
              "      <td>0.0</td>\n",
              "      <td>0.001580</td>\n",
              "      <td>0.000703</td>\n",
              "      <td>0.002293</td>\n",
              "      <td>0.001264</td>\n",
              "      <td>0.0</td>\n",
              "      <td>0.002492</td>\n",
              "      <td>0.005436</td>\n",
              "      <td>0.000397</td>\n",
              "      <td>0.0</td>\n",
              "      <td>0.0</td>\n",
              "      <td>0.001475</td>\n",
              "      <td>0.003933</td>\n",
              "      <td>0.0</td>\n",
              "      <td>0.0</td>\n",
              "      <td>0.000980</td>\n",
              "      <td>0.000720</td>\n",
              "      <td>0.002757</td>\n",
              "      <td>0.006321</td>\n",
              "      <td>0.0</td>\n",
              "      <td>0.0</td>\n",
              "      <td>0.00000</td>\n",
              "      <td>0.0</td>\n",
              "      <td>0.001928</td>\n",
              "      <td>0.0</td>\n",
              "      <td>5.067934e-04</td>\n",
              "      <td>0.0</td>\n",
              "      <td>0.002363</td>\n",
              "      <td>0.005289</td>\n",
              "      <td>0.0</td>\n",
              "      <td>...</td>\n",
              "      <td>0.001862</td>\n",
              "      <td>0.0</td>\n",
              "      <td>0.0</td>\n",
              "      <td>0.001283</td>\n",
              "      <td>0.0</td>\n",
              "      <td>0.000483</td>\n",
              "      <td>0.0</td>\n",
              "      <td>0.003440</td>\n",
              "      <td>0.002313</td>\n",
              "      <td>0.000000</td>\n",
              "      <td>0.006581</td>\n",
              "      <td>0.001247</td>\n",
              "      <td>0.002272</td>\n",
              "      <td>0.000869</td>\n",
              "      <td>0.0</td>\n",
              "      <td>0.003025</td>\n",
              "      <td>0.0</td>\n",
              "      <td>0.0</td>\n",
              "      <td>0.001752</td>\n",
              "      <td>0.0</td>\n",
              "      <td>0.0</td>\n",
              "      <td>0.0</td>\n",
              "      <td>0.0</td>\n",
              "      <td>0.0</td>\n",
              "      <td>0.0</td>\n",
              "      <td>0.0</td>\n",
              "      <td>0.003230</td>\n",
              "      <td>0.0</td>\n",
              "      <td>0.003949</td>\n",
              "      <td>0.0</td>\n",
              "      <td>0.0</td>\n",
              "      <td>0.000451</td>\n",
              "      <td>0.0</td>\n",
              "      <td>0.005132</td>\n",
              "      <td>0.000359</td>\n",
              "      <td>0.0</td>\n",
              "      <td>0.0</td>\n",
              "      <td>0.0</td>\n",
              "      <td>0.0</td>\n",
              "      <td>0.0</td>\n",
              "    </tr>\n",
              "  </tbody>\n",
              "</table>\n",
              "<p>5 rows × 263 columns</p>\n",
              "</div>"
            ],
            "text/plain": [
              "        0    1    2         3         4    ...  258  259  260  261  262\n",
              "0  0.000160  0.0  0.0  0.000194  0.000150  ...  0.0  0.0  0.0  0.0  0.0\n",
              "1  0.000268  0.0  0.0  0.000490  0.000285  ...  0.0  0.0  0.0  0.0  0.0\n",
              "2  0.000239  0.0  0.0  0.000905  0.000335  ...  0.0  0.0  0.0  0.0  0.0\n",
              "3  0.000101  0.0  0.0  0.001281  0.000406  ...  0.0  0.0  0.0  0.0  0.0\n",
              "4  0.000000  0.0  0.0  0.001717  0.000445  ...  0.0  0.0  0.0  0.0  0.0\n",
              "\n",
              "[5 rows x 263 columns]"
            ]
          },
          "metadata": {
            "tags": []
          },
          "execution_count": 155
        }
      ]
    },
    {
      "cell_type": "code",
      "metadata": {
        "id": "wA5jxmyrtP8y",
        "colab_type": "code",
        "colab": {}
      },
      "source": [
        "def inverse_transform(x):\n",
        "    lst = []\n",
        "    counter = 0\n",
        "    for i in x:\n",
        "        i -= MMS.data_min_[19 + counter]\n",
        "        i /= MMS.scale_[19 + counter]\n",
        "        lst.append(int(i))\n",
        "        #print counter\n",
        "        if counter != 262:\n",
        "            counter += 1\n",
        "        else:\n",
        "            counter = 0\n",
        "            \n",
        "    return lst"
      ],
      "execution_count": 0,
      "outputs": []
    },
    {
      "cell_type": "code",
      "metadata": {
        "id": "XHMzPuWXtX78",
        "colab_type": "code",
        "colab": {
          "base_uri": "https://localhost:8080/",
          "height": 302
        },
        "outputId": "2c52efd4-95c8-4a66-d092-68150ce88b5b"
      },
      "source": [
        "predictions = predictions.apply(inverse_transform)"
      ],
      "execution_count": 157,
      "outputs": [
        {
          "output_type": "error",
          "ename": "IndexError",
          "evalue": "ignored",
          "traceback": [
            "\u001b[0;31m---------------------------------------------------------------------------\u001b[0m",
            "\u001b[0;31mIndexError\u001b[0m                                Traceback (most recent call last)",
            "\u001b[0;32m<ipython-input-157-b70417976944>\u001b[0m in \u001b[0;36m<module>\u001b[0;34m()\u001b[0m\n\u001b[0;32m----> 1\u001b[0;31m \u001b[0mpredictions\u001b[0m \u001b[0;34m=\u001b[0m \u001b[0mpredictions\u001b[0m\u001b[0;34m.\u001b[0m\u001b[0mapply\u001b[0m\u001b[0;34m(\u001b[0m\u001b[0minverse_transform\u001b[0m\u001b[0;34m)\u001b[0m\u001b[0;34m\u001b[0m\u001b[0;34m\u001b[0m\u001b[0m\n\u001b[0m",
            "\u001b[0;32m/usr/local/lib/python3.6/dist-packages/pandas/core/frame.py\u001b[0m in \u001b[0;36mapply\u001b[0;34m(self, func, axis, broadcast, raw, reduce, result_type, args, **kwds)\u001b[0m\n\u001b[1;32m   6926\u001b[0m             \u001b[0mkwds\u001b[0m\u001b[0;34m=\u001b[0m\u001b[0mkwds\u001b[0m\u001b[0;34m,\u001b[0m\u001b[0;34m\u001b[0m\u001b[0;34m\u001b[0m\u001b[0m\n\u001b[1;32m   6927\u001b[0m         )\n\u001b[0;32m-> 6928\u001b[0;31m         \u001b[0;32mreturn\u001b[0m \u001b[0mop\u001b[0m\u001b[0;34m.\u001b[0m\u001b[0mget_result\u001b[0m\u001b[0;34m(\u001b[0m\u001b[0;34m)\u001b[0m\u001b[0;34m\u001b[0m\u001b[0;34m\u001b[0m\u001b[0m\n\u001b[0m\u001b[1;32m   6929\u001b[0m \u001b[0;34m\u001b[0m\u001b[0m\n\u001b[1;32m   6930\u001b[0m     \u001b[0;32mdef\u001b[0m \u001b[0mapplymap\u001b[0m\u001b[0;34m(\u001b[0m\u001b[0mself\u001b[0m\u001b[0;34m,\u001b[0m \u001b[0mfunc\u001b[0m\u001b[0;34m)\u001b[0m\u001b[0;34m:\u001b[0m\u001b[0;34m\u001b[0m\u001b[0;34m\u001b[0m\u001b[0m\n",
            "\u001b[0;32m/usr/local/lib/python3.6/dist-packages/pandas/core/apply.py\u001b[0m in \u001b[0;36mget_result\u001b[0;34m(self)\u001b[0m\n\u001b[1;32m    184\u001b[0m             \u001b[0;32mreturn\u001b[0m \u001b[0mself\u001b[0m\u001b[0;34m.\u001b[0m\u001b[0mapply_raw\u001b[0m\u001b[0;34m(\u001b[0m\u001b[0;34m)\u001b[0m\u001b[0;34m\u001b[0m\u001b[0;34m\u001b[0m\u001b[0m\n\u001b[1;32m    185\u001b[0m \u001b[0;34m\u001b[0m\u001b[0m\n\u001b[0;32m--> 186\u001b[0;31m         \u001b[0;32mreturn\u001b[0m \u001b[0mself\u001b[0m\u001b[0;34m.\u001b[0m\u001b[0mapply_standard\u001b[0m\u001b[0;34m(\u001b[0m\u001b[0;34m)\u001b[0m\u001b[0;34m\u001b[0m\u001b[0;34m\u001b[0m\u001b[0m\n\u001b[0m\u001b[1;32m    187\u001b[0m \u001b[0;34m\u001b[0m\u001b[0m\n\u001b[1;32m    188\u001b[0m     \u001b[0;32mdef\u001b[0m \u001b[0mapply_empty_result\u001b[0m\u001b[0;34m(\u001b[0m\u001b[0mself\u001b[0m\u001b[0;34m)\u001b[0m\u001b[0;34m:\u001b[0m\u001b[0;34m\u001b[0m\u001b[0;34m\u001b[0m\u001b[0m\n",
            "\u001b[0;32m/usr/local/lib/python3.6/dist-packages/pandas/core/apply.py\u001b[0m in \u001b[0;36mapply_standard\u001b[0;34m(self)\u001b[0m\n\u001b[1;32m    290\u001b[0m \u001b[0;34m\u001b[0m\u001b[0m\n\u001b[1;32m    291\u001b[0m         \u001b[0;31m# compute the result using the series generator\u001b[0m\u001b[0;34m\u001b[0m\u001b[0;34m\u001b[0m\u001b[0;34m\u001b[0m\u001b[0m\n\u001b[0;32m--> 292\u001b[0;31m         \u001b[0mself\u001b[0m\u001b[0;34m.\u001b[0m\u001b[0mapply_series_generator\u001b[0m\u001b[0;34m(\u001b[0m\u001b[0;34m)\u001b[0m\u001b[0;34m\u001b[0m\u001b[0;34m\u001b[0m\u001b[0m\n\u001b[0m\u001b[1;32m    293\u001b[0m \u001b[0;34m\u001b[0m\u001b[0m\n\u001b[1;32m    294\u001b[0m         \u001b[0;31m# wrap results\u001b[0m\u001b[0;34m\u001b[0m\u001b[0;34m\u001b[0m\u001b[0;34m\u001b[0m\u001b[0m\n",
            "\u001b[0;32m/usr/local/lib/python3.6/dist-packages/pandas/core/apply.py\u001b[0m in \u001b[0;36mapply_series_generator\u001b[0;34m(self)\u001b[0m\n\u001b[1;32m    319\u001b[0m             \u001b[0;32mtry\u001b[0m\u001b[0;34m:\u001b[0m\u001b[0;34m\u001b[0m\u001b[0;34m\u001b[0m\u001b[0m\n\u001b[1;32m    320\u001b[0m                 \u001b[0;32mfor\u001b[0m \u001b[0mi\u001b[0m\u001b[0;34m,\u001b[0m \u001b[0mv\u001b[0m \u001b[0;32min\u001b[0m \u001b[0menumerate\u001b[0m\u001b[0;34m(\u001b[0m\u001b[0mseries_gen\u001b[0m\u001b[0;34m)\u001b[0m\u001b[0;34m:\u001b[0m\u001b[0;34m\u001b[0m\u001b[0;34m\u001b[0m\u001b[0m\n\u001b[0;32m--> 321\u001b[0;31m                     \u001b[0mresults\u001b[0m\u001b[0;34m[\u001b[0m\u001b[0mi\u001b[0m\u001b[0;34m]\u001b[0m \u001b[0;34m=\u001b[0m \u001b[0mself\u001b[0m\u001b[0;34m.\u001b[0m\u001b[0mf\u001b[0m\u001b[0;34m(\u001b[0m\u001b[0mv\u001b[0m\u001b[0;34m)\u001b[0m\u001b[0;34m\u001b[0m\u001b[0;34m\u001b[0m\u001b[0m\n\u001b[0m\u001b[1;32m    322\u001b[0m                     \u001b[0mkeys\u001b[0m\u001b[0;34m.\u001b[0m\u001b[0mappend\u001b[0m\u001b[0;34m(\u001b[0m\u001b[0mv\u001b[0m\u001b[0;34m.\u001b[0m\u001b[0mname\u001b[0m\u001b[0;34m)\u001b[0m\u001b[0;34m\u001b[0m\u001b[0;34m\u001b[0m\u001b[0m\n\u001b[1;32m    323\u001b[0m             \u001b[0;32mexcept\u001b[0m \u001b[0mException\u001b[0m \u001b[0;32mas\u001b[0m \u001b[0me\u001b[0m\u001b[0;34m:\u001b[0m\u001b[0;34m\u001b[0m\u001b[0;34m\u001b[0m\u001b[0m\n",
            "\u001b[0;32m<ipython-input-156-037e1a6b9f10>\u001b[0m in \u001b[0;36minverse_transform\u001b[0;34m(x)\u001b[0m\n\u001b[1;32m      3\u001b[0m     \u001b[0mcounter\u001b[0m \u001b[0;34m=\u001b[0m \u001b[0;36m0\u001b[0m\u001b[0;34m\u001b[0m\u001b[0;34m\u001b[0m\u001b[0m\n\u001b[1;32m      4\u001b[0m     \u001b[0;32mfor\u001b[0m \u001b[0mi\u001b[0m \u001b[0;32min\u001b[0m \u001b[0mx\u001b[0m\u001b[0;34m:\u001b[0m\u001b[0;34m\u001b[0m\u001b[0;34m\u001b[0m\u001b[0m\n\u001b[0;32m----> 5\u001b[0;31m         \u001b[0mi\u001b[0m \u001b[0;34m-=\u001b[0m \u001b[0mMMS\u001b[0m\u001b[0;34m.\u001b[0m\u001b[0mdata_min_\u001b[0m\u001b[0;34m[\u001b[0m\u001b[0;36m19\u001b[0m \u001b[0;34m+\u001b[0m \u001b[0mcounter\u001b[0m\u001b[0;34m]\u001b[0m\u001b[0;34m\u001b[0m\u001b[0;34m\u001b[0m\u001b[0m\n\u001b[0m\u001b[1;32m      6\u001b[0m         \u001b[0mi\u001b[0m \u001b[0;34m/=\u001b[0m \u001b[0mMMS\u001b[0m\u001b[0;34m.\u001b[0m\u001b[0mscale_\u001b[0m\u001b[0;34m[\u001b[0m\u001b[0;36m19\u001b[0m \u001b[0;34m+\u001b[0m \u001b[0mcounter\u001b[0m\u001b[0;34m]\u001b[0m\u001b[0;34m\u001b[0m\u001b[0;34m\u001b[0m\u001b[0m\n\u001b[1;32m      7\u001b[0m         \u001b[0mlst\u001b[0m\u001b[0;34m.\u001b[0m\u001b[0mappend\u001b[0m\u001b[0;34m(\u001b[0m\u001b[0mint\u001b[0m\u001b[0;34m(\u001b[0m\u001b[0mi\u001b[0m\u001b[0;34m)\u001b[0m\u001b[0;34m)\u001b[0m\u001b[0;34m\u001b[0m\u001b[0;34m\u001b[0m\u001b[0m\n",
            "\u001b[0;31mIndexError\u001b[0m: ('index 19 is out of bounds for axis 0 with size 19', 'occurred at index 0')"
          ]
        }
      ]
    },
    {
      "cell_type": "code",
      "metadata": {
        "id": "bxWupvDntZkO",
        "colab_type": "code",
        "colab": {}
      },
      "source": [
        ""
      ],
      "execution_count": 0,
      "outputs": []
    }
  ]
}