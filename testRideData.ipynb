{
  "nbformat": 4,
  "nbformat_minor": 0,
  "metadata": {
    "colab": {
      "name": "Untitled4.ipynb",
      "provenance": []
    },
    "kernelspec": {
      "name": "python3",
      "display_name": "Python 3"
    },
    "accelerator": "GPU"
  },
  "cells": [
    {
      "cell_type": "code",
      "metadata": {
        "id": "PyNTohNgYsUp",
        "colab_type": "code",
        "colab": {
          "base_uri": "https://localhost:8080/",
          "height": 120
        },
        "outputId": "612eb42d-3474-4ea4-bc83-f7d675ea49aa"
      },
      "source": [
        "from google.colab import drive\n",
        "drive.mount('/content/drive')"
      ],
      "execution_count": 1,
      "outputs": [
        {
          "output_type": "stream",
          "text": [
            "Go to this URL in a browser: https://accounts.google.com/o/oauth2/auth?client_id=947318989803-6bn6qk8qdgf4n4g3pfee6491hc0brc4i.apps.googleusercontent.com&redirect_uri=urn%3aietf%3awg%3aoauth%3a2.0%3aoob&response_type=code&scope=email%20https%3a%2f%2fwww.googleapis.com%2fauth%2fdocs.test%20https%3a%2f%2fwww.googleapis.com%2fauth%2fdrive%20https%3a%2f%2fwww.googleapis.com%2fauth%2fdrive.photos.readonly%20https%3a%2f%2fwww.googleapis.com%2fauth%2fpeopleapi.readonly\n",
            "\n",
            "Enter your authorization code:\n",
            "··········\n",
            "Mounted at /content/drive\n"
          ],
          "name": "stdout"
        }
      ]
    },
    {
      "cell_type": "code",
      "metadata": {
        "id": "TdOEe2UdY33G",
        "colab_type": "code",
        "colab": {}
      },
      "source": [
        "import pandas as pd\n",
        "import os\n",
        "from tqdm import tqdm\n",
        "import matplotlib.pyplot as plt\n",
        "%matplotlib inline\n",
        "from h3 import h3\n",
        "from folium import Map, Marker, GeoJson\n",
        "\n",
        "from folium import Map, Marker, GeoJson\n",
        "from folium.plugins import MarkerCluster\n",
        "import branca.colormap as cm\n",
        "from branca.colormap import linear\n",
        "import folium\n",
        "import json\n",
        "import pandas as pd\n",
        "from pandas.io.json import json_normalize\n",
        "import numpy as np\n",
        "\n",
        "import statistics\n",
        "\n",
        "from geojson.feature import *\n",
        "from area import area\n",
        "\n",
        "import copy\n",
        "from IPython.display import Image, display\n",
        "from IPython.utils.text import columnize\n",
        "import warnings\n",
        "warnings.filterwarnings('ignore')"
      ],
      "execution_count": 0,
      "outputs": []
    },
    {
      "cell_type": "code",
      "metadata": {
        "id": "_D_n25t5dllO",
        "colab_type": "code",
        "colab": {
          "base_uri": "https://localhost:8080/",
          "height": 167
        },
        "outputId": "0c0dab43-1dbd-4eff-8a60-96b89a9a6d9d"
      },
      "source": [
        "!pip install area"
      ],
      "execution_count": 49,
      "outputs": [
        {
          "output_type": "stream",
          "text": [
            "Collecting area\n",
            "  Downloading https://files.pythonhosted.org/packages/f4/1b/9e434947304bafaeca6a5760272ded9b43edbcadfe9f15116596b4d6b7eb/area-1.1.1.tar.gz\n",
            "Building wheels for collected packages: area\n",
            "  Building wheel for area (setup.py) ... \u001b[?25l\u001b[?25hdone\n",
            "  Created wheel for area: filename=area-1.1.1-cp36-none-any.whl size=3609 sha256=b8c44e60d9c77b7aec187fc7ba64088d94d42cb8541ae2bb97e99be7406372bd\n",
            "  Stored in directory: /root/.cache/pip/wheels/66/c0/12/b2ef12e07a617ba6f7aaeb32348ea6f14205cc1985f51a134e\n",
            "Successfully built area\n",
            "Installing collected packages: area\n",
            "Successfully installed area-1.1.1\n"
          ],
          "name": "stdout"
        }
      ]
    },
    {
      "cell_type": "code",
      "metadata": {
        "id": "gn3ivmwNY6jA",
        "colab_type": "code",
        "colab": {
          "base_uri": "https://localhost:8080/",
          "height": 413
        },
        "outputId": "b6ac6e73-720b-401a-d395-2bb7fafd565d"
      },
      "source": [
        "data = pd.read_csv('/content/drive/My Drive/BERT/testRideData.csv')\n",
        "data.head()"
      ],
      "execution_count": 5,
      "outputs": [
        {
          "output_type": "execute_result",
          "data": {
            "text/html": [
              "<div>\n",
              "<style scoped>\n",
              "    .dataframe tbody tr th:only-of-type {\n",
              "        vertical-align: middle;\n",
              "    }\n",
              "\n",
              "    .dataframe tbody tr th {\n",
              "        vertical-align: top;\n",
              "    }\n",
              "\n",
              "    .dataframe thead th {\n",
              "        text-align: right;\n",
              "    }\n",
              "</style>\n",
              "<table border=\"1\" class=\"dataframe\">\n",
              "  <thead>\n",
              "    <tr style=\"text-align: right;\">\n",
              "      <th></th>\n",
              "      <th>acceptedDriverData/driverId</th>\n",
              "      <th>acceptedTime</th>\n",
              "      <th>customerComments</th>\n",
              "      <th>destination/latitude</th>\n",
              "      <th>destination/longitude</th>\n",
              "      <th>destinationLocationEnglish</th>\n",
              "      <th>destinationLocationHindi</th>\n",
              "      <th>driverId</th>\n",
              "      <th>driverMobile</th>\n",
              "      <th>driversArray/0/7vT2uLlCWKT6tcpvepXE5Tb7nFe2/distance</th>\n",
              "      <th>driversArray/0/7vT2uLlCWKT6tcpvepXE5Tb7nFe2/location/0</th>\n",
              "      <th>driversArray/0/7vT2uLlCWKT6tcpvepXE5Tb7nFe2/location/1</th>\n",
              "      <th>driversArray/0/7vT2uLlCWKT6tcpvepXE5Tb7nFe2/time</th>\n",
              "      <th>endTime</th>\n",
              "      <th>invoiceId</th>\n",
              "      <th>otpValue</th>\n",
              "      <th>paymentId</th>\n",
              "      <th>paymentMode</th>\n",
              "      <th>projectRideDistance</th>\n",
              "      <th>projectedPickUpTime</th>\n",
              "      <th>projectedRideCost</th>\n",
              "      <th>projectedRideCostWithOffer</th>\n",
              "      <th>projectedRideTime</th>\n",
              "      <th>requestedTime</th>\n",
              "      <th>rideId</th>\n",
              "      <th>riderId</th>\n",
              "      <th>riderInvoiceId</th>\n",
              "      <th>riderMobile</th>\n",
              "      <th>riderName</th>\n",
              "      <th>riderPaymentId</th>\n",
              "      <th>riderRating</th>\n",
              "      <th>source/latitude</th>\n",
              "      <th>source/longitude</th>\n",
              "      <th>sourceLocationEnglish</th>\n",
              "      <th>sourceLocationHindi</th>\n",
              "      <th>startTime</th>\n",
              "      <th>startedDriverData/datetime</th>\n",
              "      <th>startedDriverData/driverId</th>\n",
              "      <th>startedDriverData/latitude</th>\n",
              "      <th>startedDriverData/longitude</th>\n",
              "      <th>...</th>\n",
              "      <th>responses/1578490159665/dXJq62VDE2ZFdsCTIcBfARXB2b82</th>\n",
              "      <th>responses/1578494729177/Gt9KOFgWwcPiUdrohkgAUFoDiXD2</th>\n",
              "      <th>responses/1578495002666/Gt9KOFgWwcPiUdrohkgAUFoDiXD2</th>\n",
              "      <th>responses/1578495405978/Gt9KOFgWwcPiUdrohkgAUFoDiXD2</th>\n",
              "      <th>responses/1578495493781/Gt9KOFgWwcPiUdrohkgAUFoDiXD2</th>\n",
              "      <th>responses/1578495534886/Gt9KOFgWwcPiUdrohkgAUFoDiXD2</th>\n",
              "      <th>responses/1578495747898/Gt9KOFgWwcPiUdrohkgAUFoDiXD2</th>\n",
              "      <th>responses/1578495869888/Gt9KOFgWwcPiUdrohkgAUFoDiXD2</th>\n",
              "      <th>responses/1578495927186/Gt9KOFgWwcPiUdrohkgAUFoDiXD2</th>\n",
              "      <th>responses/1578496044885/Gt9KOFgWwcPiUdrohkgAUFoDiXD2</th>\n",
              "      <th>responses/1578496093277/Gt9KOFgWwcPiUdrohkgAUFoDiXD2</th>\n",
              "      <th>responses/1578578788782/Gt9KOFgWwcPiUdrohkgAUFoDiXD2</th>\n",
              "      <th>responses/1578581945784/7vT2uLlCWKT6tcpvepXE5Tb7nFe2</th>\n",
              "      <th>responses/1578639799444/7vT2uLlCWKT6tcpvepXE5Tb7nFe2</th>\n",
              "      <th>responses/1578741858596/Gt9KOFgWwcPiUdrohkgAUFoDiXD2</th>\n",
              "      <th>responses/1579007570552/Gt9KOFgWwcPiUdrohkgAUFoDiXD2</th>\n",
              "      <th>responses/1579074449024/7vT2uLlCWKT6tcpvepXE5Tb7nFe2</th>\n",
              "      <th>responses/1579095773022/Gt9KOFgWwcPiUdrohkgAUFoDiXD2</th>\n",
              "      <th>responses/1579166864065/Gt9KOFgWwcPiUdrohkgAUFoDiXD2</th>\n",
              "      <th>driversArray/2/Gt9KOFgWwcPiUdrohkgAUFoDiXD2/distance</th>\n",
              "      <th>driversArray/2/Gt9KOFgWwcPiUdrohkgAUFoDiXD2/location/0</th>\n",
              "      <th>driversArray/2/Gt9KOFgWwcPiUdrohkgAUFoDiXD2/location/1</th>\n",
              "      <th>driversArray/2/Gt9KOFgWwcPiUdrohkgAUFoDiXD2/time</th>\n",
              "      <th>responses/1579176048381/7vT2uLlCWKT6tcpvepXE5Tb7nFe2</th>\n",
              "      <th>responses/1579189939374/7vT2uLlCWKT6tcpvepXE5Tb7nFe2</th>\n",
              "      <th>responses/1579191425669/7vT2uLlCWKT6tcpvepXE5Tb7nFe2</th>\n",
              "      <th>responses/1579249101464/7vT2uLlCWKT6tcpvepXE5Tb7nFe2</th>\n",
              "      <th>responses/1579249107642/Gt9KOFgWwcPiUdrohkgAUFoDiXD2</th>\n",
              "      <th>responses/1579249170185/Gt9KOFgWwcPiUdrohkgAUFoDiXD2</th>\n",
              "      <th>responses/1579249177236/7vT2uLlCWKT6tcpvepXE5Tb7nFe2</th>\n",
              "      <th>responses/1579250131760/7vT2uLlCWKT6tcpvepXE5Tb7nFe2</th>\n",
              "      <th>responses/1579251135716/Gt9KOFgWwcPiUdrohkgAUFoDiXD2</th>\n",
              "      <th>responses/1579253802416/Gt9KOFgWwcPiUdrohkgAUFoDiXD2</th>\n",
              "      <th>responses/1579253800977/Gt9KOFgWwcPiUdrohkgAUFoDiXD2</th>\n",
              "      <th>responses/1579254052326/Gt9KOFgWwcPiUdrohkgAUFoDiXD2</th>\n",
              "      <th>responses/1579254379221/Gt9KOFgWwcPiUdrohkgAUFoDiXD2</th>\n",
              "      <th>responses/1579254473606/Gt9KOFgWwcPiUdrohkgAUFoDiXD2</th>\n",
              "      <th>responses/1579254618196/Gt9KOFgWwcPiUdrohkgAUFoDiXD2</th>\n",
              "      <th>responses/1579757911919/7vT2uLlCWKT6tcpvepXE5Tb7nFe2</th>\n",
              "      <th>responses/1579771490451/7vT2uLlCWKT6tcpvepXE5Tb7nFe2</th>\n",
              "    </tr>\n",
              "  </thead>\n",
              "  <tbody>\n",
              "    <tr>\n",
              "      <th>0</th>\n",
              "      <td>7vT2uLlCWKT6tcpvepXE5Tb7nFe2</td>\n",
              "      <td>2019-05-06 21:34:41</td>\n",
              "      <td>NaN</td>\n",
              "      <td>28.685740</td>\n",
              "      <td>77.206383</td>\n",
              "      <td>Ramjas College</td>\n",
              "      <td>रामजस कॉलेज</td>\n",
              "      <td>7vT2uLlCWKT6tcpvepXE5Tb7nFe2</td>\n",
              "      <td>9876543210</td>\n",
              "      <td>1.787755</td>\n",
              "      <td>28.694162</td>\n",
              "      <td>77.189727</td>\n",
              "      <td>631.0</td>\n",
              "      <td>2019-05-06 21:35:19</td>\n",
              "      <td>-LeCt0L8PqXL491I7YGn</td>\n",
              "      <td>774</td>\n",
              "      <td>-LeCt61DF-A2B7uF4Pu6</td>\n",
              "      <td>cash</td>\n",
              "      <td>1.79 km</td>\n",
              "      <td>631.0</td>\n",
              "      <td>25.00</td>\n",
              "      <td>30.00</td>\n",
              "      <td>6 mins</td>\n",
              "      <td>2019-05-06 21:34:37</td>\n",
              "      <td>-LeCswkVZouYyOfuzfsQ</td>\n",
              "      <td>6MargTYvX3gMIxoBFr0nz5skr1K3</td>\n",
              "      <td>-LeCt0L8PqXL491I7YGo</td>\n",
              "      <td>8.368318e+09</td>\n",
              "      <td>NaN</td>\n",
              "      <td>-LeCt62f5Rtbnh-PsxKL</td>\n",
              "      <td>3.5</td>\n",
              "      <td>28.698443</td>\n",
              "      <td>77.207394</td>\n",
              "      <td>11, Banda Bahadur Marg, Outram Lines, Mukherje...</td>\n",
              "      <td>11, बंदा बहादुर मार्ग, आउट्राम लाइन्स, मुखर्जी...</td>\n",
              "      <td>2019-05-06 21:34:56</td>\n",
              "      <td>2019-05-06 21:34:00</td>\n",
              "      <td>7vT2uLlCWKT6tcpvepXE5Tb7nFe2</td>\n",
              "      <td>28.694188</td>\n",
              "      <td>77.189562</td>\n",
              "      <td>...</td>\n",
              "      <td>NaN</td>\n",
              "      <td>NaN</td>\n",
              "      <td>NaN</td>\n",
              "      <td>NaN</td>\n",
              "      <td>NaN</td>\n",
              "      <td>NaN</td>\n",
              "      <td>NaN</td>\n",
              "      <td>NaN</td>\n",
              "      <td>NaN</td>\n",
              "      <td>NaN</td>\n",
              "      <td>NaN</td>\n",
              "      <td>NaN</td>\n",
              "      <td>NaN</td>\n",
              "      <td>NaN</td>\n",
              "      <td>NaN</td>\n",
              "      <td>NaN</td>\n",
              "      <td>NaN</td>\n",
              "      <td>NaN</td>\n",
              "      <td>NaN</td>\n",
              "      <td>NaN</td>\n",
              "      <td>NaN</td>\n",
              "      <td>NaN</td>\n",
              "      <td>NaN</td>\n",
              "      <td>NaN</td>\n",
              "      <td>NaN</td>\n",
              "      <td>NaN</td>\n",
              "      <td>NaN</td>\n",
              "      <td>NaN</td>\n",
              "      <td>NaN</td>\n",
              "      <td>NaN</td>\n",
              "      <td>NaN</td>\n",
              "      <td>NaN</td>\n",
              "      <td>NaN</td>\n",
              "      <td>NaN</td>\n",
              "      <td>NaN</td>\n",
              "      <td>NaN</td>\n",
              "      <td>NaN</td>\n",
              "      <td>NaN</td>\n",
              "      <td>NaN</td>\n",
              "      <td>NaN</td>\n",
              "    </tr>\n",
              "    <tr>\n",
              "      <th>1</th>\n",
              "      <td>7vT2uLlCWKT6tcpvepXE5Tb7nFe2</td>\n",
              "      <td>2019-05-06 21:48:23</td>\n",
              "      <td>NaN</td>\n",
              "      <td>28.685740</td>\n",
              "      <td>77.206383</td>\n",
              "      <td>Ramjas College</td>\n",
              "      <td>रामजस कॉलेज</td>\n",
              "      <td>7vT2uLlCWKT6tcpvepXE5Tb7nFe2</td>\n",
              "      <td>9876543210</td>\n",
              "      <td>1.787761</td>\n",
              "      <td>28.694153</td>\n",
              "      <td>77.189730</td>\n",
              "      <td>631.0</td>\n",
              "      <td>2019-05-06 21:50:57</td>\n",
              "      <td>-LeCwLXMwfkcuv8mknV3</td>\n",
              "      <td>869</td>\n",
              "      <td>-LeCwfVlIXmrkiVLPE-9</td>\n",
              "      <td>cash</td>\n",
              "      <td>1.79 km</td>\n",
              "      <td>631.0</td>\n",
              "      <td>25.00</td>\n",
              "      <td>30.00</td>\n",
              "      <td>6 mins</td>\n",
              "      <td>2019-05-06 21:48:21</td>\n",
              "      <td>-LeCw4GZwwIbwcS6e_ID</td>\n",
              "      <td>6MargTYvX3gMIxoBFr0nz5skr1K3</td>\n",
              "      <td>-LeCwLXN5PeQuI1s3UMj</td>\n",
              "      <td>8.368318e+09</td>\n",
              "      <td>NaN</td>\n",
              "      <td>-LeCwfVmI_st7R6Mgsch</td>\n",
              "      <td>3.5</td>\n",
              "      <td>28.698443</td>\n",
              "      <td>77.207394</td>\n",
              "      <td>11, Banda Bahadur Marg, Outram Lines, Mukherje...</td>\n",
              "      <td>11, बंदा बहादुर मार्ग, आउट्राम लाइन्स, मुखर्जी...</td>\n",
              "      <td>2019-05-06 21:49:32</td>\n",
              "      <td>2019-05-06 21:48:00</td>\n",
              "      <td>7vT2uLlCWKT6tcpvepXE5Tb7nFe2</td>\n",
              "      <td>28.694144</td>\n",
              "      <td>77.189718</td>\n",
              "      <td>...</td>\n",
              "      <td>NaN</td>\n",
              "      <td>NaN</td>\n",
              "      <td>NaN</td>\n",
              "      <td>NaN</td>\n",
              "      <td>NaN</td>\n",
              "      <td>NaN</td>\n",
              "      <td>NaN</td>\n",
              "      <td>NaN</td>\n",
              "      <td>NaN</td>\n",
              "      <td>NaN</td>\n",
              "      <td>NaN</td>\n",
              "      <td>NaN</td>\n",
              "      <td>NaN</td>\n",
              "      <td>NaN</td>\n",
              "      <td>NaN</td>\n",
              "      <td>NaN</td>\n",
              "      <td>NaN</td>\n",
              "      <td>NaN</td>\n",
              "      <td>NaN</td>\n",
              "      <td>NaN</td>\n",
              "      <td>NaN</td>\n",
              "      <td>NaN</td>\n",
              "      <td>NaN</td>\n",
              "      <td>NaN</td>\n",
              "      <td>NaN</td>\n",
              "      <td>NaN</td>\n",
              "      <td>NaN</td>\n",
              "      <td>NaN</td>\n",
              "      <td>NaN</td>\n",
              "      <td>NaN</td>\n",
              "      <td>NaN</td>\n",
              "      <td>NaN</td>\n",
              "      <td>NaN</td>\n",
              "      <td>NaN</td>\n",
              "      <td>NaN</td>\n",
              "      <td>NaN</td>\n",
              "      <td>NaN</td>\n",
              "      <td>NaN</td>\n",
              "      <td>NaN</td>\n",
              "      <td>NaN</td>\n",
              "    </tr>\n",
              "    <tr>\n",
              "      <th>2</th>\n",
              "      <td>7vT2uLlCWKT6tcpvepXE5Tb7nFe2</td>\n",
              "      <td>2019-05-07 11:36:10</td>\n",
              "      <td>NaN</td>\n",
              "      <td>28.685740</td>\n",
              "      <td>77.206383</td>\n",
              "      <td>Ramjas College</td>\n",
              "      <td>रामजस कॉलेज</td>\n",
              "      <td>7vT2uLlCWKT6tcpvepXE5Tb7nFe2</td>\n",
              "      <td>9876543210</td>\n",
              "      <td>0.144606</td>\n",
              "      <td>28.698000</td>\n",
              "      <td>77.206000</td>\n",
              "      <td>123.0</td>\n",
              "      <td>2019-05-07 11:36:43</td>\n",
              "      <td>-LeFtcddkFsmfab0LtaE</td>\n",
              "      <td>536</td>\n",
              "      <td>-LeFtfX5dO2he9Ry_qg5</td>\n",
              "      <td>cash</td>\n",
              "      <td>1.79 km</td>\n",
              "      <td>123.0</td>\n",
              "      <td>25.00</td>\n",
              "      <td>30.00</td>\n",
              "      <td>6 mins</td>\n",
              "      <td>2019-05-07 11:36:06</td>\n",
              "      <td>-LeFtXerTFO0xQ98koNV</td>\n",
              "      <td>6MargTYvX3gMIxoBFr0nz5skr1K3</td>\n",
              "      <td>-LeFtcdhyV0EVa5bj1s1</td>\n",
              "      <td>8.368318e+09</td>\n",
              "      <td>NaN</td>\n",
              "      <td>-LeFtfX6H8Ius2GdH6WP</td>\n",
              "      <td>3.5</td>\n",
              "      <td>28.698443</td>\n",
              "      <td>77.207394</td>\n",
              "      <td>11, Banda Bahadur Marg, Outram Lines, Mukherje...</td>\n",
              "      <td>11, बंदा बहादुर मार्ग, आउट्राम लाइन्स, मुखर्जी...</td>\n",
              "      <td>2019-05-07 11:36:31</td>\n",
              "      <td>2019-05-07 11:36:00</td>\n",
              "      <td>7vT2uLlCWKT6tcpvepXE5Tb7nFe2</td>\n",
              "      <td>28.698000</td>\n",
              "      <td>77.206000</td>\n",
              "      <td>...</td>\n",
              "      <td>NaN</td>\n",
              "      <td>NaN</td>\n",
              "      <td>NaN</td>\n",
              "      <td>NaN</td>\n",
              "      <td>NaN</td>\n",
              "      <td>NaN</td>\n",
              "      <td>NaN</td>\n",
              "      <td>NaN</td>\n",
              "      <td>NaN</td>\n",
              "      <td>NaN</td>\n",
              "      <td>NaN</td>\n",
              "      <td>NaN</td>\n",
              "      <td>NaN</td>\n",
              "      <td>NaN</td>\n",
              "      <td>NaN</td>\n",
              "      <td>NaN</td>\n",
              "      <td>NaN</td>\n",
              "      <td>NaN</td>\n",
              "      <td>NaN</td>\n",
              "      <td>NaN</td>\n",
              "      <td>NaN</td>\n",
              "      <td>NaN</td>\n",
              "      <td>NaN</td>\n",
              "      <td>NaN</td>\n",
              "      <td>NaN</td>\n",
              "      <td>NaN</td>\n",
              "      <td>NaN</td>\n",
              "      <td>NaN</td>\n",
              "      <td>NaN</td>\n",
              "      <td>NaN</td>\n",
              "      <td>NaN</td>\n",
              "      <td>NaN</td>\n",
              "      <td>NaN</td>\n",
              "      <td>NaN</td>\n",
              "      <td>NaN</td>\n",
              "      <td>NaN</td>\n",
              "      <td>NaN</td>\n",
              "      <td>NaN</td>\n",
              "      <td>NaN</td>\n",
              "      <td>NaN</td>\n",
              "    </tr>\n",
              "    <tr>\n",
              "      <th>3</th>\n",
              "      <td>7vT2uLlCWKT6tcpvepXE5Tb7nFe2</td>\n",
              "      <td>2019-05-07 21:19:20</td>\n",
              "      <td>NaN</td>\n",
              "      <td>28.683289</td>\n",
              "      <td>77.203283</td>\n",
              "      <td>33-e, Block E, Kamla Nagar, Delhi, 110007, India</td>\n",
              "      <td>33-ई, ब्लॉक ई, कमला नगर, दिल्ली, 110007, भारत</td>\n",
              "      <td>7vT2uLlCWKT6tcpvepXE5Tb7nFe2</td>\n",
              "      <td>9876543210</td>\n",
              "      <td>0.707419</td>\n",
              "      <td>28.686240</td>\n",
              "      <td>77.195145</td>\n",
              "      <td>202.0</td>\n",
              "      <td>2019-05-07 21:20:10</td>\n",
              "      <td>-LeHz6Q_jvPZDCsGNIt5</td>\n",
              "      <td>442</td>\n",
              "      <td>-LeHzDncje_POmTobyyV</td>\n",
              "      <td>cash</td>\n",
              "      <td>2.15 km</td>\n",
              "      <td>202.0</td>\n",
              "      <td>26.48</td>\n",
              "      <td>31.78</td>\n",
              "      <td>8 mins</td>\n",
              "      <td>2019-05-07 21:19:13</td>\n",
              "      <td>-LeHz-xk1_J-WmVElPUH</td>\n",
              "      <td>zBoOFyivDISeabYpGUzCNKe3By52</td>\n",
              "      <td>-LeHz6Qbx_On8I6rnHEa</td>\n",
              "      <td>5.544332e+09</td>\n",
              "      <td>Virendra</td>\n",
              "      <td>-LeHzDndreo-VfakyYvx</td>\n",
              "      <td>3.5</td>\n",
              "      <td>28.692583</td>\n",
              "      <td>77.194582</td>\n",
              "      <td>5A, Bhama Shah Marg, Near Gurudwara Nanak Piao...</td>\n",
              "      <td>5A, भामा शाह मार्ग, गुरुद्वारा नानक प्याऊ के प...</td>\n",
              "      <td>2019-05-07 21:19:40</td>\n",
              "      <td>2019-05-07 21:18:00</td>\n",
              "      <td>7vT2uLlCWKT6tcpvepXE5Tb7nFe2</td>\n",
              "      <td>28.689111</td>\n",
              "      <td>77.194208</td>\n",
              "      <td>...</td>\n",
              "      <td>NaN</td>\n",
              "      <td>NaN</td>\n",
              "      <td>NaN</td>\n",
              "      <td>NaN</td>\n",
              "      <td>NaN</td>\n",
              "      <td>NaN</td>\n",
              "      <td>NaN</td>\n",
              "      <td>NaN</td>\n",
              "      <td>NaN</td>\n",
              "      <td>NaN</td>\n",
              "      <td>NaN</td>\n",
              "      <td>NaN</td>\n",
              "      <td>NaN</td>\n",
              "      <td>NaN</td>\n",
              "      <td>NaN</td>\n",
              "      <td>NaN</td>\n",
              "      <td>NaN</td>\n",
              "      <td>NaN</td>\n",
              "      <td>NaN</td>\n",
              "      <td>NaN</td>\n",
              "      <td>NaN</td>\n",
              "      <td>NaN</td>\n",
              "      <td>NaN</td>\n",
              "      <td>NaN</td>\n",
              "      <td>NaN</td>\n",
              "      <td>NaN</td>\n",
              "      <td>NaN</td>\n",
              "      <td>NaN</td>\n",
              "      <td>NaN</td>\n",
              "      <td>NaN</td>\n",
              "      <td>NaN</td>\n",
              "      <td>NaN</td>\n",
              "      <td>NaN</td>\n",
              "      <td>NaN</td>\n",
              "      <td>NaN</td>\n",
              "      <td>NaN</td>\n",
              "      <td>NaN</td>\n",
              "      <td>NaN</td>\n",
              "      <td>NaN</td>\n",
              "      <td>NaN</td>\n",
              "    </tr>\n",
              "    <tr>\n",
              "      <th>4</th>\n",
              "      <td>7vT2uLlCWKT6tcpvepXE5Tb7nFe2</td>\n",
              "      <td>2019-05-08 14:56:55</td>\n",
              "      <td>NaN</td>\n",
              "      <td>28.685740</td>\n",
              "      <td>77.206383</td>\n",
              "      <td>Ramjas College</td>\n",
              "      <td>रामजस कॉलेज</td>\n",
              "      <td>7vT2uLlCWKT6tcpvepXE5Tb7nFe2</td>\n",
              "      <td>9876543210</td>\n",
              "      <td>1.361037</td>\n",
              "      <td>28.702165</td>\n",
              "      <td>77.194101</td>\n",
              "      <td>322.0</td>\n",
              "      <td>2019-05-08 14:57:12</td>\n",
              "      <td>-LeLl871sY1idJkvELUL</td>\n",
              "      <td>572</td>\n",
              "      <td>-LeLl9BpsxBizqo1kcyg</td>\n",
              "      <td>cash</td>\n",
              "      <td>1.79 km</td>\n",
              "      <td>322.0</td>\n",
              "      <td>25.00</td>\n",
              "      <td>37.50</td>\n",
              "      <td>6 mins</td>\n",
              "      <td>2019-05-08 14:56:48</td>\n",
              "      <td>-LeLl3MOWkj-yV9jXqtB</td>\n",
              "      <td>6MargTYvX3gMIxoBFr0nz5skr1K3</td>\n",
              "      <td>-LeLl871sY1idJkvELUM</td>\n",
              "      <td>8.368318e+09</td>\n",
              "      <td>Virendra</td>\n",
              "      <td>-LeLl9BpsxBizqo1kcyh</td>\n",
              "      <td>3.5</td>\n",
              "      <td>28.698443</td>\n",
              "      <td>77.207394</td>\n",
              "      <td>11, Banda Bahadur Marg, Outram Lines, Mukherje...</td>\n",
              "      <td>11, बंदा बहादुर मार्ग, आउट्राम लाइन्स, मुखर्जी...</td>\n",
              "      <td>2019-05-08 14:57:07</td>\n",
              "      <td>2019-05-08 14:56:01</td>\n",
              "      <td>7vT2uLlCWKT6tcpvepXE5Tb7nFe2</td>\n",
              "      <td>28.702165</td>\n",
              "      <td>77.194101</td>\n",
              "      <td>...</td>\n",
              "      <td>NaN</td>\n",
              "      <td>NaN</td>\n",
              "      <td>NaN</td>\n",
              "      <td>NaN</td>\n",
              "      <td>NaN</td>\n",
              "      <td>NaN</td>\n",
              "      <td>NaN</td>\n",
              "      <td>NaN</td>\n",
              "      <td>NaN</td>\n",
              "      <td>NaN</td>\n",
              "      <td>NaN</td>\n",
              "      <td>NaN</td>\n",
              "      <td>NaN</td>\n",
              "      <td>NaN</td>\n",
              "      <td>NaN</td>\n",
              "      <td>NaN</td>\n",
              "      <td>NaN</td>\n",
              "      <td>NaN</td>\n",
              "      <td>NaN</td>\n",
              "      <td>NaN</td>\n",
              "      <td>NaN</td>\n",
              "      <td>NaN</td>\n",
              "      <td>NaN</td>\n",
              "      <td>NaN</td>\n",
              "      <td>NaN</td>\n",
              "      <td>NaN</td>\n",
              "      <td>NaN</td>\n",
              "      <td>NaN</td>\n",
              "      <td>NaN</td>\n",
              "      <td>NaN</td>\n",
              "      <td>NaN</td>\n",
              "      <td>NaN</td>\n",
              "      <td>NaN</td>\n",
              "      <td>NaN</td>\n",
              "      <td>NaN</td>\n",
              "      <td>NaN</td>\n",
              "      <td>NaN</td>\n",
              "      <td>NaN</td>\n",
              "      <td>NaN</td>\n",
              "      <td>NaN</td>\n",
              "    </tr>\n",
              "  </tbody>\n",
              "</table>\n",
              "<p>5 rows × 502 columns</p>\n",
              "</div>"
            ],
            "text/plain": [
              "    acceptedDriverData/driverId  ... responses/1579771490451/7vT2uLlCWKT6tcpvepXE5Tb7nFe2\n",
              "0  7vT2uLlCWKT6tcpvepXE5Tb7nFe2  ...                                                NaN  \n",
              "1  7vT2uLlCWKT6tcpvepXE5Tb7nFe2  ...                                                NaN  \n",
              "2  7vT2uLlCWKT6tcpvepXE5Tb7nFe2  ...                                                NaN  \n",
              "3  7vT2uLlCWKT6tcpvepXE5Tb7nFe2  ...                                                NaN  \n",
              "4  7vT2uLlCWKT6tcpvepXE5Tb7nFe2  ...                                                NaN  \n",
              "\n",
              "[5 rows x 502 columns]"
            ]
          },
          "metadata": {
            "tags": []
          },
          "execution_count": 5
        }
      ]
    },
    {
      "cell_type": "code",
      "metadata": {
        "id": "BYb8k3lVZLi6",
        "colab_type": "code",
        "colab": {
          "base_uri": "https://localhost:8080/",
          "height": 217
        },
        "outputId": "fa39886f-e375-4e28-81f2-8f43930c6446"
      },
      "source": [
        "data.isnull().any()"
      ],
      "execution_count": 6,
      "outputs": [
        {
          "output_type": "execute_result",
          "data": {
            "text/plain": [
              "acceptedDriverData/driverId                             False\n",
              "acceptedTime                                            False\n",
              "customerComments                                         True\n",
              "destination/latitude                                    False\n",
              "destination/longitude                                   False\n",
              "                                                        ...  \n",
              "responses/1579254379221/Gt9KOFgWwcPiUdrohkgAUFoDiXD2     True\n",
              "responses/1579254473606/Gt9KOFgWwcPiUdrohkgAUFoDiXD2     True\n",
              "responses/1579254618196/Gt9KOFgWwcPiUdrohkgAUFoDiXD2     True\n",
              "responses/1579757911919/7vT2uLlCWKT6tcpvepXE5Tb7nFe2     True\n",
              "responses/1579771490451/7vT2uLlCWKT6tcpvepXE5Tb7nFe2     True\n",
              "Length: 502, dtype: bool"
            ]
          },
          "metadata": {
            "tags": []
          },
          "execution_count": 6
        }
      ]
    },
    {
      "cell_type": "code",
      "metadata": {
        "id": "N1jY5B_UZZEZ",
        "colab_type": "code",
        "colab": {
          "base_uri": "https://localhost:8080/",
          "height": 384
        },
        "outputId": "0e158de4-5bdd-468d-9657-ced519651006"
      },
      "source": [
        "data1 = data.copy()\n",
        "data1 = data1.dropna(axis='columns')\n",
        "data1.head()"
      ],
      "execution_count": 7,
      "outputs": [
        {
          "output_type": "execute_result",
          "data": {
            "text/html": [
              "<div>\n",
              "<style scoped>\n",
              "    .dataframe tbody tr th:only-of-type {\n",
              "        vertical-align: middle;\n",
              "    }\n",
              "\n",
              "    .dataframe tbody tr th {\n",
              "        vertical-align: top;\n",
              "    }\n",
              "\n",
              "    .dataframe thead th {\n",
              "        text-align: right;\n",
              "    }\n",
              "</style>\n",
              "<table border=\"1\" class=\"dataframe\">\n",
              "  <thead>\n",
              "    <tr style=\"text-align: right;\">\n",
              "      <th></th>\n",
              "      <th>acceptedDriverData/driverId</th>\n",
              "      <th>acceptedTime</th>\n",
              "      <th>destination/latitude</th>\n",
              "      <th>destination/longitude</th>\n",
              "      <th>destinationLocationEnglish</th>\n",
              "      <th>destinationLocationHindi</th>\n",
              "      <th>driverId</th>\n",
              "      <th>driverMobile</th>\n",
              "      <th>endTime</th>\n",
              "      <th>invoiceId</th>\n",
              "      <th>otpValue</th>\n",
              "      <th>paymentId</th>\n",
              "      <th>paymentMode</th>\n",
              "      <th>projectRideDistance</th>\n",
              "      <th>projectedRideCost</th>\n",
              "      <th>projectedRideCostWithOffer</th>\n",
              "      <th>requestedTime</th>\n",
              "      <th>riderId</th>\n",
              "      <th>riderInvoiceId</th>\n",
              "      <th>riderPaymentId</th>\n",
              "      <th>source/latitude</th>\n",
              "      <th>source/longitude</th>\n",
              "      <th>sourceLocationEnglish</th>\n",
              "      <th>sourceLocationHindi</th>\n",
              "      <th>startTime</th>\n",
              "      <th>startedDriverData/datetime</th>\n",
              "      <th>startedDriverData/driverId</th>\n",
              "      <th>startedDriverData/latitude</th>\n",
              "      <th>startedDriverData/longitude</th>\n",
              "      <th>status</th>\n",
              "      <th>type</th>\n",
              "    </tr>\n",
              "  </thead>\n",
              "  <tbody>\n",
              "    <tr>\n",
              "      <th>0</th>\n",
              "      <td>7vT2uLlCWKT6tcpvepXE5Tb7nFe2</td>\n",
              "      <td>2019-05-06 21:34:41</td>\n",
              "      <td>28.685740</td>\n",
              "      <td>77.206383</td>\n",
              "      <td>Ramjas College</td>\n",
              "      <td>रामजस कॉलेज</td>\n",
              "      <td>7vT2uLlCWKT6tcpvepXE5Tb7nFe2</td>\n",
              "      <td>9876543210</td>\n",
              "      <td>2019-05-06 21:35:19</td>\n",
              "      <td>-LeCt0L8PqXL491I7YGn</td>\n",
              "      <td>774</td>\n",
              "      <td>-LeCt61DF-A2B7uF4Pu6</td>\n",
              "      <td>cash</td>\n",
              "      <td>1.79 km</td>\n",
              "      <td>25.00</td>\n",
              "      <td>30.00</td>\n",
              "      <td>2019-05-06 21:34:37</td>\n",
              "      <td>6MargTYvX3gMIxoBFr0nz5skr1K3</td>\n",
              "      <td>-LeCt0L8PqXL491I7YGo</td>\n",
              "      <td>-LeCt62f5Rtbnh-PsxKL</td>\n",
              "      <td>28.698443</td>\n",
              "      <td>77.207394</td>\n",
              "      <td>11, Banda Bahadur Marg, Outram Lines, Mukherje...</td>\n",
              "      <td>11, बंदा बहादुर मार्ग, आउट्राम लाइन्स, मुखर्जी...</td>\n",
              "      <td>2019-05-06 21:34:56</td>\n",
              "      <td>2019-05-06 21:34:00</td>\n",
              "      <td>7vT2uLlCWKT6tcpvepXE5Tb7nFe2</td>\n",
              "      <td>28.694188</td>\n",
              "      <td>77.189562</td>\n",
              "      <td>Trip Ended</td>\n",
              "      <td>Solo</td>\n",
              "    </tr>\n",
              "    <tr>\n",
              "      <th>1</th>\n",
              "      <td>7vT2uLlCWKT6tcpvepXE5Tb7nFe2</td>\n",
              "      <td>2019-05-06 21:48:23</td>\n",
              "      <td>28.685740</td>\n",
              "      <td>77.206383</td>\n",
              "      <td>Ramjas College</td>\n",
              "      <td>रामजस कॉलेज</td>\n",
              "      <td>7vT2uLlCWKT6tcpvepXE5Tb7nFe2</td>\n",
              "      <td>9876543210</td>\n",
              "      <td>2019-05-06 21:50:57</td>\n",
              "      <td>-LeCwLXMwfkcuv8mknV3</td>\n",
              "      <td>869</td>\n",
              "      <td>-LeCwfVlIXmrkiVLPE-9</td>\n",
              "      <td>cash</td>\n",
              "      <td>1.79 km</td>\n",
              "      <td>25.00</td>\n",
              "      <td>30.00</td>\n",
              "      <td>2019-05-06 21:48:21</td>\n",
              "      <td>6MargTYvX3gMIxoBFr0nz5skr1K3</td>\n",
              "      <td>-LeCwLXN5PeQuI1s3UMj</td>\n",
              "      <td>-LeCwfVmI_st7R6Mgsch</td>\n",
              "      <td>28.698443</td>\n",
              "      <td>77.207394</td>\n",
              "      <td>11, Banda Bahadur Marg, Outram Lines, Mukherje...</td>\n",
              "      <td>11, बंदा बहादुर मार्ग, आउट्राम लाइन्स, मुखर्जी...</td>\n",
              "      <td>2019-05-06 21:49:32</td>\n",
              "      <td>2019-05-06 21:48:00</td>\n",
              "      <td>7vT2uLlCWKT6tcpvepXE5Tb7nFe2</td>\n",
              "      <td>28.694144</td>\n",
              "      <td>77.189718</td>\n",
              "      <td>Trip Ended</td>\n",
              "      <td>Solo</td>\n",
              "    </tr>\n",
              "    <tr>\n",
              "      <th>2</th>\n",
              "      <td>7vT2uLlCWKT6tcpvepXE5Tb7nFe2</td>\n",
              "      <td>2019-05-07 11:36:10</td>\n",
              "      <td>28.685740</td>\n",
              "      <td>77.206383</td>\n",
              "      <td>Ramjas College</td>\n",
              "      <td>रामजस कॉलेज</td>\n",
              "      <td>7vT2uLlCWKT6tcpvepXE5Tb7nFe2</td>\n",
              "      <td>9876543210</td>\n",
              "      <td>2019-05-07 11:36:43</td>\n",
              "      <td>-LeFtcddkFsmfab0LtaE</td>\n",
              "      <td>536</td>\n",
              "      <td>-LeFtfX5dO2he9Ry_qg5</td>\n",
              "      <td>cash</td>\n",
              "      <td>1.79 km</td>\n",
              "      <td>25.00</td>\n",
              "      <td>30.00</td>\n",
              "      <td>2019-05-07 11:36:06</td>\n",
              "      <td>6MargTYvX3gMIxoBFr0nz5skr1K3</td>\n",
              "      <td>-LeFtcdhyV0EVa5bj1s1</td>\n",
              "      <td>-LeFtfX6H8Ius2GdH6WP</td>\n",
              "      <td>28.698443</td>\n",
              "      <td>77.207394</td>\n",
              "      <td>11, Banda Bahadur Marg, Outram Lines, Mukherje...</td>\n",
              "      <td>11, बंदा बहादुर मार्ग, आउट्राम लाइन्स, मुखर्जी...</td>\n",
              "      <td>2019-05-07 11:36:31</td>\n",
              "      <td>2019-05-07 11:36:00</td>\n",
              "      <td>7vT2uLlCWKT6tcpvepXE5Tb7nFe2</td>\n",
              "      <td>28.698000</td>\n",
              "      <td>77.206000</td>\n",
              "      <td>Trip Ended</td>\n",
              "      <td>Solo</td>\n",
              "    </tr>\n",
              "    <tr>\n",
              "      <th>3</th>\n",
              "      <td>7vT2uLlCWKT6tcpvepXE5Tb7nFe2</td>\n",
              "      <td>2019-05-07 21:19:20</td>\n",
              "      <td>28.683289</td>\n",
              "      <td>77.203283</td>\n",
              "      <td>33-e, Block E, Kamla Nagar, Delhi, 110007, India</td>\n",
              "      <td>33-ई, ब्लॉक ई, कमला नगर, दिल्ली, 110007, भारत</td>\n",
              "      <td>7vT2uLlCWKT6tcpvepXE5Tb7nFe2</td>\n",
              "      <td>9876543210</td>\n",
              "      <td>2019-05-07 21:20:10</td>\n",
              "      <td>-LeHz6Q_jvPZDCsGNIt5</td>\n",
              "      <td>442</td>\n",
              "      <td>-LeHzDncje_POmTobyyV</td>\n",
              "      <td>cash</td>\n",
              "      <td>2.15 km</td>\n",
              "      <td>26.48</td>\n",
              "      <td>31.78</td>\n",
              "      <td>2019-05-07 21:19:13</td>\n",
              "      <td>zBoOFyivDISeabYpGUzCNKe3By52</td>\n",
              "      <td>-LeHz6Qbx_On8I6rnHEa</td>\n",
              "      <td>-LeHzDndreo-VfakyYvx</td>\n",
              "      <td>28.692583</td>\n",
              "      <td>77.194582</td>\n",
              "      <td>5A, Bhama Shah Marg, Near Gurudwara Nanak Piao...</td>\n",
              "      <td>5A, भामा शाह मार्ग, गुरुद्वारा नानक प्याऊ के प...</td>\n",
              "      <td>2019-05-07 21:19:40</td>\n",
              "      <td>2019-05-07 21:18:00</td>\n",
              "      <td>7vT2uLlCWKT6tcpvepXE5Tb7nFe2</td>\n",
              "      <td>28.689111</td>\n",
              "      <td>77.194208</td>\n",
              "      <td>Trip Ended</td>\n",
              "      <td>Solo</td>\n",
              "    </tr>\n",
              "    <tr>\n",
              "      <th>4</th>\n",
              "      <td>7vT2uLlCWKT6tcpvepXE5Tb7nFe2</td>\n",
              "      <td>2019-05-08 14:56:55</td>\n",
              "      <td>28.685740</td>\n",
              "      <td>77.206383</td>\n",
              "      <td>Ramjas College</td>\n",
              "      <td>रामजस कॉलेज</td>\n",
              "      <td>7vT2uLlCWKT6tcpvepXE5Tb7nFe2</td>\n",
              "      <td>9876543210</td>\n",
              "      <td>2019-05-08 14:57:12</td>\n",
              "      <td>-LeLl871sY1idJkvELUL</td>\n",
              "      <td>572</td>\n",
              "      <td>-LeLl9BpsxBizqo1kcyg</td>\n",
              "      <td>cash</td>\n",
              "      <td>1.79 km</td>\n",
              "      <td>25.00</td>\n",
              "      <td>37.50</td>\n",
              "      <td>2019-05-08 14:56:48</td>\n",
              "      <td>6MargTYvX3gMIxoBFr0nz5skr1K3</td>\n",
              "      <td>-LeLl871sY1idJkvELUM</td>\n",
              "      <td>-LeLl9BpsxBizqo1kcyh</td>\n",
              "      <td>28.698443</td>\n",
              "      <td>77.207394</td>\n",
              "      <td>11, Banda Bahadur Marg, Outram Lines, Mukherje...</td>\n",
              "      <td>11, बंदा बहादुर मार्ग, आउट्राम लाइन्स, मुखर्जी...</td>\n",
              "      <td>2019-05-08 14:57:07</td>\n",
              "      <td>2019-05-08 14:56:01</td>\n",
              "      <td>7vT2uLlCWKT6tcpvepXE5Tb7nFe2</td>\n",
              "      <td>28.702165</td>\n",
              "      <td>77.194101</td>\n",
              "      <td>Trip Ended</td>\n",
              "      <td>Solo</td>\n",
              "    </tr>\n",
              "  </tbody>\n",
              "</table>\n",
              "</div>"
            ],
            "text/plain": [
              "    acceptedDriverData/driverId         acceptedTime  ...      status  type\n",
              "0  7vT2uLlCWKT6tcpvepXE5Tb7nFe2  2019-05-06 21:34:41  ...  Trip Ended  Solo\n",
              "1  7vT2uLlCWKT6tcpvepXE5Tb7nFe2  2019-05-06 21:48:23  ...  Trip Ended  Solo\n",
              "2  7vT2uLlCWKT6tcpvepXE5Tb7nFe2  2019-05-07 11:36:10  ...  Trip Ended  Solo\n",
              "3  7vT2uLlCWKT6tcpvepXE5Tb7nFe2  2019-05-07 21:19:20  ...  Trip Ended  Solo\n",
              "4  7vT2uLlCWKT6tcpvepXE5Tb7nFe2  2019-05-08 14:56:55  ...  Trip Ended  Solo\n",
              "\n",
              "[5 rows x 31 columns]"
            ]
          },
          "metadata": {
            "tags": []
          },
          "execution_count": 7
        }
      ]
    },
    {
      "cell_type": "code",
      "metadata": {
        "id": "iNkj5DiiZjIB",
        "colab_type": "code",
        "colab": {
          "base_uri": "https://localhost:8080/",
          "height": 33
        },
        "outputId": "eacc5538-4b74-4e9e-a02f-c262e44b8b7e"
      },
      "source": [
        "data1.shape"
      ],
      "execution_count": 8,
      "outputs": [
        {
          "output_type": "execute_result",
          "data": {
            "text/plain": [
              "(1257, 31)"
            ]
          },
          "metadata": {
            "tags": []
          },
          "execution_count": 8
        }
      ]
    },
    {
      "cell_type": "code",
      "metadata": {
        "id": "n5T4gbogZlaG",
        "colab_type": "code",
        "colab": {
          "base_uri": "https://localhost:8080/",
          "height": 217
        },
        "outputId": "0f5e73b6-8313-414d-bf12-1d3840b02072"
      },
      "source": [
        "data1.columns"
      ],
      "execution_count": 9,
      "outputs": [
        {
          "output_type": "execute_result",
          "data": {
            "text/plain": [
              "Index(['acceptedDriverData/driverId', 'acceptedTime', 'destination/latitude',\n",
              "       'destination/longitude', 'destinationLocationEnglish',\n",
              "       'destinationLocationHindi', 'driverId', 'driverMobile', 'endTime',\n",
              "       'invoiceId', 'otpValue', 'paymentId', 'paymentMode',\n",
              "       'projectRideDistance', 'projectedRideCost',\n",
              "       'projectedRideCostWithOffer', 'requestedTime', 'riderId',\n",
              "       'riderInvoiceId', 'riderPaymentId', 'source/latitude',\n",
              "       'source/longitude', 'sourceLocationEnglish', 'sourceLocationHindi',\n",
              "       'startTime', 'startedDriverData/datetime', 'startedDriverData/driverId',\n",
              "       'startedDriverData/latitude', 'startedDriverData/longitude', 'status',\n",
              "       'type'],\n",
              "      dtype='object')"
            ]
          },
          "metadata": {
            "tags": []
          },
          "execution_count": 9
        }
      ]
    },
    {
      "cell_type": "code",
      "metadata": {
        "id": "wpycQv3pZnHO",
        "colab_type": "code",
        "colab": {}
      },
      "source": [
        "#convert the locations to float32 and datetime to str\n",
        "datatypes = {'acceptedTime': 'str',\n",
        "            'source/latitude': 'float32',\n",
        "            'source/longitude':'float32'}"
      ],
      "execution_count": 0,
      "outputs": []
    },
    {
      "cell_type": "code",
      "metadata": {
        "id": "LjgiNIeVZovA",
        "colab_type": "code",
        "colab": {}
      },
      "source": [
        "columns = list(datatypes.keys())"
      ],
      "execution_count": 0,
      "outputs": []
    },
    {
      "cell_type": "code",
      "metadata": {
        "id": "jOijMGGXZqF7",
        "colab_type": "code",
        "colab": {
          "base_uri": "https://localhost:8080/",
          "height": 33
        },
        "outputId": "ee1a07d0-7dc0-4278-90d8-a9d2176537be"
      },
      "source": [
        "columns"
      ],
      "execution_count": 12,
      "outputs": [
        {
          "output_type": "execute_result",
          "data": {
            "text/plain": [
              "['acceptedTime', 'source/latitude', 'source/longitude']"
            ]
          },
          "metadata": {
            "tags": []
          },
          "execution_count": 12
        }
      ]
    },
    {
      "cell_type": "code",
      "metadata": {
        "id": "YxaweyctZriW",
        "colab_type": "code",
        "colab": {
          "base_uri": "https://localhost:8080/",
          "height": 33
        },
        "outputId": "11a8b461-7b18-4f4a-a0e8-edc37b729e7c"
      },
      "source": [
        "data1.shape"
      ],
      "execution_count": 13,
      "outputs": [
        {
          "output_type": "execute_result",
          "data": {
            "text/plain": [
              "(1257, 31)"
            ]
          },
          "metadata": {
            "tags": []
          },
          "execution_count": 13
        }
      ]
    },
    {
      "cell_type": "code",
      "metadata": {
        "id": "AZh-SL8LZtCo",
        "colab_type": "code",
        "colab": {}
      },
      "source": [
        "chunksize = 1257"
      ],
      "execution_count": 0,
      "outputs": []
    },
    {
      "cell_type": "code",
      "metadata": {
        "id": "SHzE7F7EZua7",
        "colab_type": "code",
        "colab": {
          "base_uri": "https://localhost:8080/",
          "height": 33
        },
        "outputId": "5627c32a-257c-46fc-8e3a-253881658412"
      },
      "source": [
        "# list to hold the batch dataframe\n",
        "df_list = []\n",
        "\n",
        "for df_chunk in tqdm(pd.read_csv('/content/drive/My Drive/BERT/testRideData.csv', dtype=datatypes,chunksize=chunksize,usecols=columns)):\n",
        "    # Alternatively, append the chunk to list and merge all\n",
        "    df_list.append(df_chunk)"
      ],
      "execution_count": 16,
      "outputs": [
        {
          "output_type": "stream",
          "text": [
            "1it [00:00, 32.02it/s]\n"
          ],
          "name": "stderr"
        }
      ]
    },
    {
      "cell_type": "code",
      "metadata": {
        "id": "6yOIp9xgZwN1",
        "colab_type": "code",
        "colab": {
          "base_uri": "https://localhost:8080/",
          "height": 251
        },
        "outputId": "b79ac01e-e2a9-49b6-ff8a-3388b696797a"
      },
      "source": [
        "df_list"
      ],
      "execution_count": 17,
      "outputs": [
        {
          "output_type": "execute_result",
          "data": {
            "text/plain": [
              "[             acceptedTime  source/latitude  source/longitude\n",
              " 0     2019-05-06 21:34:41        28.698442         77.207397\n",
              " 1     2019-05-06 21:48:23        28.698442         77.207397\n",
              " 2     2019-05-07 11:36:10        28.698442         77.207397\n",
              " 3     2019-05-07 21:19:20        28.692583         77.194580\n",
              " 4     2019-05-08 14:56:55        28.698442         77.207397\n",
              " ...                   ...              ...               ...\n",
              " 1252  2020-01-22 18:01:13        28.694111         77.189728\n",
              " 1253  2020-01-23 11:05:16        28.694080         77.189713\n",
              " 1254  2020-01-23 11:08:31        28.694082         77.189713\n",
              " 1255  2020-01-23 14:49:15        28.694113         77.189735\n",
              " 1256  2020-01-23 14:54:50        28.694113         77.189705\n",
              " \n",
              " [1257 rows x 3 columns]]"
            ]
          },
          "metadata": {
            "tags": []
          },
          "execution_count": 17
        }
      ]
    },
    {
      "cell_type": "code",
      "metadata": {
        "id": "PC1D3TU_Z3Qh",
        "colab_type": "code",
        "colab": {}
      },
      "source": [
        "df_list1 = df_list.copy()"
      ],
      "execution_count": 0,
      "outputs": []
    },
    {
      "cell_type": "code",
      "metadata": {
        "id": "00zyGEzxZ5P3",
        "colab_type": "code",
        "colab": {
          "base_uri": "https://localhost:8080/",
          "height": 150
        },
        "outputId": "81871585-082e-41d6-d7ac-77f5e7f2870f"
      },
      "source": [
        "# Merge them all\n",
        "ride_df = pd.concat(df_list1)\n",
        "ride_df.info()"
      ],
      "execution_count": 19,
      "outputs": [
        {
          "output_type": "stream",
          "text": [
            "<class 'pandas.core.frame.DataFrame'>\n",
            "RangeIndex: 1257 entries, 0 to 1256\n",
            "Data columns (total 3 columns):\n",
            "acceptedTime        1257 non-null object\n",
            "source/latitude     1257 non-null float32\n",
            "source/longitude    1257 non-null float32\n",
            "dtypes: float32(2), object(1)\n",
            "memory usage: 19.8+ KB\n"
          ],
          "name": "stdout"
        }
      ]
    },
    {
      "cell_type": "code",
      "metadata": {
        "id": "iBHZHCAgZ6d2",
        "colab_type": "code",
        "colab": {
          "base_uri": "https://localhost:8080/",
          "height": 638
        },
        "outputId": "571d60f9-2992-4619-b953-ce17f2757749"
      },
      "source": [
        "ride_df.columns = ['dt','lat','lng']\n",
        "test = ride_df.sample(frac=0.05, replace=False, random_state=1)\n",
        "test.plot(x='lng', y='lat', style='.',alpha=0.2,figsize=(10,10));\n",
        "plt.title('Pickup_Locations')"
      ],
      "execution_count": 20,
      "outputs": [
        {
          "output_type": "execute_result",
          "data": {
            "text/plain": [
              "Text(0.5, 1.0, 'Pickup_Locations')"
            ]
          },
          "metadata": {
            "tags": []
          },
          "execution_count": 20
        },
        {
          "output_type": "display_data",
          "data": {
            "image/png": "[encoded data removed]",
            "text/plain": [
              "<Figure size 720x720 with 1 Axes>"
            ]
          },
          "metadata": {
            "tags": []
          }
        }
      ]
    },
    {
      "cell_type": "code",
      "metadata": {
        "id": "b9Wi0WpLZ76q",
        "colab_type": "code",
        "colab": {
          "base_uri": "https://localhost:8080/",
          "height": 84
        },
        "outputId": "f15a5377-600f-408a-936a-1f4559d72a5f"
      },
      "source": [
        "ride_df.min()"
      ],
      "execution_count": 21,
      "outputs": [
        {
          "output_type": "execute_result",
          "data": {
            "text/plain": [
              "dt     2019-05-06 21:34:41\n",
              "lat                 22.684\n",
              "lng                75.8565\n",
              "dtype: object"
            ]
          },
          "metadata": {
            "tags": []
          },
          "execution_count": 21
        }
      ]
    },
    {
      "cell_type": "code",
      "metadata": {
        "id": "fdwFBuG-Z979",
        "colab_type": "code",
        "colab": {
          "base_uri": "https://localhost:8080/",
          "height": 84
        },
        "outputId": "7368c275-508b-4399-b1bc-459254164b63"
      },
      "source": [
        "ride_df.max()"
      ],
      "execution_count": 22,
      "outputs": [
        {
          "output_type": "execute_result",
          "data": {
            "text/plain": [
              "dt     2020-01-23 14:54:50\n",
              "lat                 28.705\n",
              "lng                77.2158\n",
              "dtype: object"
            ]
          },
          "metadata": {
            "tags": []
          },
          "execution_count": 22
        }
      ]
    },
    {
      "cell_type": "code",
      "metadata": {
        "id": "ptHEvMSaZ_D3",
        "colab_type": "code",
        "colab": {
          "base_uri": "https://localhost:8080/",
          "height": 563
        },
        "outputId": "f86eba9d-3b9f-44ea-d1ea-2b80c8d817d3"
      },
      "source": [
        "test = test[ride_df.lat>22.683]\n",
        "test = test[test.lat<28.706]\n",
        "test.plot(x='lng',y='lat',style='.',alpha=0.2,figsize=(8,8),xlim=77.210,ylim=28.6);\n",
        "plt.title('Pickup Locations')"
      ],
      "execution_count": 23,
      "outputs": [
        {
          "output_type": "stream",
          "text": [
            "/usr/local/lib/python3.6/dist-packages/ipykernel_launcher.py:1: UserWarning: Boolean Series key will be reindexed to match DataFrame index.\n",
            "  \"\"\"Entry point for launching an IPython kernel.\n"
          ],
          "name": "stderr"
        },
        {
          "output_type": "execute_result",
          "data": {
            "text/plain": [
              "Text(0.5, 1.0, 'Pickup Locations')"
            ]
          },
          "metadata": {
            "tags": []
          },
          "execution_count": 23
        },
        {
          "output_type": "display_data",
          "data": {
            "image/png": "[encoded data removed]",
            "text/plain": [
              "<Figure size 576x576 with 1 Axes>"
            ]
          },
          "metadata": {
            "tags": []
          }
        }
      ]
    },
    {
      "cell_type": "code",
      "metadata": {
        "id": "K5lCGTJ9aAiF",
        "colab_type": "code",
        "colab": {}
      },
      "source": [
        "def counts_by_hexagon(df, resolution):\n",
        "    \"\"\"\n",
        "    Use h3.geo_to_h3 to index each data point into the spatial index of the specified resolution.\n",
        "    Use h3.h3_to_geo_boundary to obtain the geometries of these hexagons\n",
        "    \n",
        "    Ex counts_by_hexagon(data, 9)\n",
        "    \"\"\"\n",
        "    df = df[[\"lat\",\"lng\"]]\n",
        "    \n",
        "    df[\"hex_id\"] = df.apply(lambda row: h3.geo_to_h3(row[\"lat\"], row[\"lng\"], resolution), axis = 1)\n",
        "    \n",
        "    df_aggreg = df.groupby(by = \"hex_id\").size().reset_index()\n",
        "    df_aggreg.columns = [\"hex_id\", \"value\"]\n",
        "    \n",
        "    df_aggreg[\"geometry\"] =  df_aggreg.hex_id.apply(lambda x: \n",
        "                                                           {    \"type\" : \"Polygon\",\n",
        "                                                                 \"coordinates\": \n",
        "                                                                [h3.h3_to_geo_boundary(h3_address=x,geo_json=True)]\n",
        "                                                            }\n",
        "                                                        )\n",
        "    \n",
        "    return df_aggreg\n",
        "\n",
        "def hexagons_dataframe_to_geojson(df_hex, file_output = None):\n",
        "    \"\"\"\n",
        "    Produce the GeoJSON for a dataframe that has a geometry column in geojson \n",
        "    format already, along with the columns hex_id and value\n",
        "    \n",
        "    Ex counts_by_hexagon(data)\n",
        "    \"\"\"    \n",
        "    list_features = []\n",
        "    \n",
        "    for i,row in df_hex.iterrows():\n",
        "        feature = Feature(geometry = row[\"geometry\"] , id=row[\"hex_id\"], properties = {\"value\" : row[\"value\"]})\n",
        "        list_features.append(feature)\n",
        "        \n",
        "    feat_collection = FeatureCollection(list_features)\n",
        "    \n",
        "    geojson_result = json.dumps(feat_collection)\n",
        "    \n",
        "    #optionally write to file\n",
        "    if file_output is not None:\n",
        "        with open(file_output,\"w\") as f:\n",
        "            json.dump(feat_collection,f)\n",
        "    \n",
        "    return geojson_result\n",
        "\n",
        "\n",
        "def choropleth_map(df_aggreg, border_color = 'black', fill_opacity = 0.7, initial_map = None, with_legend = False,\n",
        "                   kind = \"linear\"):\n",
        "    \n",
        "    \"\"\"\n",
        "    Creates choropleth maps given the aggregated data.\n",
        "    \"\"\"    \n",
        "    #colormap\n",
        "    min_value = df_aggreg[\"value\"].min()\n",
        "    max_value = df_aggreg[\"value\"].max()\n",
        "    m = round ((min_value + max_value ) / 2 , 0)\n",
        "    \n",
        "    #take resolution from the first row\n",
        "    res = h3.h3_get_resolution(df_aggreg.loc[0,'hex_id'])\n",
        "    \n",
        "    if initial_map is None:\n",
        "        initial_map = Map(location= [28.600000, 77.100000], zoom_start=12, tiles=\"cartodbpositron\",attr= '© <a href=\"http://www.openstreetmap.org/copyright\">OpenStreetMap</a> contributors © <a href=\"http://cartodb.com/attributions#basemaps\">CartoDB</a>')\n",
        "        \n",
        "\n",
        "    #the colormap \n",
        "    #color names accepted https://github.com/python-visualization/branca/blob/master/branca/_cnames.json\n",
        "    if kind == \"linear\":\n",
        "        custom_cm = cm.LinearColormap(['green','yellow','red'], vmin=min_value, vmax=max_value)\n",
        "    elif kind == \"outlier\":\n",
        "        #for outliers, values would be -11,0,1\n",
        "        custom_cm = cm.LinearColormap(['blue','white','red'], vmin=min_value, vmax=max_value)\n",
        "    elif kind == \"filled_nulls\":\n",
        "        custom_cm = cm.LinearColormap(['sienna','green','yellow','red'], \n",
        "                                      index=[0,min_value,m,max_value],vmin=min_value,vmax=max_value)\n",
        "   \n",
        "\n",
        "    #create geojson data from dataframe\n",
        "    geojson_data = hexagons_dataframe_to_geojson(df_hex = df_aggreg)\n",
        "    \n",
        "    #plot on map\n",
        "    name_layer = \"Choropleth \" + str(res)\n",
        "    if kind != \"linear\":\n",
        "        name_layer = name_layer + kind\n",
        "        \n",
        "    GeoJson(\n",
        "        geojson_data,\n",
        "        style_function=lambda feature: {\n",
        "            'fillColor': custom_cm(feature['properties']['value']),\n",
        "            'color': border_color,\n",
        "            'weight': 1,\n",
        "            'fillOpacity': fill_opacity \n",
        "        }, \n",
        "        name = name_layer\n",
        "    ).add_to(initial_map)\n",
        "    #add legend (not recommended if multiple layers)\n",
        "    if with_legend == True:\n",
        "        custom_cm.add_to(initial_map)\n",
        "    \n",
        "    \n",
        "    \n",
        "    return initial_map\n",
        "\n",
        "def plot_scatter(df, metric_col, x='lng', y='lat', marker='.', alpha=1, figsize=(16,12), colormap='viridis'):\n",
        "    \"\"\"\n",
        "    Scatter plot function for h3 indexed objects\n",
        "    \"\"\"    \n",
        "    df.plot.scatter(x=x, y=y, c=metric_col, title=metric_col\n",
        "                    , edgecolors='none', colormap=colormap, marker=marker, alpha=alpha, figsize=figsize);\n",
        "    plt.xticks([], []); plt.yticks([], [])\n"
      ],
      "execution_count": 0,
      "outputs": []
    },
    {
      "cell_type": "code",
      "metadata": {
        "id": "94Seu9HZaCVD",
        "colab_type": "code",
        "colab": {
          "base_uri": "https://localhost:8080/",
          "height": 782
        },
        "outputId": "f64a671e-cac4-4bce-a1ef-9af9eb49be2c"
      },
      "source": [
        "df_aggreg = counts_by_hexagon(df = test, resolution = 9)\n",
        "df_aggreg.sort_values(by = \"value\", ascending = False, inplace = True)\n",
        "# Creates a map using Folium\n",
        "hexmap = choropleth_map(df_aggreg = df_aggreg, with_legend = True)\n",
        "hexmap"
      ],
      "execution_count": 54,
      "outputs": [
        {
          "output_type": "execute_result",
          "data": {
            "text/html": [
              "<div style=\"width:100%;\"><div style=\"position:relative;width:100%;height:0;padding-bottom:60%;\"><iframe src=\"data:text/html;charset=utf-8;base64,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\" style=\"position:absolute;width:100%;height:100%;left:0;top:0;border:none !important;\" allowfullscreen webkitallowfullscreen mozallowfullscreen></iframe></div></div>"
            ],
            "text/plain": [
              "<folium.folium.Map at 0x7f556a522278>"
            ]
          },
          "metadata": {
            "tags": []
          },
          "execution_count": 54
        }
      ]
    },
    {
      "cell_type": "code",
      "metadata": {
        "id": "hFAlZL7saEQP",
        "colab_type": "code",
        "colab": {
          "base_uri": "https://localhost:8080/",
          "height": 228
        },
        "outputId": "f47c7aef-c3e8-4345-ea5c-2ed3f033673d"
      },
      "source": [
        "df_aggreg_9 = counts_by_hexagon(df = dfgeo, resolution = 9)\n",
        "df_aggreg_8 = counts_by_hexagon(df = dfgeo, resolution = 8)\n",
        "df_aggreg_7 = counts_by_hexagon(df = dfgeo, resolution = 7)\n",
        "df_aggreg_6 = counts_by_hexagon(df = dfgeo, resolution =6)\n",
        "\n",
        "\n",
        "hexmap9 = choropleth_map(df_aggreg = df_aggreg_9,with_legend = False)\n",
        "hexmap8 = choropleth_map(df_aggreg = df_aggreg_8, initial_map = hexmap9, with_legend = False)\n",
        "hexmap7 = choropleth_map(df_aggreg = df_aggreg_7, initial_map = hexmap8 , with_legend = False)\n",
        "hexmap6 = choropleth_map(df_aggreg = df_aggreg_6, initial_map = hexmap7, with_legend = False)\n",
        "\n",
        "folium.map.LayerControl('bottomright', collapsed=False).add_to(hexmap6)\n",
        "\n",
        "hexmap6.save('source/choropleth_multiple_res.html')\n",
        "hexmap6"
      ],
      "execution_count": 53,
      "outputs": [
        {
          "output_type": "error",
          "ename": "NameError",
          "evalue": "ignored",
          "traceback": [
            "\u001b[0;31m---------------------------------------------------------------------------\u001b[0m",
            "\u001b[0;31mNameError\u001b[0m                                 Traceback (most recent call last)",
            "\u001b[0;32m<ipython-input-53-f400db6c15d6>\u001b[0m in \u001b[0;36m<module>\u001b[0;34m()\u001b[0m\n\u001b[0;32m----> 1\u001b[0;31m \u001b[0mdf_aggreg_9\u001b[0m \u001b[0;34m=\u001b[0m \u001b[0mcounts_by_hexagon\u001b[0m\u001b[0;34m(\u001b[0m\u001b[0mdf\u001b[0m \u001b[0;34m=\u001b[0m \u001b[0mdfgeo\u001b[0m\u001b[0;34m,\u001b[0m \u001b[0mresolution\u001b[0m \u001b[0;34m=\u001b[0m \u001b[0;36m9\u001b[0m\u001b[0;34m)\u001b[0m\u001b[0;34m\u001b[0m\u001b[0;34m\u001b[0m\u001b[0m\n\u001b[0m\u001b[1;32m      2\u001b[0m \u001b[0mdf_aggreg_8\u001b[0m \u001b[0;34m=\u001b[0m \u001b[0mcounts_by_hexagon\u001b[0m\u001b[0;34m(\u001b[0m\u001b[0mdf\u001b[0m \u001b[0;34m=\u001b[0m \u001b[0mdfgeo\u001b[0m\u001b[0;34m,\u001b[0m \u001b[0mresolution\u001b[0m \u001b[0;34m=\u001b[0m \u001b[0;36m8\u001b[0m\u001b[0;34m)\u001b[0m\u001b[0;34m\u001b[0m\u001b[0;34m\u001b[0m\u001b[0m\n\u001b[1;32m      3\u001b[0m \u001b[0mdf_aggreg_7\u001b[0m \u001b[0;34m=\u001b[0m \u001b[0mcounts_by_hexagon\u001b[0m\u001b[0;34m(\u001b[0m\u001b[0mdf\u001b[0m \u001b[0;34m=\u001b[0m \u001b[0mdfgeo\u001b[0m\u001b[0;34m,\u001b[0m \u001b[0mresolution\u001b[0m \u001b[0;34m=\u001b[0m \u001b[0;36m7\u001b[0m\u001b[0;34m)\u001b[0m\u001b[0;34m\u001b[0m\u001b[0;34m\u001b[0m\u001b[0m\n\u001b[1;32m      4\u001b[0m \u001b[0mdf_aggreg_6\u001b[0m \u001b[0;34m=\u001b[0m \u001b[0mcounts_by_hexagon\u001b[0m\u001b[0;34m(\u001b[0m\u001b[0mdf\u001b[0m \u001b[0;34m=\u001b[0m \u001b[0mdfgeo\u001b[0m\u001b[0;34m,\u001b[0m \u001b[0mresolution\u001b[0m \u001b[0;34m=\u001b[0m\u001b[0;36m6\u001b[0m\u001b[0;34m)\u001b[0m\u001b[0;34m\u001b[0m\u001b[0;34m\u001b[0m\u001b[0m\n\u001b[1;32m      5\u001b[0m \u001b[0;34m\u001b[0m\u001b[0m\n",
            "\u001b[0;31mNameError\u001b[0m: name 'dfgeo' is not defined"
          ]
        }
      ]
    },
    {
      "cell_type": "code",
      "metadata": {
        "id": "0M_ytEFReK2s",
        "colab_type": "code",
        "colab": {}
      },
      "source": [
        ""
      ],
      "execution_count": 0,
      "outputs": []
    }
  ]
}